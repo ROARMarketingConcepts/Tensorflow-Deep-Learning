{
  "nbformat": 4,
  "nbformat_minor": 0,
  "metadata": {
    "colab": {
      "provenance": []
    },
    "kernelspec": {
      "name": "python3",
      "display_name": "Python 3"
    },
    "language_info": {
      "name": "python"
    }
  },
  "cells": [
    {
      "cell_type": "markdown",
      "source": [
        "# Review of Tensors"
      ],
      "metadata": {
        "id": "Y9B6rHiWUZ6c"
      }
    },
    {
      "cell_type": "markdown",
      "source": [
        "In this notebook, we will cover:\n",
        "\n",
        "* Introduction to tensors\n",
        "* Getting info from tensors\n",
        "* Manipulating tensors\n",
        "* Tensors & NumPy\n",
        "* Using @tf.function (a way to speed up your regular Python functions)\n",
        "* Using GPUs with TensorFlow (or TPUs)\n",
        "* Exercises to try\n"
      ],
      "metadata": {
        "id": "3uSbX8QHTzPo"
      }
    },
    {
      "cell_type": "code",
      "source": [
        "import tensorflow as tf\n",
        "print(tf.__version__)"
      ],
      "metadata": {
        "colab": {
          "base_uri": "https://localhost:8080/"
        },
        "id": "IoYCimGGUzAo",
        "outputId": "6a43c64f-560a-47fb-8474-b6f26f63db08"
      },
      "execution_count": 1,
      "outputs": [
        {
          "output_type": "stream",
          "name": "stdout",
          "text": [
            "2.18.0\n"
          ]
        }
      ]
    },
    {
      "cell_type": "markdown",
      "source": [
        "Create tensors with `tf.constant()`"
      ],
      "metadata": {
        "id": "y2rXwluHVKiR"
      }
    },
    {
      "cell_type": "code",
      "source": [
        "scalar = tf.constant(7)\n",
        "vector = tf.constant([10, 10])\n",
        "matrix = tf.constant([[10, 7],\n",
        "                      [7, 10]])\n",
        "scalar,vector,matrix"
      ],
      "metadata": {
        "colab": {
          "base_uri": "https://localhost:8080/"
        },
        "id": "DhCG85KVU_a4",
        "outputId": "ab301359-c0e9-4bdd-e46f-05c6e818977b"
      },
      "execution_count": 2,
      "outputs": [
        {
          "output_type": "execute_result",
          "data": {
            "text/plain": [
              "(<tf.Tensor: shape=(), dtype=int32, numpy=7>,\n",
              " <tf.Tensor: shape=(2,), dtype=int32, numpy=array([10, 10], dtype=int32)>,\n",
              " <tf.Tensor: shape=(2, 2), dtype=int32, numpy=\n",
              " array([[10,  7],\n",
              "        [ 7, 10]], dtype=int32)>)"
            ]
          },
          "metadata": {},
          "execution_count": 2
        }
      ]
    },
    {
      "cell_type": "markdown",
      "source": [
        "Check the number of dimensions of a tensor."
      ],
      "metadata": {
        "id": "Qp01Y5FZVlzk"
      }
    },
    {
      "cell_type": "code",
      "source": [
        "scalar.ndim,vector.ndim,matrix.ndim"
      ],
      "metadata": {
        "colab": {
          "base_uri": "https://localhost:8080/"
        },
        "id": "5YyxOdmHVrma",
        "outputId": "4af2b198-ab32-4468-b55f-addea0eb3050"
      },
      "execution_count": 3,
      "outputs": [
        {
          "output_type": "execute_result",
          "data": {
            "text/plain": [
              "(0, 1, 2)"
            ]
          },
          "metadata": {},
          "execution_count": 3
        }
      ]
    },
    {
      "cell_type": "code",
      "source": [
        "another_matrix = tf.constant([[10., 7.],\n",
        "                              [3., 2.],\n",
        "                              [8., 9.]], dtype=tf.float16) # specify the datatype with 'dtype'\n",
        "another_matrix, another_matrix.ndim"
      ],
      "metadata": {
        "colab": {
          "base_uri": "https://localhost:8080/"
        },
        "id": "lGYKhhFSWdpB",
        "outputId": "4ca1baff-4fd9-4dc3-c285-8c86ccc00210"
      },
      "execution_count": 4,
      "outputs": [
        {
          "output_type": "execute_result",
          "data": {
            "text/plain": [
              "(<tf.Tensor: shape=(3, 2), dtype=float16, numpy=\n",
              " array([[10.,  7.],\n",
              "        [ 3.,  2.],\n",
              "        [ 8.,  9.]], dtype=float16)>,\n",
              " 2)"
            ]
          },
          "metadata": {},
          "execution_count": 4
        }
      ]
    },
    {
      "cell_type": "markdown",
      "source": [
        "So, `another_matrix` is a 2-dimensional tensor with 3 elements."
      ],
      "metadata": {
        "id": "66VjA6jWXHlx"
      }
    },
    {
      "cell_type": "code",
      "source": [
        "tensor = tf.constant([\n",
        "                        [\n",
        "                            [10., 7., 2.],\n",
        "                            [3., 2., 5.]\n",
        "                        ],\n",
        "\n",
        "                        [\n",
        "                            [8., 9., 11.],\n",
        "                            [7., 9., 15,]\n",
        "                        ],\n",
        "\n",
        "                        [\n",
        "                            [3., 5., 1.],\n",
        "                            [9.,6.,4.]\n",
        "                        ]\n",
        "\n",
        "                    ], dtype=tf.float16) # specify the datatype with 'dtype'\n",
        "tensor, tensor.ndim"
      ],
      "metadata": {
        "colab": {
          "base_uri": "https://localhost:8080/"
        },
        "id": "tgkEmhuibGiv",
        "outputId": "045a9264-ad0e-4167-9e5e-9053947ab5e2"
      },
      "execution_count": 5,
      "outputs": [
        {
          "output_type": "execute_result",
          "data": {
            "text/plain": [
              "(<tf.Tensor: shape=(3, 2, 3), dtype=float16, numpy=\n",
              " array([[[10.,  7.,  2.],\n",
              "         [ 3.,  2.,  5.]],\n",
              " \n",
              "        [[ 8.,  9., 11.],\n",
              "         [ 7.,  9., 15.]],\n",
              " \n",
              "        [[ 3.,  5.,  1.],\n",
              "         [ 9.,  6.,  4.]]], dtype=float16)>,\n",
              " 3)"
            ]
          },
          "metadata": {},
          "execution_count": 5
        }
      ]
    },
    {
      "cell_type": "markdown",
      "source": [
        "Changeable tensor with `tf.Variable()`"
      ],
      "metadata": {
        "id": "KUxQdimd03Uz"
      }
    },
    {
      "cell_type": "code",
      "source": [
        "changeable_tensor = tf.Variable([10,7])\n",
        "unchangeable_tensor = tf.constant([10,7])\n",
        "changeable_tensor, unchangeable_tensor"
      ],
      "metadata": {
        "colab": {
          "base_uri": "https://localhost:8080/"
        },
        "id": "aVWL2eZ8kWMa",
        "outputId": "88340562-1523-4e91-a2de-8d9506b7051f"
      },
      "execution_count": 6,
      "outputs": [
        {
          "output_type": "execute_result",
          "data": {
            "text/plain": [
              "(<tf.Variable 'Variable:0' shape=(2,) dtype=int32, numpy=array([10,  7], dtype=int32)>,\n",
              " <tf.Tensor: shape=(2,), dtype=int32, numpy=array([10,  7], dtype=int32)>)"
            ]
          },
          "metadata": {},
          "execution_count": 6
        }
      ]
    },
    {
      "cell_type": "markdown",
      "source": [
        "Change value in `changeable_tensor` using `.assign()`"
      ],
      "metadata": {
        "id": "Jb2EQh4g1mvR"
      }
    },
    {
      "cell_type": "code",
      "source": [
        "changeable_tensor[0].assign([7])\n",
        "changeable_tensor"
      ],
      "metadata": {
        "colab": {
          "base_uri": "https://localhost:8080/"
        },
        "id": "JmRFH55L1uOE",
        "outputId": "798cc508-ef17-4678-9f2e-decfb0230962"
      },
      "execution_count": 7,
      "outputs": [
        {
          "output_type": "execute_result",
          "data": {
            "text/plain": [
              "<tf.Variable 'Variable:0' shape=(2,) dtype=int32, numpy=array([7, 7], dtype=int32)>"
            ]
          },
          "metadata": {},
          "execution_count": 7
        }
      ]
    },
    {
      "cell_type": "markdown",
      "source": [
        "👉 Constant tensors can only be changed by re-assignment"
      ],
      "metadata": {
        "id": "Qew7ABJr3HY3"
      }
    },
    {
      "cell_type": "code",
      "source": [
        "unchangeable_tensor = tf.constant([7,7])\n",
        "unchangeable_tensor"
      ],
      "metadata": {
        "colab": {
          "base_uri": "https://localhost:8080/"
        },
        "id": "CBaZw5F02yYZ",
        "outputId": "b55a26f4-9408-4b67-afa2-77af03901992"
      },
      "execution_count": 8,
      "outputs": [
        {
          "output_type": "execute_result",
          "data": {
            "text/plain": [
              "<tf.Tensor: shape=(2,), dtype=int32, numpy=array([7, 7], dtype=int32)>"
            ]
          },
          "metadata": {},
          "execution_count": 8
        }
      ]
    },
    {
      "cell_type": "markdown",
      "source": [
        "#### Creating Random Tensors"
      ],
      "metadata": {
        "id": "3QCPoDH65WN6"
      }
    },
    {
      "cell_type": "markdown",
      "source": [
        "From normal distribution ($\\mu = 0, \\sigma = 1$)"
      ],
      "metadata": {
        "id": "l2RSJBLX-0hG"
      }
    },
    {
      "cell_type": "code",
      "source": [
        "random_1 = tf.random.Generator.from_seed(42)\n",
        "random_1 = random_1.normal(shape=(3,2))\n",
        "random_1"
      ],
      "metadata": {
        "colab": {
          "base_uri": "https://localhost:8080/"
        },
        "id": "rNlEl8U35lKz",
        "outputId": "2cd674aa-6e51-4ff1-fc3e-592bec12bda2"
      },
      "execution_count": 9,
      "outputs": [
        {
          "output_type": "execute_result",
          "data": {
            "text/plain": [
              "<tf.Tensor: shape=(3, 2), dtype=float32, numpy=\n",
              "array([[-0.7565803 , -0.06854702],\n",
              "       [ 0.07595026, -1.2573844 ],\n",
              "       [-0.23193763, -1.8107855 ]], dtype=float32)>"
            ]
          },
          "metadata": {},
          "execution_count": 9
        }
      ]
    },
    {
      "cell_type": "markdown",
      "source": [
        "From uniform distribution"
      ],
      "metadata": {
        "id": "9b9MDNPU-5XN"
      }
    },
    {
      "cell_type": "code",
      "source": [
        "random_2 = tf.random.Generator.from_seed(42)\n",
        "random_2 = random_2.uniform(shape=(3,2))\n",
        "random_2"
      ],
      "metadata": {
        "colab": {
          "base_uri": "https://localhost:8080/"
        },
        "id": "T_-f0y89-nyi",
        "outputId": "4a8675c5-8b7a-4aff-e39d-e333d60be8d9"
      },
      "execution_count": 10,
      "outputs": [
        {
          "output_type": "execute_result",
          "data": {
            "text/plain": [
              "<tf.Tensor: shape=(3, 2), dtype=float32, numpy=\n",
              "array([[0.7493447 , 0.73561966],\n",
              "       [0.45230794, 0.49039817],\n",
              "       [0.1889317 , 0.52027524]], dtype=float32)>"
            ]
          },
          "metadata": {},
          "execution_count": 10
        }
      ]
    },
    {
      "cell_type": "markdown",
      "source": [
        "#### Shuffle the order of elements in a tensor"
      ],
      "metadata": {
        "id": "FP_KjzPBBJLf"
      }
    },
    {
      "cell_type": "code",
      "source": [
        "not_shuffled = tf.constant([[10, 7],\n",
        "                            [3, 4],\n",
        "                            [2, 5]])\n",
        "not_shuffled"
      ],
      "metadata": {
        "colab": {
          "base_uri": "https://localhost:8080/"
        },
        "id": "AAUv9frYBsVR",
        "outputId": "ea6eeb8d-b0cd-4b84-a111-5beefc1f4f29"
      },
      "execution_count": 11,
      "outputs": [
        {
          "output_type": "execute_result",
          "data": {
            "text/plain": [
              "<tf.Tensor: shape=(3, 2), dtype=int32, numpy=\n",
              "array([[10,  7],\n",
              "       [ 3,  4],\n",
              "       [ 2,  5]], dtype=int32)>"
            ]
          },
          "metadata": {},
          "execution_count": 11
        }
      ]
    },
    {
      "cell_type": "code",
      "source": [
        "tf.random.set_seed(42)   # need to specify seed here\n",
        "shuffled = tf.random.shuffle(not_shuffled, seed=42)  # need to specify seed here too.\n",
        "shuffled"
      ],
      "metadata": {
        "colab": {
          "base_uri": "https://localhost:8080/"
        },
        "id": "vYGmXPU3BwsJ",
        "outputId": "28bf1b8d-6fe4-4e31-e15d-0f7db12430d6"
      },
      "execution_count": 12,
      "outputs": [
        {
          "output_type": "execute_result",
          "data": {
            "text/plain": [
              "<tf.Tensor: shape=(3, 2), dtype=int32, numpy=\n",
              "array([[10,  7],\n",
              "       [ 3,  4],\n",
              "       [ 2,  5]], dtype=int32)>"
            ]
          },
          "metadata": {},
          "execution_count": 12
        }
      ]
    },
    {
      "cell_type": "markdown",
      "source": [
        "#### Other ways to create tensors"
      ],
      "metadata": {
        "id": "cw3kNKJUDtOM"
      }
    },
    {
      "cell_type": "code",
      "source": [
        "tf.ones(shape=(10,7))"
      ],
      "metadata": {
        "colab": {
          "base_uri": "https://localhost:8080/"
        },
        "id": "4-TlAMx7DxLo",
        "outputId": "f9b6ab6c-e50c-416e-d00d-8990a3fd1c51"
      },
      "execution_count": 13,
      "outputs": [
        {
          "output_type": "execute_result",
          "data": {
            "text/plain": [
              "<tf.Tensor: shape=(10, 7), dtype=float32, numpy=\n",
              "array([[1., 1., 1., 1., 1., 1., 1.],\n",
              "       [1., 1., 1., 1., 1., 1., 1.],\n",
              "       [1., 1., 1., 1., 1., 1., 1.],\n",
              "       [1., 1., 1., 1., 1., 1., 1.],\n",
              "       [1., 1., 1., 1., 1., 1., 1.],\n",
              "       [1., 1., 1., 1., 1., 1., 1.],\n",
              "       [1., 1., 1., 1., 1., 1., 1.],\n",
              "       [1., 1., 1., 1., 1., 1., 1.],\n",
              "       [1., 1., 1., 1., 1., 1., 1.],\n",
              "       [1., 1., 1., 1., 1., 1., 1.]], dtype=float32)>"
            ]
          },
          "metadata": {},
          "execution_count": 13
        }
      ]
    },
    {
      "cell_type": "code",
      "source": [
        "tf.zeros(shape=(3,4))"
      ],
      "metadata": {
        "colab": {
          "base_uri": "https://localhost:8080/"
        },
        "id": "Wwo3Bd06EDyv",
        "outputId": "9e6cb503-9c2e-4d43-ddf3-3ff9ea2a799e"
      },
      "execution_count": 14,
      "outputs": [
        {
          "output_type": "execute_result",
          "data": {
            "text/plain": [
              "<tf.Tensor: shape=(3, 4), dtype=float32, numpy=\n",
              "array([[0., 0., 0., 0.],\n",
              "       [0., 0., 0., 0.],\n",
              "       [0., 0., 0., 0.]], dtype=float32)>"
            ]
          },
          "metadata": {},
          "execution_count": 14
        }
      ]
    },
    {
      "cell_type": "markdown",
      "source": [
        "Create tensors from Numpy arrays.\n",
        "\n",
        "👉 Tensors are designed to run on GPU computing."
      ],
      "metadata": {
        "id": "il9fMmH6EOIg"
      }
    },
    {
      "cell_type": "code",
      "source": [
        "import numpy as np\n",
        "\n",
        "# X = tf.constant(some_matrix) # capital for matrix or tensor\n",
        "# y = tf.constant(some_vector) # non-capital for vector\n",
        "\n",
        "numpy_A = np.arange(1, 25, dtype=np.int32) # create a Numpy array between 1 and 25\n",
        "numpy_A"
      ],
      "metadata": {
        "colab": {
          "base_uri": "https://localhost:8080/"
        },
        "id": "ItfyBF6NERxS",
        "outputId": "4e17ad02-9e89-4f5f-cc84-548121278839"
      },
      "execution_count": 15,
      "outputs": [
        {
          "output_type": "execute_result",
          "data": {
            "text/plain": [
              "array([ 1,  2,  3,  4,  5,  6,  7,  8,  9, 10, 11, 12, 13, 14, 15, 16, 17,\n",
              "       18, 19, 20, 21, 22, 23, 24], dtype=int32)"
            ]
          },
          "metadata": {},
          "execution_count": 15
        }
      ]
    },
    {
      "cell_type": "code",
      "source": [
        "tensor_A1 = tf.constant(numpy_A)\n",
        "tensor_A1"
      ],
      "metadata": {
        "colab": {
          "base_uri": "https://localhost:8080/"
        },
        "id": "x3MSjTzTFo9B",
        "outputId": "c8feeee3-03c9-4cdd-bd82-72fb111c9092"
      },
      "execution_count": 16,
      "outputs": [
        {
          "output_type": "execute_result",
          "data": {
            "text/plain": [
              "<tf.Tensor: shape=(24,), dtype=int32, numpy=\n",
              "array([ 1,  2,  3,  4,  5,  6,  7,  8,  9, 10, 11, 12, 13, 14, 15, 16, 17,\n",
              "       18, 19, 20, 21, 22, 23, 24], dtype=int32)>"
            ]
          },
          "metadata": {},
          "execution_count": 16
        }
      ]
    },
    {
      "cell_type": "code",
      "source": [
        "tensor_A2 = tf.constant(numpy_A, shape=(3,8))\n",
        "tensor_A2"
      ],
      "metadata": {
        "colab": {
          "base_uri": "https://localhost:8080/"
        },
        "id": "3z5W0yfbF366",
        "outputId": "939a66c2-5592-42b6-f965-66a399678689"
      },
      "execution_count": 17,
      "outputs": [
        {
          "output_type": "execute_result",
          "data": {
            "text/plain": [
              "<tf.Tensor: shape=(3, 8), dtype=int32, numpy=\n",
              "array([[ 1,  2,  3,  4,  5,  6,  7,  8],\n",
              "       [ 9, 10, 11, 12, 13, 14, 15, 16],\n",
              "       [17, 18, 19, 20, 21, 22, 23, 24]], dtype=int32)>"
            ]
          },
          "metadata": {},
          "execution_count": 17
        }
      ]
    },
    {
      "cell_type": "code",
      "source": [
        "tensor_A3 = tf.constant(numpy_A, shape=(2, 3, 4))\n",
        "tensor_A3\n"
      ],
      "metadata": {
        "colab": {
          "base_uri": "https://localhost:8080/"
        },
        "id": "bnUgQBpJFYTV",
        "outputId": "9ec1da33-cc63-4b06-b542-179971e42f14"
      },
      "execution_count": 18,
      "outputs": [
        {
          "output_type": "execute_result",
          "data": {
            "text/plain": [
              "<tf.Tensor: shape=(2, 3, 4), dtype=int32, numpy=\n",
              "array([[[ 1,  2,  3,  4],\n",
              "        [ 5,  6,  7,  8],\n",
              "        [ 9, 10, 11, 12]],\n",
              "\n",
              "       [[13, 14, 15, 16],\n",
              "        [17, 18, 19, 20],\n",
              "        [21, 22, 23, 24]]], dtype=int32)>"
            ]
          },
          "metadata": {},
          "execution_count": 18
        }
      ]
    },
    {
      "cell_type": "code",
      "source": [
        "tensor_A4 = tf.constant(numpy_A, shape=(2, 2, 3, 2))\n",
        "tensor_A4"
      ],
      "metadata": {
        "colab": {
          "base_uri": "https://localhost:8080/"
        },
        "id": "U1DlUXYGGE75",
        "outputId": "6b047a79-b1c6-4ab4-a723-9aa2a5c184de"
      },
      "execution_count": 19,
      "outputs": [
        {
          "output_type": "execute_result",
          "data": {
            "text/plain": [
              "<tf.Tensor: shape=(2, 2, 3, 2), dtype=int32, numpy=\n",
              "array([[[[ 1,  2],\n",
              "         [ 3,  4],\n",
              "         [ 5,  6]],\n",
              "\n",
              "        [[ 7,  8],\n",
              "         [ 9, 10],\n",
              "         [11, 12]]],\n",
              "\n",
              "\n",
              "       [[[13, 14],\n",
              "         [15, 16],\n",
              "         [17, 18]],\n",
              "\n",
              "        [[19, 20],\n",
              "         [21, 22],\n",
              "         [23, 24]]]], dtype=int32)>"
            ]
          },
          "metadata": {},
          "execution_count": 19
        }
      ]
    },
    {
      "cell_type": "markdown",
      "source": [
        "#### Getting stats from tensors (shape, rank, dimension, size)\n",
        "\n"
      ],
      "metadata": {
        "id": "TmP4TJjlG2wN"
      }
    },
    {
      "cell_type": "code",
      "source": [
        "rank_4_tensor = tf.random.Generator.from_seed(42)\n",
        "rank_4_tensor = rank_4_tensor.uniform(shape=(2,3,4,5))\n",
        "rank_4_tensor"
      ],
      "metadata": {
        "colab": {
          "base_uri": "https://localhost:8080/"
        },
        "id": "o8B6RZuFMnUt",
        "outputId": "5cc185fb-bf30-4754-da02-2a68f54514c0"
      },
      "execution_count": 20,
      "outputs": [
        {
          "output_type": "execute_result",
          "data": {
            "text/plain": [
              "<tf.Tensor: shape=(2, 3, 4, 5), dtype=float32, numpy=\n",
              "array([[[[0.7493447 , 0.73561966, 0.45230794, 0.49039817, 0.1889317 ],\n",
              "         [0.52027524, 0.8736881 , 0.46921718, 0.63932586, 0.6467117 ],\n",
              "         [0.96246755, 0.41009164, 0.86540747, 0.8862978 , 0.27795732],\n",
              "         [0.8857763 , 0.2179842 , 0.29115117, 0.03953862, 0.8136791 ]],\n",
              "\n",
              "        [[0.8139852 , 0.52180684, 0.12496924, 0.5488483 , 0.7755773 ],\n",
              "         [0.6184403 , 0.24936223, 0.89341843, 0.28422844, 0.70332646],\n",
              "         [0.2622137 , 0.4432162 , 0.466465  , 0.05981874, 0.40098202],\n",
              "         [0.69292355, 0.1284684 , 0.22770369, 0.33691216, 0.5329138 ]],\n",
              "\n",
              "        [[0.5914326 , 0.21738243, 0.5322075 , 0.05148339, 0.03951418],\n",
              "         [0.41866875, 0.78939915, 0.04384279, 0.96955836, 0.49116182],\n",
              "         [0.3706199 , 0.33535397, 0.02760839, 0.99757504, 0.52172756],\n",
              "         [0.20307171, 0.7182547 , 0.84263575, 0.9542595 , 0.90112185]]],\n",
              "\n",
              "\n",
              "       [[[0.62839293, 0.08619452, 0.5679928 , 0.28763676, 0.18828917],\n",
              "         [0.6658715 , 0.6190208 , 0.04422736, 0.49626625, 0.6474861 ],\n",
              "         [0.3557682 , 0.32033885, 0.33705008, 0.7391062 , 0.16512096],\n",
              "         [0.41555858, 0.78638244, 0.45899415, 0.42686343, 0.5630441 ]],\n",
              "\n",
              "        [[0.04115057, 0.7532015 , 0.18315244, 0.30807555, 0.30482936],\n",
              "         [0.08611703, 0.7526083 , 0.42415357, 0.7877505 , 0.11611497],\n",
              "         [0.35255086, 0.50718856, 0.16467738, 0.54108894, 0.5765736 ],\n",
              "         [0.16844285, 0.8007604 , 0.34483027, 0.30735934, 0.9700769 ]],\n",
              "\n",
              "        [[0.43336582, 0.51829636, 0.8555572 , 0.21962428, 0.76091194],\n",
              "         [0.04762888, 0.5131633 , 0.97339594, 0.33341944, 0.03152311],\n",
              "         [0.28874612, 0.58736026, 0.75669694, 0.7060174 , 0.5588795 ],\n",
              "         [0.40088904, 0.8377521 , 0.7651175 , 0.5402924 , 0.52445555]]]],\n",
              "      dtype=float32)>"
            ]
          },
          "metadata": {},
          "execution_count": 20
        }
      ]
    },
    {
      "cell_type": "code",
      "source": [
        "rank_4_tensor[1]"
      ],
      "metadata": {
        "colab": {
          "base_uri": "https://localhost:8080/"
        },
        "id": "EzjpM4RVMHPY",
        "outputId": "4cd47bb8-67ed-40a5-e420-c6cf93c1d3f4"
      },
      "execution_count": 21,
      "outputs": [
        {
          "output_type": "execute_result",
          "data": {
            "text/plain": [
              "<tf.Tensor: shape=(3, 4, 5), dtype=float32, numpy=\n",
              "array([[[0.62839293, 0.08619452, 0.5679928 , 0.28763676, 0.18828917],\n",
              "        [0.6658715 , 0.6190208 , 0.04422736, 0.49626625, 0.6474861 ],\n",
              "        [0.3557682 , 0.32033885, 0.33705008, 0.7391062 , 0.16512096],\n",
              "        [0.41555858, 0.78638244, 0.45899415, 0.42686343, 0.5630441 ]],\n",
              "\n",
              "       [[0.04115057, 0.7532015 , 0.18315244, 0.30807555, 0.30482936],\n",
              "        [0.08611703, 0.7526083 , 0.42415357, 0.7877505 , 0.11611497],\n",
              "        [0.35255086, 0.50718856, 0.16467738, 0.54108894, 0.5765736 ],\n",
              "        [0.16844285, 0.8007604 , 0.34483027, 0.30735934, 0.9700769 ]],\n",
              "\n",
              "       [[0.43336582, 0.51829636, 0.8555572 , 0.21962428, 0.76091194],\n",
              "        [0.04762888, 0.5131633 , 0.97339594, 0.33341944, 0.03152311],\n",
              "        [0.28874612, 0.58736026, 0.75669694, 0.7060174 , 0.5588795 ],\n",
              "        [0.40088904, 0.8377521 , 0.7651175 , 0.5402924 , 0.52445555]]],\n",
              "      dtype=float32)>"
            ]
          },
          "metadata": {},
          "execution_count": 21
        }
      ]
    },
    {
      "cell_type": "code",
      "source": [
        "rank_4_tensor.shape,rank_4_tensor.ndim,tf.size(rank_4_tensor)"
      ],
      "metadata": {
        "colab": {
          "base_uri": "https://localhost:8080/"
        },
        "id": "-uqVZ8msNCeH",
        "outputId": "b73c2753-2fe2-42b4-a22d-7eb578829bb8"
      },
      "execution_count": 22,
      "outputs": [
        {
          "output_type": "execute_result",
          "data": {
            "text/plain": [
              "(TensorShape([2, 3, 4, 5]), 4, <tf.Tensor: shape=(), dtype=int32, numpy=120>)"
            ]
          },
          "metadata": {},
          "execution_count": 22
        }
      ]
    },
    {
      "cell_type": "code",
      "source": [
        "rank_4_tensor[:2,:3].shape,rank_4_tensor[:2,:3].ndim,tf.size(rank_4_tensor[:2,:3])"
      ],
      "metadata": {
        "colab": {
          "base_uri": "https://localhost:8080/"
        },
        "id": "1IBQLJxTNHvF",
        "outputId": "c21eb7ab-3de2-42b3-ad12-53416401df77"
      },
      "execution_count": 23,
      "outputs": [
        {
          "output_type": "execute_result",
          "data": {
            "text/plain": [
              "(TensorShape([2, 3, 4, 5]), 4, <tf.Tensor: shape=(), dtype=int32, numpy=120>)"
            ]
          },
          "metadata": {},
          "execution_count": 23
        }
      ]
    },
    {
      "cell_type": "markdown",
      "source": [
        "Get various attributes from `rank_4_tensor`:\n"
      ],
      "metadata": {
        "id": "92O-vfR5N92q"
      }
    },
    {
      "cell_type": "code",
      "source": [
        "print(\"Data type of every element\", rank_4_tensor.dtype)\n",
        "print(\"\\nNumber of dimensions (rank)\", rank_4_tensor.ndim)\n",
        "print(\"\\nShape of tensor\", rank_4_tensor.shape)\n",
        "print(\"\\nElements along axis 0 of tensor:\\n\", rank_4_tensor[0])\n",
        "print(\"\\nElements along last axis of tensor:\\n\", rank_4_tensor[-1])\n",
        "print(\"\\nTotal number of elements in tensor:\\n\", tf.size(rank_4_tensor).numpy())"
      ],
      "metadata": {
        "colab": {
          "base_uri": "https://localhost:8080/"
        },
        "id": "VwedZVbvOGIO",
        "outputId": "8846cf0d-f6d8-4f68-f1a6-5872ddecd6b5"
      },
      "execution_count": 24,
      "outputs": [
        {
          "output_type": "stream",
          "name": "stdout",
          "text": [
            "Data type of every element <dtype: 'float32'>\n",
            "\n",
            "Number of dimensions (rank) 4\n",
            "\n",
            "Shape of tensor (2, 3, 4, 5)\n",
            "\n",
            "Elements along axis 0 of tensor:\n",
            " tf.Tensor(\n",
            "[[[0.7493447  0.73561966 0.45230794 0.49039817 0.1889317 ]\n",
            "  [0.52027524 0.8736881  0.46921718 0.63932586 0.6467117 ]\n",
            "  [0.96246755 0.41009164 0.86540747 0.8862978  0.27795732]\n",
            "  [0.8857763  0.2179842  0.29115117 0.03953862 0.8136791 ]]\n",
            "\n",
            " [[0.8139852  0.52180684 0.12496924 0.5488483  0.7755773 ]\n",
            "  [0.6184403  0.24936223 0.89341843 0.28422844 0.70332646]\n",
            "  [0.2622137  0.4432162  0.466465   0.05981874 0.40098202]\n",
            "  [0.69292355 0.1284684  0.22770369 0.33691216 0.5329138 ]]\n",
            "\n",
            " [[0.5914326  0.21738243 0.5322075  0.05148339 0.03951418]\n",
            "  [0.41866875 0.78939915 0.04384279 0.96955836 0.49116182]\n",
            "  [0.3706199  0.33535397 0.02760839 0.99757504 0.52172756]\n",
            "  [0.20307171 0.7182547  0.84263575 0.9542595  0.90112185]]], shape=(3, 4, 5), dtype=float32)\n",
            "\n",
            "Elements along last axis of tensor:\n",
            " tf.Tensor(\n",
            "[[[0.62839293 0.08619452 0.5679928  0.28763676 0.18828917]\n",
            "  [0.6658715  0.6190208  0.04422736 0.49626625 0.6474861 ]\n",
            "  [0.3557682  0.32033885 0.33705008 0.7391062  0.16512096]\n",
            "  [0.41555858 0.78638244 0.45899415 0.42686343 0.5630441 ]]\n",
            "\n",
            " [[0.04115057 0.7532015  0.18315244 0.30807555 0.30482936]\n",
            "  [0.08611703 0.7526083  0.42415357 0.7877505  0.11611497]\n",
            "  [0.35255086 0.50718856 0.16467738 0.54108894 0.5765736 ]\n",
            "  [0.16844285 0.8007604  0.34483027 0.30735934 0.9700769 ]]\n",
            "\n",
            " [[0.43336582 0.51829636 0.8555572  0.21962428 0.76091194]\n",
            "  [0.04762888 0.5131633  0.97339594 0.33341944 0.03152311]\n",
            "  [0.28874612 0.58736026 0.75669694 0.7060174  0.5588795 ]\n",
            "  [0.40088904 0.8377521  0.7651175  0.5402924  0.52445555]]], shape=(3, 4, 5), dtype=float32)\n",
            "\n",
            "Total number of elements in tensor:\n",
            " 120\n"
          ]
        }
      ]
    },
    {
      "cell_type": "markdown",
      "source": [
        "#### Indexing Tensors"
      ],
      "metadata": {
        "id": "jzwwL7FsPZLt"
      }
    },
    {
      "cell_type": "code",
      "source": [
        "# Get the first two elements of each dimension\n",
        "\n",
        "rank_4_tensor[:2,:2,:2,:2]"
      ],
      "metadata": {
        "colab": {
          "base_uri": "https://localhost:8080/"
        },
        "id": "_2cLVD6vPjJM",
        "outputId": "b150506f-3283-421b-e597-18136b7b4458"
      },
      "execution_count": 25,
      "outputs": [
        {
          "output_type": "execute_result",
          "data": {
            "text/plain": [
              "<tf.Tensor: shape=(2, 2, 2, 2), dtype=float32, numpy=\n",
              "array([[[[0.7493447 , 0.73561966],\n",
              "         [0.52027524, 0.8736881 ]],\n",
              "\n",
              "        [[0.8139852 , 0.52180684],\n",
              "         [0.6184403 , 0.24936223]]],\n",
              "\n",
              "\n",
              "       [[[0.62839293, 0.08619452],\n",
              "         [0.6658715 , 0.6190208 ]],\n",
              "\n",
              "        [[0.04115057, 0.7532015 ],\n",
              "         [0.08611703, 0.7526083 ]]]], dtype=float32)>"
            ]
          },
          "metadata": {},
          "execution_count": 25
        }
      ]
    },
    {
      "cell_type": "code",
      "source": [
        "rank_4_tensor[:1,:2,:2,:2]"
      ],
      "metadata": {
        "colab": {
          "base_uri": "https://localhost:8080/"
        },
        "id": "WQMIj6iUQGHL",
        "outputId": "e90587c8-8160-4fde-abe4-654bfbe33ac1"
      },
      "execution_count": 26,
      "outputs": [
        {
          "output_type": "execute_result",
          "data": {
            "text/plain": [
              "<tf.Tensor: shape=(1, 2, 2, 2), dtype=float32, numpy=\n",
              "array([[[[0.7493447 , 0.73561966],\n",
              "         [0.52027524, 0.8736881 ]],\n",
              "\n",
              "        [[0.8139852 , 0.52180684],\n",
              "         [0.6184403 , 0.24936223]]]], dtype=float32)>"
            ]
          },
          "metadata": {},
          "execution_count": 26
        }
      ]
    },
    {
      "cell_type": "code",
      "source": [
        "# Get the first element from each dimension except the last one.\n",
        "rank_4_tensor[:1,:1,:1,:]"
      ],
      "metadata": {
        "colab": {
          "base_uri": "https://localhost:8080/"
        },
        "id": "hQan8o_rQqAT",
        "outputId": "51f079ee-94df-4231-8a3a-59133469970a"
      },
      "execution_count": 27,
      "outputs": [
        {
          "output_type": "execute_result",
          "data": {
            "text/plain": [
              "<tf.Tensor: shape=(1, 1, 1, 5), dtype=float32, numpy=\n",
              "array([[[[0.7493447 , 0.73561966, 0.45230794, 0.49039817, 0.1889317 ]]]],\n",
              "      dtype=float32)>"
            ]
          },
          "metadata": {},
          "execution_count": 27
        }
      ]
    },
    {
      "cell_type": "code",
      "source": [
        "# Create a rank 2 tensor (2 dimensions)\n",
        "rank_2_tensor = tf.random.Generator.from_seed(42)\n",
        "rank_2_tensor = rank_2_tensor.uniform(shape=(2,3))\n",
        "rank_2_tensor"
      ],
      "metadata": {
        "colab": {
          "base_uri": "https://localhost:8080/"
        },
        "id": "0tSR3DjIZDPh",
        "outputId": "1846ffcf-d537-463f-92d8-ab916ea9a58e"
      },
      "execution_count": 28,
      "outputs": [
        {
          "output_type": "execute_result",
          "data": {
            "text/plain": [
              "<tf.Tensor: shape=(2, 3), dtype=float32, numpy=\n",
              "array([[0.7493447 , 0.73561966, 0.45230794],\n",
              "       [0.49039817, 0.1889317 , 0.52027524]], dtype=float32)>"
            ]
          },
          "metadata": {},
          "execution_count": 28
        }
      ]
    },
    {
      "cell_type": "code",
      "source": [
        "rank_2_tensor.shape, rank_2_tensor.ndim"
      ],
      "metadata": {
        "colab": {
          "base_uri": "https://localhost:8080/"
        },
        "id": "vvDS7id3aA44",
        "outputId": "f28c550a-e7d7-49fd-eefb-ee7d5a5a292c"
      },
      "execution_count": 29,
      "outputs": [
        {
          "output_type": "execute_result",
          "data": {
            "text/plain": [
              "(TensorShape([2, 3]), 2)"
            ]
          },
          "metadata": {},
          "execution_count": 29
        }
      ]
    },
    {
      "cell_type": "code",
      "source": [
        "# Get the last element of each row\n",
        "rank_2_tensor[:,-1]"
      ],
      "metadata": {
        "colab": {
          "base_uri": "https://localhost:8080/"
        },
        "id": "EmCnghyMaNJU",
        "outputId": "2c17eb3b-9c1e-41e0-bd84-4fdbba188612"
      },
      "execution_count": 30,
      "outputs": [
        {
          "output_type": "execute_result",
          "data": {
            "text/plain": [
              "<tf.Tensor: shape=(2,), dtype=float32, numpy=array([0.45230794, 0.52027524], dtype=float32)>"
            ]
          },
          "metadata": {},
          "execution_count": 30
        }
      ]
    },
    {
      "cell_type": "code",
      "source": [
        "# Add a new dimension to the rank_2_tensor\n",
        "rank_2_tensor_new_dim = rank_2_tensor[...,tf.newaxis]\n",
        "rank_2_tensor_new_dim"
      ],
      "metadata": {
        "colab": {
          "base_uri": "https://localhost:8080/"
        },
        "id": "t8QQ8RSeczL2",
        "outputId": "a45c643b-0f96-491c-d2c7-ddf5fd594dec"
      },
      "execution_count": 31,
      "outputs": [
        {
          "output_type": "execute_result",
          "data": {
            "text/plain": [
              "<tf.Tensor: shape=(2, 3, 1), dtype=float32, numpy=\n",
              "array([[[0.7493447 ],\n",
              "        [0.73561966],\n",
              "        [0.45230794]],\n",
              "\n",
              "       [[0.49039817],\n",
              "        [0.1889317 ],\n",
              "        [0.52027524]]], dtype=float32)>"
            ]
          },
          "metadata": {},
          "execution_count": 31
        }
      ]
    },
    {
      "cell_type": "code",
      "source": [
        "# Another way of adding a new dimension\n",
        "tf.expand_dims(rank_2_tensor, axis=-1)"
      ],
      "metadata": {
        "colab": {
          "base_uri": "https://localhost:8080/"
        },
        "id": "4Q95bDSrdKm1",
        "outputId": "2edbc883-2afc-4726-c6fa-12e065722ab9"
      },
      "execution_count": 32,
      "outputs": [
        {
          "output_type": "execute_result",
          "data": {
            "text/plain": [
              "<tf.Tensor: shape=(2, 3, 1), dtype=float32, numpy=\n",
              "array([[[0.7493447 ],\n",
              "        [0.73561966],\n",
              "        [0.45230794]],\n",
              "\n",
              "       [[0.49039817],\n",
              "        [0.1889317 ],\n",
              "        [0.52027524]]], dtype=float32)>"
            ]
          },
          "metadata": {},
          "execution_count": 32
        }
      ]
    },
    {
      "cell_type": "code",
      "source": [
        "tf.expand_dims(rank_2_tensor, axis=0)"
      ],
      "metadata": {
        "colab": {
          "base_uri": "https://localhost:8080/"
        },
        "id": "buS6sCgGdp4c",
        "outputId": "bd4798e5-e173-4bf3-9c14-57f5c82d8dcc"
      },
      "execution_count": 33,
      "outputs": [
        {
          "output_type": "execute_result",
          "data": {
            "text/plain": [
              "<tf.Tensor: shape=(1, 2, 3), dtype=float32, numpy=\n",
              "array([[[0.7493447 , 0.73561966, 0.45230794],\n",
              "        [0.49039817, 0.1889317 , 0.52027524]]], dtype=float32)>"
            ]
          },
          "metadata": {},
          "execution_count": 33
        }
      ]
    },
    {
      "cell_type": "code",
      "source": [
        "tf.expand_dims(rank_2_tensor, axis=1)\n"
      ],
      "metadata": {
        "colab": {
          "base_uri": "https://localhost:8080/"
        },
        "id": "zypSfZe6d_Zi",
        "outputId": "e876228f-96a2-4564-f1d5-da38a13c0577"
      },
      "execution_count": 34,
      "outputs": [
        {
          "output_type": "execute_result",
          "data": {
            "text/plain": [
              "<tf.Tensor: shape=(2, 1, 3), dtype=float32, numpy=\n",
              "array([[[0.7493447 , 0.73561966, 0.45230794]],\n",
              "\n",
              "       [[0.49039817, 0.1889317 , 0.52027524]]], dtype=float32)>"
            ]
          },
          "metadata": {},
          "execution_count": 34
        }
      ]
    },
    {
      "cell_type": "markdown",
      "source": [
        "#### Tensor Operations"
      ],
      "metadata": {
        "id": "OcVBN7Vjel1L"
      }
    },
    {
      "cell_type": "code",
      "source": [
        "tensor = tf.constant([[10,7],[3,4]])\n",
        "print(tensor+6,\"\\n\\n\", tensor-6,\"\\n\\n\", tensor*6,\"\\n\\n\", tensor/6)"
      ],
      "metadata": {
        "colab": {
          "base_uri": "https://localhost:8080/"
        },
        "id": "I-S0gV_JfQeX",
        "outputId": "671902b8-aaaa-4d2c-9159-789d04f7bab4"
      },
      "execution_count": 35,
      "outputs": [
        {
          "output_type": "stream",
          "name": "stdout",
          "text": [
            "tf.Tensor(\n",
            "[[16 13]\n",
            " [ 9 10]], shape=(2, 2), dtype=int32) \n",
            "\n",
            " tf.Tensor(\n",
            "[[ 4  1]\n",
            " [-3 -2]], shape=(2, 2), dtype=int32) \n",
            "\n",
            " tf.Tensor(\n",
            "[[60 42]\n",
            " [18 24]], shape=(2, 2), dtype=int32) \n",
            "\n",
            " tf.Tensor(\n",
            "[[1.66666667 1.16666667]\n",
            " [0.5        0.66666667]], shape=(2, 2), dtype=float64)\n"
          ]
        }
      ]
    },
    {
      "cell_type": "markdown",
      "source": [
        "We can use Tensorflow's built-in functions too."
      ],
      "metadata": {
        "id": "DAKxDjBTggNB"
      }
    },
    {
      "cell_type": "code",
      "source": [
        "print(tf.add(tensor, 6),\"\\n\\n\", tf.subtract(tensor, 6),\"\\n\\n\", tf.multiply(tensor, 6),\"\\n\\n\", tf.divide(tensor, 6))"
      ],
      "metadata": {
        "colab": {
          "base_uri": "https://localhost:8080/"
        },
        "id": "TWdCwX6xjx6f",
        "outputId": "bc04cc3c-c40e-4f6d-c2f7-e6575db54ac9"
      },
      "execution_count": 36,
      "outputs": [
        {
          "output_type": "stream",
          "name": "stdout",
          "text": [
            "tf.Tensor(\n",
            "[[16 13]\n",
            " [ 9 10]], shape=(2, 2), dtype=int32) \n",
            "\n",
            " tf.Tensor(\n",
            "[[ 4  1]\n",
            " [-3 -2]], shape=(2, 2), dtype=int32) \n",
            "\n",
            " tf.Tensor(\n",
            "[[60 42]\n",
            " [18 24]], shape=(2, 2), dtype=int32) \n",
            "\n",
            " tf.Tensor(\n",
            "[[1.66666667 1.16666667]\n",
            " [0.5        0.66666667]], shape=(2, 2), dtype=float64)\n"
          ]
        }
      ]
    },
    {
      "cell_type": "markdown",
      "source": [
        "#### Matrix Multiplication"
      ],
      "metadata": {
        "id": "DRnpVAhslAcD"
      }
    },
    {
      "cell_type": "code",
      "source": [
        "print(tensor, \"\\n\\n\",tensor*tensor,\"\\n\\n\",tensor*tensor*tensor ) # element-wise multiplication"
      ],
      "metadata": {
        "colab": {
          "base_uri": "https://localhost:8080/"
        },
        "id": "vkg_2eu8lEQ4",
        "outputId": "d32710fe-309c-4acb-9ffc-3d674ad4708b"
      },
      "execution_count": 37,
      "outputs": [
        {
          "output_type": "stream",
          "name": "stdout",
          "text": [
            "tf.Tensor(\n",
            "[[10  7]\n",
            " [ 3  4]], shape=(2, 2), dtype=int32) \n",
            "\n",
            " tf.Tensor(\n",
            "[[100  49]\n",
            " [  9  16]], shape=(2, 2), dtype=int32) \n",
            "\n",
            " tf.Tensor(\n",
            "[[1000  343]\n",
            " [  27   64]], shape=(2, 2), dtype=int32)\n"
          ]
        }
      ]
    },
    {
      "cell_type": "code",
      "source": [
        "tf.matmul(tensor, tensor)  # dot product multiplication"
      ],
      "metadata": {
        "colab": {
          "base_uri": "https://localhost:8080/"
        },
        "id": "j5fAPGJTmPKF",
        "outputId": "a0c4c2d3-28ba-489e-acd3-d7210a906361"
      },
      "execution_count": 38,
      "outputs": [
        {
          "output_type": "execute_result",
          "data": {
            "text/plain": [
              "<tf.Tensor: shape=(2, 2), dtype=int32, numpy=\n",
              "array([[121,  98],\n",
              "       [ 42,  37]], dtype=int32)>"
            ]
          },
          "metadata": {},
          "execution_count": 38
        }
      ]
    },
    {
      "cell_type": "code",
      "source": [
        "tensor @ tensor # dot product multiplication"
      ],
      "metadata": {
        "colab": {
          "base_uri": "https://localhost:8080/"
        },
        "id": "GZhLfbDJmeqm",
        "outputId": "d433e648-0269-4793-8fb3-abe757867223"
      },
      "execution_count": 39,
      "outputs": [
        {
          "output_type": "execute_result",
          "data": {
            "text/plain": [
              "<tf.Tensor: shape=(2, 2), dtype=int32, numpy=\n",
              "array([[121,  98],\n",
              "       [ 42,  37]], dtype=int32)>"
            ]
          },
          "metadata": {},
          "execution_count": 39
        }
      ]
    },
    {
      "cell_type": "markdown",
      "source": [
        "Multiplying matrices with different shapes  $(n,m) \\cdot (m,p) = (n,p)$"
      ],
      "metadata": {
        "id": "PxKrd419m4jF"
      }
    },
    {
      "cell_type": "code",
      "source": [
        "tensor2 = tf.constant([[1,2,3],[4,5,6]])\n",
        "tensor2"
      ],
      "metadata": {
        "colab": {
          "base_uri": "https://localhost:8080/"
        },
        "id": "FbSq2lYqm2-C",
        "outputId": "08670008-c23d-4b52-e876-5d564e5f5499"
      },
      "execution_count": 40,
      "outputs": [
        {
          "output_type": "execute_result",
          "data": {
            "text/plain": [
              "<tf.Tensor: shape=(2, 3), dtype=int32, numpy=\n",
              "array([[1, 2, 3],\n",
              "       [4, 5, 6]], dtype=int32)>"
            ]
          },
          "metadata": {},
          "execution_count": 40
        }
      ]
    },
    {
      "cell_type": "code",
      "source": [
        "tensor3 = tf.constant([[7,8],[9,10],[11,12]])\n",
        "tensor3"
      ],
      "metadata": {
        "colab": {
          "base_uri": "https://localhost:8080/"
        },
        "id": "vt2G3cPNnMJZ",
        "outputId": "3399ebf2-a27a-4537-bfee-9ad5bab9dd20"
      },
      "execution_count": 41,
      "outputs": [
        {
          "output_type": "execute_result",
          "data": {
            "text/plain": [
              "<tf.Tensor: shape=(3, 2), dtype=int32, numpy=\n",
              "array([[ 7,  8],\n",
              "       [ 9, 10],\n",
              "       [11, 12]], dtype=int32)>"
            ]
          },
          "metadata": {},
          "execution_count": 41
        }
      ]
    },
    {
      "cell_type": "code",
      "source": [
        "tensor3 @ tensor"
      ],
      "metadata": {
        "colab": {
          "base_uri": "https://localhost:8080/"
        },
        "id": "4DyG64f6nQd9",
        "outputId": "f92c5879-0a92-426f-f8ae-71de155a6468"
      },
      "execution_count": 42,
      "outputs": [
        {
          "output_type": "execute_result",
          "data": {
            "text/plain": [
              "<tf.Tensor: shape=(3, 2), dtype=int32, numpy=\n",
              "array([[ 94,  81],\n",
              "       [120, 103],\n",
              "       [146, 125]], dtype=int32)>"
            ]
          },
          "metadata": {},
          "execution_count": 42
        }
      ]
    },
    {
      "cell_type": "code",
      "source": [
        "# Create (3, 2) tensor\n",
        "X = tf.constant([[1, 2],\n",
        "                 [3, 4],\n",
        "                 [5, 6]])\n",
        "\n",
        "# Create another (3, 2) tensor\n",
        "Y = tf.constant([[7, 8],\n",
        "                 [9, 10],\n",
        "                 [11, 12]])\n",
        "X, Y"
      ],
      "metadata": {
        "colab": {
          "base_uri": "https://localhost:8080/"
        },
        "id": "lWT6T9nLp1cn",
        "outputId": "d615a652-27c8-406e-f9c2-592387d988c3"
      },
      "execution_count": 43,
      "outputs": [
        {
          "output_type": "execute_result",
          "data": {
            "text/plain": [
              "(<tf.Tensor: shape=(3, 2), dtype=int32, numpy=\n",
              " array([[1, 2],\n",
              "        [3, 4],\n",
              "        [5, 6]], dtype=int32)>,\n",
              " <tf.Tensor: shape=(3, 2), dtype=int32, numpy=\n",
              " array([[ 7,  8],\n",
              "        [ 9, 10],\n",
              "        [11, 12]], dtype=int32)>)"
            ]
          },
          "metadata": {},
          "execution_count": 43
        }
      ]
    },
    {
      "cell_type": "code",
      "source": [
        "# tf.matmul(X,Y)   # incompatible matrix shapes, we get an error."
      ],
      "metadata": {
        "id": "Y0PKkUZIp8vy"
      },
      "execution_count": 44,
      "outputs": []
    },
    {
      "cell_type": "markdown",
      "source": [
        "Reshaping matrices with `tf.reshape()`"
      ],
      "metadata": {
        "id": "BttCcXgWqxPJ"
      }
    },
    {
      "cell_type": "code",
      "source": [
        "Y_reshape = tf.reshape(Y, shape=(2,3))\n",
        "Y_reshape"
      ],
      "metadata": {
        "colab": {
          "base_uri": "https://localhost:8080/"
        },
        "id": "YWuls3rAqNnh",
        "outputId": "4d1bbad6-a27a-4ffe-8ec2-cb18bdd91e53"
      },
      "execution_count": 45,
      "outputs": [
        {
          "output_type": "execute_result",
          "data": {
            "text/plain": [
              "<tf.Tensor: shape=(2, 3), dtype=int32, numpy=\n",
              "array([[ 7,  8,  9],\n",
              "       [10, 11, 12]], dtype=int32)>"
            ]
          },
          "metadata": {},
          "execution_count": 45
        }
      ]
    },
    {
      "cell_type": "code",
      "source": [
        "tf.matmul(X,Y_reshape)"
      ],
      "metadata": {
        "colab": {
          "base_uri": "https://localhost:8080/"
        },
        "id": "3eHUTF9Pqcvw",
        "outputId": "78856c52-afe6-4511-c444-440574c7521b"
      },
      "execution_count": 46,
      "outputs": [
        {
          "output_type": "execute_result",
          "data": {
            "text/plain": [
              "<tf.Tensor: shape=(3, 3), dtype=int32, numpy=\n",
              "array([[ 27,  30,  33],\n",
              "       [ 61,  68,  75],\n",
              "       [ 95, 106, 117]], dtype=int32)>"
            ]
          },
          "metadata": {},
          "execution_count": 46
        }
      ]
    },
    {
      "cell_type": "code",
      "source": [
        "tf.tensordot(X,Y_reshape, axes=1)\n"
      ],
      "metadata": {
        "colab": {
          "base_uri": "https://localhost:8080/"
        },
        "id": "5PeCrNmHqu4I",
        "outputId": "b092dd24-c356-4831-9c94-d7ea4bac6682"
      },
      "execution_count": 47,
      "outputs": [
        {
          "output_type": "execute_result",
          "data": {
            "text/plain": [
              "<tf.Tensor: shape=(3, 3), dtype=int32, numpy=\n",
              "array([[ 27,  30,  33],\n",
              "       [ 61,  68,  75],\n",
              "       [ 95, 106, 117]], dtype=int32)>"
            ]
          },
          "metadata": {},
          "execution_count": 47
        }
      ]
    },
    {
      "cell_type": "markdown",
      "source": [
        "👉 **Note:** Reshaping is NOT the same as transposing!"
      ],
      "metadata": {
        "id": "6iEXBKX4uGm-"
      }
    },
    {
      "cell_type": "code",
      "source": [
        "X,Y"
      ],
      "metadata": {
        "colab": {
          "base_uri": "https://localhost:8080/"
        },
        "id": "Fs4IM2gdumcU",
        "outputId": "7af16d15-08bf-452c-d0a9-f6169766e9e6"
      },
      "execution_count": 48,
      "outputs": [
        {
          "output_type": "execute_result",
          "data": {
            "text/plain": [
              "(<tf.Tensor: shape=(3, 2), dtype=int32, numpy=\n",
              " array([[1, 2],\n",
              "        [3, 4],\n",
              "        [5, 6]], dtype=int32)>,\n",
              " <tf.Tensor: shape=(3, 2), dtype=int32, numpy=\n",
              " array([[ 7,  8],\n",
              "        [ 9, 10],\n",
              "        [11, 12]], dtype=int32)>)"
            ]
          },
          "metadata": {},
          "execution_count": 48
        }
      ]
    },
    {
      "cell_type": "code",
      "source": [
        "tf.matmul(X,tf.transpose(Y)), tf.matmul(X,tf.reshape(Y, shape=(2,3)))"
      ],
      "metadata": {
        "colab": {
          "base_uri": "https://localhost:8080/"
        },
        "id": "ZwtxyY17u68N",
        "outputId": "2874393a-3038-4f7c-db33-ca2f458cd318"
      },
      "execution_count": 49,
      "outputs": [
        {
          "output_type": "execute_result",
          "data": {
            "text/plain": [
              "(<tf.Tensor: shape=(3, 3), dtype=int32, numpy=\n",
              " array([[ 23,  29,  35],\n",
              "        [ 53,  67,  81],\n",
              "        [ 83, 105, 127]], dtype=int32)>,\n",
              " <tf.Tensor: shape=(3, 3), dtype=int32, numpy=\n",
              " array([[ 27,  30,  33],\n",
              "        [ 61,  68,  75],\n",
              "        [ 95, 106, 117]], dtype=int32)>)"
            ]
          },
          "metadata": {},
          "execution_count": 49
        }
      ]
    },
    {
      "cell_type": "code",
      "source": [
        "Y, tf.transpose(Y), tf.reshape(Y, shape=(2,3))"
      ],
      "metadata": {
        "colab": {
          "base_uri": "https://localhost:8080/"
        },
        "id": "ph2OZWgmyWnb",
        "outputId": "5fa272aa-4d93-49db-d7da-32700fc98653"
      },
      "execution_count": 50,
      "outputs": [
        {
          "output_type": "execute_result",
          "data": {
            "text/plain": [
              "(<tf.Tensor: shape=(3, 2), dtype=int32, numpy=\n",
              " array([[ 7,  8],\n",
              "        [ 9, 10],\n",
              "        [11, 12]], dtype=int32)>,\n",
              " <tf.Tensor: shape=(2, 3), dtype=int32, numpy=\n",
              " array([[ 7,  9, 11],\n",
              "        [ 8, 10, 12]], dtype=int32)>,\n",
              " <tf.Tensor: shape=(2, 3), dtype=int32, numpy=\n",
              " array([[ 7,  8,  9],\n",
              "        [10, 11, 12]], dtype=int32)>)"
            ]
          },
          "metadata": {},
          "execution_count": 50
        }
      ]
    },
    {
      "cell_type": "markdown",
      "source": [
        "#### Changing the data type of a tensor"
      ],
      "metadata": {
        "id": "Bx4xz5nAzDjc"
      }
    },
    {
      "cell_type": "code",
      "source": [
        "rank_4_tensor"
      ],
      "metadata": {
        "colab": {
          "base_uri": "https://localhost:8080/"
        },
        "id": "zafiGW8QzJA_",
        "outputId": "0019ae64-26d9-40b8-aad5-4aece5ad98af"
      },
      "execution_count": 51,
      "outputs": [
        {
          "output_type": "execute_result",
          "data": {
            "text/plain": [
              "<tf.Tensor: shape=(2, 3, 4, 5), dtype=float32, numpy=\n",
              "array([[[[0.7493447 , 0.73561966, 0.45230794, 0.49039817, 0.1889317 ],\n",
              "         [0.52027524, 0.8736881 , 0.46921718, 0.63932586, 0.6467117 ],\n",
              "         [0.96246755, 0.41009164, 0.86540747, 0.8862978 , 0.27795732],\n",
              "         [0.8857763 , 0.2179842 , 0.29115117, 0.03953862, 0.8136791 ]],\n",
              "\n",
              "        [[0.8139852 , 0.52180684, 0.12496924, 0.5488483 , 0.7755773 ],\n",
              "         [0.6184403 , 0.24936223, 0.89341843, 0.28422844, 0.70332646],\n",
              "         [0.2622137 , 0.4432162 , 0.466465  , 0.05981874, 0.40098202],\n",
              "         [0.69292355, 0.1284684 , 0.22770369, 0.33691216, 0.5329138 ]],\n",
              "\n",
              "        [[0.5914326 , 0.21738243, 0.5322075 , 0.05148339, 0.03951418],\n",
              "         [0.41866875, 0.78939915, 0.04384279, 0.96955836, 0.49116182],\n",
              "         [0.3706199 , 0.33535397, 0.02760839, 0.99757504, 0.52172756],\n",
              "         [0.20307171, 0.7182547 , 0.84263575, 0.9542595 , 0.90112185]]],\n",
              "\n",
              "\n",
              "       [[[0.62839293, 0.08619452, 0.5679928 , 0.28763676, 0.18828917],\n",
              "         [0.6658715 , 0.6190208 , 0.04422736, 0.49626625, 0.6474861 ],\n",
              "         [0.3557682 , 0.32033885, 0.33705008, 0.7391062 , 0.16512096],\n",
              "         [0.41555858, 0.78638244, 0.45899415, 0.42686343, 0.5630441 ]],\n",
              "\n",
              "        [[0.04115057, 0.7532015 , 0.18315244, 0.30807555, 0.30482936],\n",
              "         [0.08611703, 0.7526083 , 0.42415357, 0.7877505 , 0.11611497],\n",
              "         [0.35255086, 0.50718856, 0.16467738, 0.54108894, 0.5765736 ],\n",
              "         [0.16844285, 0.8007604 , 0.34483027, 0.30735934, 0.9700769 ]],\n",
              "\n",
              "        [[0.43336582, 0.51829636, 0.8555572 , 0.21962428, 0.76091194],\n",
              "         [0.04762888, 0.5131633 , 0.97339594, 0.33341944, 0.03152311],\n",
              "         [0.28874612, 0.58736026, 0.75669694, 0.7060174 , 0.5588795 ],\n",
              "         [0.40088904, 0.8377521 , 0.7651175 , 0.5402924 , 0.52445555]]]],\n",
              "      dtype=float32)>"
            ]
          },
          "metadata": {},
          "execution_count": 51
        }
      ]
    },
    {
      "cell_type": "code",
      "source": [
        "tf.cast(rank_4_tensor, dtype=tf.float16)"
      ],
      "metadata": {
        "colab": {
          "base_uri": "https://localhost:8080/"
        },
        "id": "gvo9s5Vtzsgv",
        "outputId": "a6142f8a-7781-45f7-c5b9-8a2f5f143f12"
      },
      "execution_count": 52,
      "outputs": [
        {
          "output_type": "execute_result",
          "data": {
            "text/plain": [
              "<tf.Tensor: shape=(2, 3, 4, 5), dtype=float16, numpy=\n",
              "array([[[[0.7495 , 0.736  , 0.4524 , 0.4905 , 0.189  ],\n",
              "         [0.5205 , 0.8735 , 0.4692 , 0.639  , 0.6465 ],\n",
              "         [0.9624 , 0.4102 , 0.865  , 0.886  , 0.278  ],\n",
              "         [0.8857 , 0.218  , 0.2913 , 0.03955, 0.8135 ]],\n",
              "\n",
              "        [[0.814  , 0.522  , 0.12494, 0.549  , 0.7754 ],\n",
              "         [0.6187 , 0.2494 , 0.8936 , 0.2842 , 0.703  ],\n",
              "         [0.2622 , 0.443  , 0.4666 , 0.0598 , 0.401  ],\n",
              "         [0.693  , 0.1284 , 0.2277 , 0.337  , 0.5327 ]],\n",
              "\n",
              "        [[0.5913 , 0.2174 , 0.532  , 0.05148, 0.03952],\n",
              "         [0.4187 , 0.7896 , 0.04385, 0.9697 , 0.4912 ],\n",
              "         [0.3706 , 0.3354 , 0.0276 , 0.9976 , 0.5215 ],\n",
              "         [0.2031 , 0.7183 , 0.843  , 0.954  , 0.901  ]]],\n",
              "\n",
              "\n",
              "       [[[0.6284 , 0.0862 , 0.568  , 0.2876 , 0.1882 ],\n",
              "         [0.666  , 0.619  , 0.04422, 0.4963 , 0.6475 ],\n",
              "         [0.3557 , 0.3203 , 0.3372 , 0.7393 , 0.1652 ],\n",
              "         [0.4155 , 0.7866 , 0.459  , 0.4268 , 0.563  ]],\n",
              "\n",
              "        [[0.04114, 0.7534 , 0.1831 , 0.308  , 0.305  ],\n",
              "         [0.0861 , 0.7524 , 0.424  , 0.7876 , 0.1161 ],\n",
              "         [0.3525 , 0.5073 , 0.1647 , 0.541  , 0.5767 ],\n",
              "         [0.1685 , 0.801  , 0.3447 , 0.3074 , 0.97   ]],\n",
              "\n",
              "        [[0.4333 , 0.518  , 0.8555 , 0.2196 , 0.7607 ],\n",
              "         [0.04764, 0.513  , 0.9736 , 0.3335 , 0.03152],\n",
              "         [0.2888 , 0.5874 , 0.757  , 0.706  , 0.559  ],\n",
              "         [0.401  , 0.838  , 0.765  , 0.5405 , 0.5244 ]]]], dtype=float16)>"
            ]
          },
          "metadata": {},
          "execution_count": 52
        }
      ]
    },
    {
      "cell_type": "code",
      "source": [
        "tf.cast(rank_4_tensor, dtype=tf.int64)"
      ],
      "metadata": {
        "colab": {
          "base_uri": "https://localhost:8080/"
        },
        "id": "zRiNUvJB0M-9",
        "outputId": "62849453-4e05-48dd-c767-fae4942cfd96"
      },
      "execution_count": 53,
      "outputs": [
        {
          "output_type": "execute_result",
          "data": {
            "text/plain": [
              "<tf.Tensor: shape=(2, 3, 4, 5), dtype=int64, numpy=\n",
              "array([[[[0, 0, 0, 0, 0],\n",
              "         [0, 0, 0, 0, 0],\n",
              "         [0, 0, 0, 0, 0],\n",
              "         [0, 0, 0, 0, 0]],\n",
              "\n",
              "        [[0, 0, 0, 0, 0],\n",
              "         [0, 0, 0, 0, 0],\n",
              "         [0, 0, 0, 0, 0],\n",
              "         [0, 0, 0, 0, 0]],\n",
              "\n",
              "        [[0, 0, 0, 0, 0],\n",
              "         [0, 0, 0, 0, 0],\n",
              "         [0, 0, 0, 0, 0],\n",
              "         [0, 0, 0, 0, 0]]],\n",
              "\n",
              "\n",
              "       [[[0, 0, 0, 0, 0],\n",
              "         [0, 0, 0, 0, 0],\n",
              "         [0, 0, 0, 0, 0],\n",
              "         [0, 0, 0, 0, 0]],\n",
              "\n",
              "        [[0, 0, 0, 0, 0],\n",
              "         [0, 0, 0, 0, 0],\n",
              "         [0, 0, 0, 0, 0],\n",
              "         [0, 0, 0, 0, 0]],\n",
              "\n",
              "        [[0, 0, 0, 0, 0],\n",
              "         [0, 0, 0, 0, 0],\n",
              "         [0, 0, 0, 0, 0],\n",
              "         [0, 0, 0, 0, 0]]]])>"
            ]
          },
          "metadata": {},
          "execution_count": 53
        }
      ]
    },
    {
      "cell_type": "code",
      "source": [
        "tensor_A1, tf.cast(tensor_A1, dtype=tf.float16)"
      ],
      "metadata": {
        "colab": {
          "base_uri": "https://localhost:8080/"
        },
        "id": "T-VawKKm0AA6",
        "outputId": "15965476-2661-4691-c094-084554c8a034"
      },
      "execution_count": 54,
      "outputs": [
        {
          "output_type": "execute_result",
          "data": {
            "text/plain": [
              "(<tf.Tensor: shape=(24,), dtype=int32, numpy=\n",
              " array([ 1,  2,  3,  4,  5,  6,  7,  8,  9, 10, 11, 12, 13, 14, 15, 16, 17,\n",
              "        18, 19, 20, 21, 22, 23, 24], dtype=int32)>,\n",
              " <tf.Tensor: shape=(24,), dtype=float16, numpy=\n",
              " array([ 1.,  2.,  3.,  4.,  5.,  6.,  7.,  8.,  9., 10., 11., 12., 13.,\n",
              "        14., 15., 16., 17., 18., 19., 20., 21., 22., 23., 24.],\n",
              "       dtype=float16)>)"
            ]
          },
          "metadata": {},
          "execution_count": 54
        }
      ]
    },
    {
      "cell_type": "markdown",
      "source": [
        "#### Aggregating Tensors"
      ],
      "metadata": {
        "id": "Os-J4e1500o1"
      }
    },
    {
      "cell_type": "code",
      "source": [
        "# absolute value\n",
        "\n",
        "random_1, tf.abs(random_1)"
      ],
      "metadata": {
        "colab": {
          "base_uri": "https://localhost:8080/"
        },
        "id": "7ACD6vZZ1aJV",
        "outputId": "2e735a4b-c1c4-4f2a-d1e6-363353b273d0"
      },
      "execution_count": 55,
      "outputs": [
        {
          "output_type": "execute_result",
          "data": {
            "text/plain": [
              "(<tf.Tensor: shape=(3, 2), dtype=float32, numpy=\n",
              " array([[-0.7565803 , -0.06854702],\n",
              "        [ 0.07595026, -1.2573844 ],\n",
              "        [-0.23193763, -1.8107855 ]], dtype=float32)>,\n",
              " <tf.Tensor: shape=(3, 2), dtype=float32, numpy=\n",
              " array([[0.7565803 , 0.06854702],\n",
              "        [0.07595026, 1.2573844 ],\n",
              "        [0.23193763, 1.8107855 ]], dtype=float32)>)"
            ]
          },
          "metadata": {},
          "execution_count": 55
        }
      ]
    },
    {
      "cell_type": "code",
      "source": [
        "# Min, Max, Mean, Sum, Std_Dev\n",
        "\n",
        "print(rank_2_tensor,\"\\n\\n min:\",\n",
        "      tf.reduce_min(rank_2_tensor,keepdims=True),\"\\n\\n max:\",\n",
        "      tf.reduce_max(rank_2_tensor,keepdims=True),\"\\n\\n mean:\",\n",
        "      tf.reduce_mean(rank_2_tensor,keepdims=True),\"\\n\\n sum:\",\n",
        "      tf.reduce_sum(rank_2_tensor,keepdims=True), \"\\n\\n std_dev:\",\n",
        "      tf.math.reduce_std(tf.cast(rank_2_tensor, dtype=tf.float32)),\"\\n\\n variance:\",\n",
        "      tf.math.reduce_variance(tf.cast(rank_2_tensor, dtype=tf.float32)))"
      ],
      "metadata": {
        "colab": {
          "base_uri": "https://localhost:8080/"
        },
        "id": "ZH8ULglo2Abk",
        "outputId": "5223dfa3-78ee-432c-ae06-43a8ccd9981c"
      },
      "execution_count": 56,
      "outputs": [
        {
          "output_type": "stream",
          "name": "stdout",
          "text": [
            "tf.Tensor(\n",
            "[[0.7493447  0.73561966 0.45230794]\n",
            " [0.49039817 0.1889317  0.52027524]], shape=(2, 3), dtype=float32) \n",
            "\n",
            " min: tf.Tensor([[0.1889317]], shape=(1, 1), dtype=float32) \n",
            "\n",
            " max: tf.Tensor([[0.7493447]], shape=(1, 1), dtype=float32) \n",
            "\n",
            " mean: tf.Tensor([[0.5228129]], shape=(1, 1), dtype=float32) \n",
            "\n",
            " sum: tf.Tensor([[3.1368775]], shape=(1, 1), dtype=float32) \n",
            "\n",
            " std_dev: tf.Tensor(0.18890391, shape=(), dtype=float32) \n",
            "\n",
            " variance: tf.Tensor(0.03568469, shape=(), dtype=float32)\n"
          ]
        }
      ]
    },
    {
      "cell_type": "markdown",
      "source": [
        "#### Find the positional min and max in a tensor"
      ],
      "metadata": {
        "id": "KOBDsGva5_Kh"
      }
    },
    {
      "cell_type": "code",
      "source": [
        "rank_1_tensor = tf.random.Generator.from_seed(42)\n",
        "rank_1_tensor = rank_1_tensor.uniform(shape=(50,))\n",
        "rank_1_tensor, rank_1_tensor.ndim"
      ],
      "metadata": {
        "colab": {
          "base_uri": "https://localhost:8080/"
        },
        "id": "cQOFyUWu8EQh",
        "outputId": "4b5774e0-8cc4-434f-e2e9-88076ba426f2"
      },
      "execution_count": 57,
      "outputs": [
        {
          "output_type": "execute_result",
          "data": {
            "text/plain": [
              "(<tf.Tensor: shape=(50,), dtype=float32, numpy=\n",
              " array([0.7493447 , 0.73561966, 0.45230794, 0.49039817, 0.1889317 ,\n",
              "        0.52027524, 0.8736881 , 0.46921718, 0.63932586, 0.6467117 ,\n",
              "        0.96246755, 0.41009164, 0.86540747, 0.8862978 , 0.27795732,\n",
              "        0.8857763 , 0.2179842 , 0.29115117, 0.03953862, 0.8136791 ,\n",
              "        0.8139852 , 0.52180684, 0.12496924, 0.5488483 , 0.7755773 ,\n",
              "        0.6184403 , 0.24936223, 0.89341843, 0.28422844, 0.70332646,\n",
              "        0.2622137 , 0.4432162 , 0.466465  , 0.05981874, 0.40098202,\n",
              "        0.69292355, 0.1284684 , 0.22770369, 0.33691216, 0.5329138 ,\n",
              "        0.5914326 , 0.21738243, 0.5322075 , 0.05148339, 0.03951418,\n",
              "        0.41866875, 0.78939915, 0.04384279, 0.96955836, 0.49116182],\n",
              "       dtype=float32)>,\n",
              " 1)"
            ]
          },
          "metadata": {},
          "execution_count": 57
        }
      ]
    },
    {
      "cell_type": "code",
      "source": [
        "tf.argmin(rank_1_tensor),tf.argmax(rank_1_tensor)"
      ],
      "metadata": {
        "colab": {
          "base_uri": "https://localhost:8080/"
        },
        "id": "h-UPL7fG8PqP",
        "outputId": "2bc4bb90-e6d3-40e1-c2be-44c23a2a6d23"
      },
      "execution_count": 58,
      "outputs": [
        {
          "output_type": "execute_result",
          "data": {
            "text/plain": [
              "(<tf.Tensor: shape=(), dtype=int64, numpy=44>,\n",
              " <tf.Tensor: shape=(), dtype=int64, numpy=48>)"
            ]
          },
          "metadata": {},
          "execution_count": 58
        }
      ]
    },
    {
      "cell_type": "code",
      "source": [
        "rank_1_tensor[tf.argmin(rank_1_tensor)], rank_1_tensor[tf.argmax(rank_1_tensor)]"
      ],
      "metadata": {
        "colab": {
          "base_uri": "https://localhost:8080/"
        },
        "id": "mJI-ccNAaABy",
        "outputId": "5643d435-02fe-4ece-9dc0-8fe506f5f396"
      },
      "execution_count": 59,
      "outputs": [
        {
          "output_type": "execute_result",
          "data": {
            "text/plain": [
              "(<tf.Tensor: shape=(), dtype=float32, numpy=0.03951418399810791>,\n",
              " <tf.Tensor: shape=(), dtype=float32, numpy=0.9695583581924438>)"
            ]
          },
          "metadata": {},
          "execution_count": 59
        }
      ]
    },
    {
      "cell_type": "code",
      "source": [
        "print(rank_2_tensor,\"\\n\\n argmin:\", tf.argmin(rank_2_tensor),\"\\n\\n argmax:\",tf.argmax(rank_2_tensor))"
      ],
      "metadata": {
        "colab": {
          "base_uri": "https://localhost:8080/"
        },
        "id": "bPFMMDBM6Ea-",
        "outputId": "4737507a-d1aa-4e7c-992d-0f3b3b8b2635"
      },
      "execution_count": 60,
      "outputs": [
        {
          "output_type": "stream",
          "name": "stdout",
          "text": [
            "tf.Tensor(\n",
            "[[0.7493447  0.73561966 0.45230794]\n",
            " [0.49039817 0.1889317  0.52027524]], shape=(2, 3), dtype=float32) \n",
            "\n",
            " argmin: tf.Tensor([1 1 0], shape=(3,), dtype=int64) \n",
            "\n",
            " argmax: tf.Tensor([0 0 1], shape=(3,), dtype=int64)\n"
          ]
        }
      ]
    },
    {
      "cell_type": "code",
      "source": [
        "rank_2_tensor[tf.argmin(rank_2_tensor)[0]], rank_2_tensor[tf.argmax(rank_2_tensor)[1]]"
      ],
      "metadata": {
        "colab": {
          "base_uri": "https://localhost:8080/"
        },
        "id": "ImJdmZgJaFx_",
        "outputId": "ba3dd7e3-5170-4e87-e704-096c38c78344"
      },
      "execution_count": 61,
      "outputs": [
        {
          "output_type": "execute_result",
          "data": {
            "text/plain": [
              "(<tf.Tensor: shape=(3,), dtype=float32, numpy=array([0.49039817, 0.1889317 , 0.52027524], dtype=float32)>,\n",
              " <tf.Tensor: shape=(3,), dtype=float32, numpy=array([0.7493447 , 0.73561966, 0.45230794], dtype=float32)>)"
            ]
          },
          "metadata": {},
          "execution_count": 61
        }
      ]
    },
    {
      "cell_type": "markdown",
      "source": [
        "#### Squeezing a Tensor (removing all single dimensions)"
      ],
      "metadata": {
        "id": "B2YLbEynbEhD"
      }
    },
    {
      "cell_type": "code",
      "source": [
        "tf.random.set_seed(42)\n",
        "some_tensor = tf.constant(tf.random.uniform(shape=[50]), shape=(1,1,1,1,50))\n",
        "some_tensor"
      ],
      "metadata": {
        "colab": {
          "base_uri": "https://localhost:8080/"
        },
        "id": "aMtjw2NGbbwh",
        "outputId": "1fabd903-332f-4947-cc56-3f993840aa7a"
      },
      "execution_count": 62,
      "outputs": [
        {
          "output_type": "execute_result",
          "data": {
            "text/plain": [
              "<tf.Tensor: shape=(1, 1, 1, 1, 50), dtype=float32, numpy=\n",
              "array([[[[[0.6645621 , 0.44100678, 0.3528825 , 0.46448255, 0.03366041,\n",
              "           0.68467236, 0.74011743, 0.8724445 , 0.22632635, 0.22319686,\n",
              "           0.3103881 , 0.7223358 , 0.13318717, 0.5480639 , 0.5746088 ,\n",
              "           0.8996835 , 0.00946367, 0.5212307 , 0.6345445 , 0.1993283 ,\n",
              "           0.72942245, 0.54583454, 0.10756552, 0.6767061 , 0.6602763 ,\n",
              "           0.33695042, 0.60141766, 0.21062577, 0.8527372 , 0.44062173,\n",
              "           0.9485276 , 0.23752594, 0.81179297, 0.5263394 , 0.494308  ,\n",
              "           0.21612847, 0.8457197 , 0.8718841 , 0.3083862 , 0.6868038 ,\n",
              "           0.23764038, 0.7817228 , 0.9671384 , 0.06870162, 0.79873943,\n",
              "           0.66028714, 0.5871513 , 0.16461694, 0.7381023 , 0.32054043]]]]],\n",
              "      dtype=float32)>"
            ]
          },
          "metadata": {},
          "execution_count": 62
        }
      ]
    },
    {
      "cell_type": "code",
      "source": [
        "some_tensor.shape, some_tensor.ndim"
      ],
      "metadata": {
        "colab": {
          "base_uri": "https://localhost:8080/"
        },
        "id": "Q3WIjzgGcFub",
        "outputId": "736fa4ad-2500-4bb3-80e9-b5f21cd07955"
      },
      "execution_count": 63,
      "outputs": [
        {
          "output_type": "execute_result",
          "data": {
            "text/plain": [
              "(TensorShape([1, 1, 1, 1, 50]), 5)"
            ]
          },
          "metadata": {},
          "execution_count": 63
        }
      ]
    },
    {
      "cell_type": "code",
      "source": [
        "some_tensor_squeezed = tf.squeeze(some_tensor)\n",
        "some_tensor_squeezed"
      ],
      "metadata": {
        "colab": {
          "base_uri": "https://localhost:8080/"
        },
        "id": "_aw40gIpcIsz",
        "outputId": "4730a1b1-ed87-440c-bd2c-ca0ef67ed574"
      },
      "execution_count": 64,
      "outputs": [
        {
          "output_type": "execute_result",
          "data": {
            "text/plain": [
              "<tf.Tensor: shape=(50,), dtype=float32, numpy=\n",
              "array([0.6645621 , 0.44100678, 0.3528825 , 0.46448255, 0.03366041,\n",
              "       0.68467236, 0.74011743, 0.8724445 , 0.22632635, 0.22319686,\n",
              "       0.3103881 , 0.7223358 , 0.13318717, 0.5480639 , 0.5746088 ,\n",
              "       0.8996835 , 0.00946367, 0.5212307 , 0.6345445 , 0.1993283 ,\n",
              "       0.72942245, 0.54583454, 0.10756552, 0.6767061 , 0.6602763 ,\n",
              "       0.33695042, 0.60141766, 0.21062577, 0.8527372 , 0.44062173,\n",
              "       0.9485276 , 0.23752594, 0.81179297, 0.5263394 , 0.494308  ,\n",
              "       0.21612847, 0.8457197 , 0.8718841 , 0.3083862 , 0.6868038 ,\n",
              "       0.23764038, 0.7817228 , 0.9671384 , 0.06870162, 0.79873943,\n",
              "       0.66028714, 0.5871513 , 0.16461694, 0.7381023 , 0.32054043],\n",
              "      dtype=float32)>"
            ]
          },
          "metadata": {},
          "execution_count": 64
        }
      ]
    },
    {
      "cell_type": "markdown",
      "source": [
        "#### One-Hot Encoding Tensors"
      ],
      "metadata": {
        "id": "F2VOFYtscTJx"
      }
    },
    {
      "cell_type": "code",
      "source": [
        "# Create a list of indices\n",
        "some_list = [0,1,2,3]\n",
        "\n",
        "# One hot encode them\n",
        "tf.one_hot(some_list, depth=4)"
      ],
      "metadata": {
        "colab": {
          "base_uri": "https://localhost:8080/"
        },
        "id": "FHO25Zj7c3bp",
        "outputId": "ab57cb98-7737-4758-b716-24bbc66bdec5"
      },
      "execution_count": 65,
      "outputs": [
        {
          "output_type": "execute_result",
          "data": {
            "text/plain": [
              "<tf.Tensor: shape=(4, 4), dtype=float32, numpy=\n",
              "array([[1., 0., 0., 0.],\n",
              "       [0., 1., 0., 0.],\n",
              "       [0., 0., 1., 0.],\n",
              "       [0., 0., 0., 1.]], dtype=float32)>"
            ]
          },
          "metadata": {},
          "execution_count": 65
        }
      ]
    },
    {
      "cell_type": "code",
      "source": [
        "# We can specify some custom values for one-hot encoding\n",
        "tf.one_hot(some_list, depth=4, on_value=\"I love deep learning\", off_value=\"I also like to dance\")"
      ],
      "metadata": {
        "colab": {
          "base_uri": "https://localhost:8080/"
        },
        "id": "lTQzfamWdioQ",
        "outputId": "da9e671a-d2c8-49eb-d87a-ae8863303076"
      },
      "execution_count": 66,
      "outputs": [
        {
          "output_type": "execute_result",
          "data": {
            "text/plain": [
              "<tf.Tensor: shape=(4, 4), dtype=string, numpy=\n",
              "array([[b'I love deep learning', b'I also like to dance',\n",
              "        b'I also like to dance', b'I also like to dance'],\n",
              "       [b'I also like to dance', b'I love deep learning',\n",
              "        b'I also like to dance', b'I also like to dance'],\n",
              "       [b'I also like to dance', b'I also like to dance',\n",
              "        b'I love deep learning', b'I also like to dance'],\n",
              "       [b'I also like to dance', b'I also like to dance',\n",
              "        b'I also like to dance', b'I love deep learning']], dtype=object)>"
            ]
          },
          "metadata": {},
          "execution_count": 66
        }
      ]
    },
    {
      "cell_type": "markdown",
      "source": [
        "#### Squaring, Log, Square Root"
      ],
      "metadata": {
        "id": "C097UFMed-mT"
      }
    },
    {
      "cell_type": "code",
      "source": [
        "another_tensor = tf.range(1,10)\n",
        "another_tensor, tf.square(another_tensor), tf.sqrt(tf.cast(another_tensor, dtype=tf.float32)), tf.math.log(tf.cast(another_tensor, dtype=tf.float32))"
      ],
      "metadata": {
        "colab": {
          "base_uri": "https://localhost:8080/"
        },
        "id": "YbO9lIjReIzq",
        "outputId": "27630bfd-0d63-4aaa-e26e-ef009a40485b"
      },
      "execution_count": 67,
      "outputs": [
        {
          "output_type": "execute_result",
          "data": {
            "text/plain": [
              "(<tf.Tensor: shape=(9,), dtype=int32, numpy=array([1, 2, 3, 4, 5, 6, 7, 8, 9], dtype=int32)>,\n",
              " <tf.Tensor: shape=(9,), dtype=int32, numpy=array([ 1,  4,  9, 16, 25, 36, 49, 64, 81], dtype=int32)>,\n",
              " <tf.Tensor: shape=(9,), dtype=float32, numpy=\n",
              " array([1.       , 1.4142135, 1.7320508, 2.       , 2.236068 , 2.4494898,\n",
              "        2.6457512, 2.828427 , 3.       ], dtype=float32)>,\n",
              " <tf.Tensor: shape=(9,), dtype=float32, numpy=\n",
              " array([0.       , 0.6931472, 1.0986123, 1.3862944, 1.609438 , 1.7917595,\n",
              "        1.9459102, 2.0794415, 2.1972246], dtype=float32)>)"
            ]
          },
          "metadata": {},
          "execution_count": 67
        }
      ]
    },
    {
      "cell_type": "markdown",
      "source": [
        "#### Tensors and Numpy (they work together quite well!)"
      ],
      "metadata": {
        "id": "GV2p_C_7ey8i"
      }
    },
    {
      "cell_type": "code",
      "source": [
        "still_another_tensor = tf.constant(np.array([3.,7.,10.]))\n",
        "still_another_tensor, still_another_tensor.dtype"
      ],
      "metadata": {
        "colab": {
          "base_uri": "https://localhost:8080/"
        },
        "id": "Zgbn0lDhe8X0",
        "outputId": "e527f6a2-d3ba-423e-ac40-623b99c1a30a"
      },
      "execution_count": 68,
      "outputs": [
        {
          "output_type": "execute_result",
          "data": {
            "text/plain": [
              "(<tf.Tensor: shape=(3,), dtype=float64, numpy=array([ 3.,  7., 10.])>,\n",
              " tf.float64)"
            ]
          },
          "metadata": {},
          "execution_count": 68
        }
      ]
    },
    {
      "cell_type": "code",
      "source": [
        "# Convert still_another_tensor back to a Numpy array\n",
        "np.array(still_another_tensor), type(np.array(still_another_tensor))"
      ],
      "metadata": {
        "colab": {
          "base_uri": "https://localhost:8080/"
        },
        "id": "_CV6up1NfJLb",
        "outputId": "6cedf936-ae58-469d-c178-cd15a1594ad9"
      },
      "execution_count": 69,
      "outputs": [
        {
          "output_type": "execute_result",
          "data": {
            "text/plain": [
              "(array([ 3.,  7., 10.]), numpy.ndarray)"
            ]
          },
          "metadata": {},
          "execution_count": 69
        }
      ]
    },
    {
      "cell_type": "code",
      "source": [
        "# Also...\n",
        "\n",
        "still_another_tensor.numpy(), type(still_another_tensor.numpy())"
      ],
      "metadata": {
        "colab": {
          "base_uri": "https://localhost:8080/"
        },
        "id": "RA4wqvWnff-A",
        "outputId": "f2ba8fb0-7be8-44f5-852c-83a9e6c33983"
      },
      "execution_count": 70,
      "outputs": [
        {
          "output_type": "execute_result",
          "data": {
            "text/plain": [
              "(array([ 3.,  7., 10.]), numpy.ndarray)"
            ]
          },
          "metadata": {},
          "execution_count": 70
        }
      ]
    },
    {
      "cell_type": "code",
      "source": [
        "still_another_tensor.numpy()[2]"
      ],
      "metadata": {
        "colab": {
          "base_uri": "https://localhost:8080/"
        },
        "id": "FoWHA5v3ftkW",
        "outputId": "2fe5fe71-8e47-4ef6-ca62-46b655992afb"
      },
      "execution_count": 71,
      "outputs": [
        {
          "output_type": "execute_result",
          "data": {
            "text/plain": [
              "10.0"
            ]
          },
          "metadata": {},
          "execution_count": 71
        }
      ]
    },
    {
      "cell_type": "code",
      "source": [
        "# Another thing to be aware of...\n",
        "\n",
        "still_another_tensor_numpy = tf.constant(np.array([3.,7.,10.]))\n",
        "still_another_tensor_tensor = tf.constant([3.,7.,10.])\n",
        "still_another_tensor_numpy, still_another_tensor_numpy.dtype, still_another_tensor_tensor,still_another_tensor_tensor.dtype"
      ],
      "metadata": {
        "colab": {
          "base_uri": "https://localhost:8080/"
        },
        "id": "QY9I-WDXgBDm",
        "outputId": "bb86ba24-78e0-4b55-ed19-b7a3a6d23a1a"
      },
      "execution_count": 72,
      "outputs": [
        {
          "output_type": "execute_result",
          "data": {
            "text/plain": [
              "(<tf.Tensor: shape=(3,), dtype=float64, numpy=array([ 3.,  7., 10.])>,\n",
              " tf.float64,\n",
              " <tf.Tensor: shape=(3,), dtype=float32, numpy=array([ 3.,  7., 10.], dtype=float32)>,\n",
              " tf.float32)"
            ]
          },
          "metadata": {},
          "execution_count": 72
        }
      ]
    },
    {
      "cell_type": "markdown",
      "source": [
        "#### Finding access to GPUs"
      ],
      "metadata": {
        "id": "Xuv32kCihCOS"
      }
    },
    {
      "cell_type": "code",
      "source": [],
      "metadata": {
        "id": "rgcYD-SlG4Yg"
      },
      "execution_count": 72,
      "outputs": []
    },
    {
      "cell_type": "code",
      "source": [
        "tf.config.list_physical_devices()"
      ],
      "metadata": {
        "colab": {
          "base_uri": "https://localhost:8080/"
        },
        "id": "KhzOdizUhTJs",
        "outputId": "cd74fc53-7f55-4030-aa36-d453180a2fdb"
      },
      "execution_count": 73,
      "outputs": [
        {
          "output_type": "execute_result",
          "data": {
            "text/plain": [
              "[PhysicalDevice(name='/physical_device:CPU:0', device_type='CPU')]"
            ]
          },
          "metadata": {},
          "execution_count": 73
        }
      ]
    },
    {
      "cell_type": "markdown",
      "source": [
        "## Exercises"
      ],
      "metadata": {
        "id": "tV4zIjb9G5kV"
      }
    },
    {
      "cell_type": "markdown",
      "source": [
        "\n",
        "1. Create a vector, scalar, matrix and tensor with values of your choosing using tf.constant().\n",
        "\n",
        "2. Find the shape, rank and size of the tensors you created in 1.\n",
        "3. Create two tensors containing random values between 0 and 1 with shape [5, 300].\n",
        "4. Multiply the two tensors you created in 3 using matrix multiplication.\n",
        "5. Multiply the two tensors you created in 3 using dot product.\n",
        "6. Create a tensor with random values between 0 and 1 with shape [224, 224, 3].\n",
        "7. Find the min and max values of the tensor you created in 6 along the first axis.\n",
        "8. Create a tensor with random values of shape [1, 224, 224, 3] then squeeze it to change the shape to [224, 224, 3].\n",
        "9. Create a tensor with shape [10] using your own choice of values, then find the index which has the maximum value.\n",
        "10. One-hot encode the tensor you created in 9."
      ],
      "metadata": {
        "id": "c1NtUkiZGM6i"
      }
    },
    {
      "cell_type": "markdown",
      "source": [
        "1. Create a vector, scalar, matrix and tensor with values of your choosing using tf.constant()"
      ],
      "metadata": {
        "id": "1bHdo6PJHDI1"
      }
    },
    {
      "cell_type": "code",
      "source": [
        "my_matrix = tf.constant([[1,2,3],[4,5,6],[7,8,9]])\n",
        "my_matrix"
      ],
      "metadata": {
        "colab": {
          "base_uri": "https://localhost:8080/"
        },
        "id": "wJTGBQ_gjVOn",
        "outputId": "b0bb1df4-b4e6-4718-8853-54c052fb9c39"
      },
      "execution_count": 74,
      "outputs": [
        {
          "output_type": "execute_result",
          "data": {
            "text/plain": [
              "<tf.Tensor: shape=(3, 3), dtype=int32, numpy=\n",
              "array([[1, 2, 3],\n",
              "       [4, 5, 6],\n",
              "       [7, 8, 9]], dtype=int32)>"
            ]
          },
          "metadata": {},
          "execution_count": 74
        }
      ]
    },
    {
      "cell_type": "markdown",
      "source": [
        "2. Find the shape, rank and size of the tensors you created in 1."
      ],
      "metadata": {
        "id": "wfDNb4DIkLmt"
      }
    },
    {
      "cell_type": "code",
      "source": [
        "my_matrix.shape, my_matrix.ndim, tf.size(my_matrix)"
      ],
      "metadata": {
        "colab": {
          "base_uri": "https://localhost:8080/"
        },
        "id": "Z1emegvgkHev",
        "outputId": "6e557590-bc60-4532-aaf8-ef390ada3cc6"
      },
      "execution_count": 75,
      "outputs": [
        {
          "output_type": "execute_result",
          "data": {
            "text/plain": [
              "(TensorShape([3, 3]), 2, <tf.Tensor: shape=(), dtype=int32, numpy=9>)"
            ]
          },
          "metadata": {},
          "execution_count": 75
        }
      ]
    },
    {
      "cell_type": "markdown",
      "source": [
        "3. Create two tensors containing random values between 0 and 1 with shape [5, 300]."
      ],
      "metadata": {
        "id": "IaI_XzyxkYU4"
      }
    },
    {
      "cell_type": "code",
      "source": [
        "tensor_1 = tf.random.Generator.from_seed(42)\n",
        "tensor_1 = tensor_1.uniform(shape=(5,300))\n",
        "tensor_2  = tf.random.Generator.from_seed(43)\n",
        "tensor_2 = tensor_2.uniform(shape=(5,300))\n",
        "tensor_1, tensor_2"
      ],
      "metadata": {
        "colab": {
          "base_uri": "https://localhost:8080/"
        },
        "id": "gT4_VRGFkrys",
        "outputId": "c7cabbb2-78b9-4f32-fba3-fe613d3c7241"
      },
      "execution_count": 76,
      "outputs": [
        {
          "output_type": "execute_result",
          "data": {
            "text/plain": [
              "(<tf.Tensor: shape=(5, 300), dtype=float32, numpy=\n",
              " array([[0.7493447 , 0.73561966, 0.45230794, ..., 0.5816356 , 0.5627874 ,\n",
              "         0.7491298 ],\n",
              "        [0.6438937 , 0.6938418 , 0.04408407, ..., 0.04825139, 0.5099728 ,\n",
              "         0.26470542],\n",
              "        [0.21373153, 0.6683699 , 0.78474844, ..., 0.19658887, 0.22030771,\n",
              "         0.3766911 ],\n",
              "        [0.68190825, 0.29304636, 0.5415933 , ..., 0.37111604, 0.76053166,\n",
              "         0.7538099 ],\n",
              "        [0.8011551 , 0.48830473, 0.13867617, ..., 0.20301867, 0.8378159 ,\n",
              "         0.19984365]], dtype=float32)>,\n",
              " <tf.Tensor: shape=(5, 300), dtype=float32, numpy=\n",
              " array([[0.1889317 , 0.52027524, 0.8736881 , ..., 0.6938418 , 0.04408407,\n",
              "         0.7331717 ],\n",
              "        [0.6122881 , 0.91794646, 0.4217683 , ..., 0.6683699 , 0.78474844,\n",
              "         0.53774726],\n",
              "        [0.61643577, 0.6502044 , 0.11467147, ..., 0.29304636, 0.5415933 ,\n",
              "         0.4369036 ],\n",
              "        [0.3529532 , 0.77156174, 0.6778333 , ..., 0.48830473, 0.13867617,\n",
              "         0.8220813 ],\n",
              "        [0.8608593 , 0.03958476, 0.65011835, ..., 0.9825791 , 0.41767192,\n",
              "         0.97707057]], dtype=float32)>)"
            ]
          },
          "metadata": {},
          "execution_count": 76
        }
      ]
    },
    {
      "cell_type": "markdown",
      "source": [
        "4. Multiply the two tensors you created in 3 using matrix multiplication."
      ],
      "metadata": {
        "id": "4V4O2Q8mk54i"
      }
    },
    {
      "cell_type": "code",
      "source": [
        "tf.matmul(tensor_1, tf.transpose(tensor_2))"
      ],
      "metadata": {
        "colab": {
          "base_uri": "https://localhost:8080/"
        },
        "id": "yKxjuYd5k-bb",
        "outputId": "d27eff4b-2832-4194-dbb0-b7cc8f762397"
      },
      "execution_count": 77,
      "outputs": [
        {
          "output_type": "execute_result",
          "data": {
            "text/plain": [
              "<tf.Tensor: shape=(5, 5), dtype=float32, numpy=\n",
              "array([[77.17078 , 76.65607 , 73.83887 , 74.86878 , 78.35833 ],\n",
              "       [71.06192 , 71.496376, 72.114136, 72.35361 , 71.47699 ],\n",
              "       [76.86389 , 72.183044, 70.92706 , 73.7735  , 73.654785],\n",
              "       [73.1391  , 70.801285, 71.71931 , 75.0832  , 76.095245],\n",
              "       [76.87064 , 72.677925, 72.11153 , 77.66715 , 75.495674]],\n",
              "      dtype=float32)>"
            ]
          },
          "metadata": {},
          "execution_count": 77
        }
      ]
    },
    {
      "cell_type": "markdown",
      "source": [
        "5. Multiply the two tensors you created in 3 using dot product."
      ],
      "metadata": {
        "id": "TmBU963nlNGP"
      }
    },
    {
      "cell_type": "code",
      "source": [
        "tensor_1 @ tf.transpose(tensor_2)"
      ],
      "metadata": {
        "colab": {
          "base_uri": "https://localhost:8080/"
        },
        "id": "UtlZkujElP7c",
        "outputId": "2cdc0bb7-8d37-422e-a9b2-2d2bbd58bd4d"
      },
      "execution_count": 78,
      "outputs": [
        {
          "output_type": "execute_result",
          "data": {
            "text/plain": [
              "<tf.Tensor: shape=(5, 5), dtype=float32, numpy=\n",
              "array([[77.17078 , 76.65607 , 73.83887 , 74.86878 , 78.35833 ],\n",
              "       [71.06192 , 71.496376, 72.114136, 72.35361 , 71.47699 ],\n",
              "       [76.86389 , 72.183044, 70.92706 , 73.7735  , 73.654785],\n",
              "       [73.1391  , 70.801285, 71.71931 , 75.0832  , 76.095245],\n",
              "       [76.87064 , 72.677925, 72.11153 , 77.66715 , 75.495674]],\n",
              "      dtype=float32)>"
            ]
          },
          "metadata": {},
          "execution_count": 78
        }
      ]
    },
    {
      "cell_type": "markdown",
      "source": [
        "6. Create a tensor with random values between 0 and 1 with shape [224, 224, 3]."
      ],
      "metadata": {
        "id": "-IjBLTqEldnx"
      }
    },
    {
      "cell_type": "code",
      "source": [
        "tensor3 = tf.random.Generator.from_seed(42)\n",
        "tensor3 = tensor3.uniform(shape=(224,224,3))\n",
        "tensor3"
      ],
      "metadata": {
        "colab": {
          "base_uri": "https://localhost:8080/"
        },
        "id": "EpDAm0Qsllme",
        "outputId": "ff11aa2f-755c-4548-8248-c78de2884268"
      },
      "execution_count": 79,
      "outputs": [
        {
          "output_type": "execute_result",
          "data": {
            "text/plain": [
              "<tf.Tensor: shape=(224, 224, 3), dtype=float32, numpy=\n",
              "array([[[0.7493447 , 0.73561966, 0.45230794],\n",
              "        [0.49039817, 0.1889317 , 0.52027524],\n",
              "        [0.8736881 , 0.46921718, 0.63932586],\n",
              "        ...,\n",
              "        [0.8035464 , 0.8265822 , 0.84540355],\n",
              "        [0.16108847, 0.48667014, 0.6170937 ],\n",
              "        [0.22355545, 0.93454087, 0.5319209 ]],\n",
              "\n",
              "       [[0.7508148 , 0.46019256, 0.14229465],\n",
              "        [0.10500956, 0.72874916, 0.89662087],\n",
              "        [0.85220826, 0.76973283, 0.11408448],\n",
              "        ...,\n",
              "        [0.38387823, 0.72712064, 0.7561674 ],\n",
              "        [0.70352066, 0.22680473, 0.24423313],\n",
              "        [0.39240444, 0.32533252, 0.39407527]],\n",
              "\n",
              "       [[0.74291146, 0.54543686, 0.32094967],\n",
              "        [0.6671035 , 0.8900143 , 0.64271927],\n",
              "        [0.5317905 , 0.21345353, 0.71189904],\n",
              "        ...,\n",
              "        [0.53968227, 0.7233304 , 0.7900686 ],\n",
              "        [0.99334645, 0.857829  , 0.67977047],\n",
              "        [0.8087704 , 0.06597769, 0.62171316]],\n",
              "\n",
              "       ...,\n",
              "\n",
              "       [[0.84861326, 0.6271888 , 0.7023717 ],\n",
              "        [0.46894228, 0.4787085 , 0.1912539 ],\n",
              "        [0.39595473, 0.5948347 , 0.6859689 ],\n",
              "        ...,\n",
              "        [0.55004704, 0.81996536, 0.6626886 ],\n",
              "        [0.30092347, 0.3980503 , 0.17080736],\n",
              "        [0.9393351 , 0.3430456 , 0.15847623]],\n",
              "\n",
              "       [[0.07707131, 0.57546544, 0.841964  ],\n",
              "        [0.4417436 , 0.88804233, 0.8017428 ],\n",
              "        [0.6850492 , 0.70381224, 0.38806987],\n",
              "        ...,\n",
              "        [0.01135123, 0.46678603, 0.1724801 ],\n",
              "        [0.6351286 , 0.471022  , 0.22208214],\n",
              "        [0.5487895 , 0.9890213 , 0.12894046]],\n",
              "\n",
              "       [[0.712723  , 0.740348  , 0.8293475 ],\n",
              "        [0.15965354, 0.2230674 , 0.02333987],\n",
              "        [0.7165916 , 0.8322334 , 0.33391452],\n",
              "        ...,\n",
              "        [0.8585105 , 0.13414657, 0.3103006 ],\n",
              "        [0.74841535, 0.5148909 , 0.25076163],\n",
              "        [0.5981357 , 0.20435822, 0.66445065]]], dtype=float32)>"
            ]
          },
          "metadata": {},
          "execution_count": 79
        }
      ]
    },
    {
      "cell_type": "markdown",
      "source": [
        "7. Find the min and max values of the tensor you created in 6 along the first axis."
      ],
      "metadata": {
        "id": "V2I5cDsll09v"
      }
    },
    {
      "cell_type": "code",
      "source": [
        " tf.reduce_min(tensor3,keepdims=True), tf.reduce_max(tensor3,keepdims=True)"
      ],
      "metadata": {
        "colab": {
          "base_uri": "https://localhost:8080/"
        },
        "id": "EKJXn1b4l4Kf",
        "outputId": "3944b628-6873-4e40-cd5e-4a4b8e63b3ff"
      },
      "execution_count": 80,
      "outputs": [
        {
          "output_type": "execute_result",
          "data": {
            "text/plain": [
              "(<tf.Tensor: shape=(1, 1, 1), dtype=float32, numpy=array([[[4.053116e-06]]], dtype=float32)>,\n",
              " <tf.Tensor: shape=(1, 1, 1), dtype=float32, numpy=array([[[0.99998736]]], dtype=float32)>)"
            ]
          },
          "metadata": {},
          "execution_count": 80
        }
      ]
    },
    {
      "cell_type": "markdown",
      "source": [
        "8. Create a tensor with random values of shape [1, 224, 224, 3] then squeeze it to change the shape to [224, 224, 3]."
      ],
      "metadata": {
        "id": "CQU_o6DJmWeS"
      }
    },
    {
      "cell_type": "code",
      "source": [
        "tensor4 = tf.random.Generator.from_seed(42)\n",
        "tensor4 = tensor4.uniform(shape=(1,224,224,3))\n",
        "tensor4.shape, tf.squeeze(tensor4).shape"
      ],
      "metadata": {
        "colab": {
          "base_uri": "https://localhost:8080/"
        },
        "id": "lzqo9rRNmcBr",
        "outputId": "68e96007-ec6c-46ab-ef12-93c294583ed5"
      },
      "execution_count": 81,
      "outputs": [
        {
          "output_type": "execute_result",
          "data": {
            "text/plain": [
              "(TensorShape([1, 224, 224, 3]), TensorShape([224, 224, 3]))"
            ]
          },
          "metadata": {},
          "execution_count": 81
        }
      ]
    },
    {
      "cell_type": "markdown",
      "source": [
        "9. Create a tensor with shape [10] using your own choice of values, then find the index which has the maximum value."
      ],
      "metadata": {
        "id": "y7V61NVfnEiX"
      }
    },
    {
      "cell_type": "code",
      "source": [
        "tensor5 = tf.constant([1,2,3,4,5,6,7,8,9,10])\n",
        "tensor5, tf.argmax(tensor5)"
      ],
      "metadata": {
        "colab": {
          "base_uri": "https://localhost:8080/"
        },
        "id": "ystFdAYDnIfv",
        "outputId": "5d3fe455-5162-4fc9-c2e8-cc31430df019"
      },
      "execution_count": 82,
      "outputs": [
        {
          "output_type": "execute_result",
          "data": {
            "text/plain": [
              "(<tf.Tensor: shape=(10,), dtype=int32, numpy=array([ 1,  2,  3,  4,  5,  6,  7,  8,  9, 10], dtype=int32)>,\n",
              " <tf.Tensor: shape=(), dtype=int64, numpy=9>)"
            ]
          },
          "metadata": {},
          "execution_count": 82
        }
      ]
    },
    {
      "cell_type": "markdown",
      "source": [
        "10. One-hot encode the tensor you created in 9."
      ],
      "metadata": {
        "id": "nIog991fnXns"
      }
    },
    {
      "cell_type": "code",
      "source": [
        "tf.one_hot(tensor5, depth=10)"
      ],
      "metadata": {
        "colab": {
          "base_uri": "https://localhost:8080/"
        },
        "id": "HFJsmS7mnawh",
        "outputId": "bebab4a2-b6f6-496b-812f-0ec6019f1459"
      },
      "execution_count": 83,
      "outputs": [
        {
          "output_type": "execute_result",
          "data": {
            "text/plain": [
              "<tf.Tensor: shape=(10, 10), dtype=float32, numpy=\n",
              "array([[0., 1., 0., 0., 0., 0., 0., 0., 0., 0.],\n",
              "       [0., 0., 1., 0., 0., 0., 0., 0., 0., 0.],\n",
              "       [0., 0., 0., 1., 0., 0., 0., 0., 0., 0.],\n",
              "       [0., 0., 0., 0., 1., 0., 0., 0., 0., 0.],\n",
              "       [0., 0., 0., 0., 0., 1., 0., 0., 0., 0.],\n",
              "       [0., 0., 0., 0., 0., 0., 1., 0., 0., 0.],\n",
              "       [0., 0., 0., 0., 0., 0., 0., 1., 0., 0.],\n",
              "       [0., 0., 0., 0., 0., 0., 0., 0., 1., 0.],\n",
              "       [0., 0., 0., 0., 0., 0., 0., 0., 0., 1.],\n",
              "       [0., 0., 0., 0., 0., 0., 0., 0., 0., 0.]], dtype=float32)>"
            ]
          },
          "metadata": {},
          "execution_count": 83
        }
      ]
    }
  ]
}