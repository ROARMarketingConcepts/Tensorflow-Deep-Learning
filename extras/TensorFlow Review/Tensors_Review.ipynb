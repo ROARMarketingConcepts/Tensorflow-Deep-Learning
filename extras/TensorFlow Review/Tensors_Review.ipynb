{
  "nbformat": 4,
  "nbformat_minor": 0,
  "metadata": {
    "colab": {
      "provenance": []
    },
    "kernelspec": {
      "name": "python3",
      "display_name": "Python 3"
    },
    "language_info": {
      "name": "python"
    }
  },
  "cells": [
    {
      "cell_type": "markdown",
      "source": [
        "# Review of Tensors"
      ],
      "metadata": {
        "id": "Y9B6rHiWUZ6c"
      }
    },
    {
      "cell_type": "markdown",
      "source": [
        "In this notebook, we will cover:\n",
        "\n",
        "* Introduction to tensors\n",
        "* Getting info from tensors\n",
        "* Manipulating tensors\n",
        "* Tensors & NumPy\n",
        "* Using @tf.function (a way to speed up your regular Python functions)\n",
        "* Using GPUs with TensorFlow (or TPUs)\n",
        "* Exercises to try\n"
      ],
      "metadata": {
        "id": "3uSbX8QHTzPo"
      }
    },
    {
      "cell_type": "code",
      "source": [
        "import tensorflow as tf\n",
        "print(tf.__version__)"
      ],
      "metadata": {
        "colab": {
          "base_uri": "https://localhost:8080/"
        },
        "id": "IoYCimGGUzAo",
        "outputId": "7a9a409d-5991-4869-b8ba-9b9b5b1cddfc"
      },
      "execution_count": 1,
      "outputs": [
        {
          "output_type": "stream",
          "name": "stdout",
          "text": [
            "2.18.0\n"
          ]
        }
      ]
    },
    {
      "cell_type": "markdown",
      "source": [
        "Create tensors with `tf.constant()`"
      ],
      "metadata": {
        "id": "y2rXwluHVKiR"
      }
    },
    {
      "cell_type": "code",
      "source": [
        "scalar = tf.constant(7)\n",
        "vector = tf.constant([10, 10])\n",
        "matrix = tf.constant([[10, 7],\n",
        "                      [7, 10]])\n",
        "scalar,vector,matrix"
      ],
      "metadata": {
        "colab": {
          "base_uri": "https://localhost:8080/"
        },
        "id": "DhCG85KVU_a4",
        "outputId": "632c7a3e-4edc-4f2b-b21c-d9ad80d8ce79"
      },
      "execution_count": 2,
      "outputs": [
        {
          "output_type": "execute_result",
          "data": {
            "text/plain": [
              "(<tf.Tensor: shape=(), dtype=int32, numpy=7>,\n",
              " <tf.Tensor: shape=(2,), dtype=int32, numpy=array([10, 10], dtype=int32)>,\n",
              " <tf.Tensor: shape=(2, 2), dtype=int32, numpy=\n",
              " array([[10,  7],\n",
              "        [ 7, 10]], dtype=int32)>)"
            ]
          },
          "metadata": {},
          "execution_count": 2
        }
      ]
    },
    {
      "cell_type": "markdown",
      "source": [
        "Check the number of dimensions of a tensor."
      ],
      "metadata": {
        "id": "Qp01Y5FZVlzk"
      }
    },
    {
      "cell_type": "code",
      "source": [
        "scalar.ndim,vector.ndim,matrix.ndim"
      ],
      "metadata": {
        "colab": {
          "base_uri": "https://localhost:8080/"
        },
        "id": "5YyxOdmHVrma",
        "outputId": "a61f9262-6f34-4980-8bd3-785fc2cc128c"
      },
      "execution_count": 3,
      "outputs": [
        {
          "output_type": "execute_result",
          "data": {
            "text/plain": [
              "(0, 1, 2)"
            ]
          },
          "metadata": {},
          "execution_count": 3
        }
      ]
    },
    {
      "cell_type": "code",
      "source": [
        "another_matrix = tf.constant([[10., 7.],\n",
        "                              [3., 2.],\n",
        "                              [8., 9.]], dtype=tf.float16) # specify the datatype with 'dtype'\n",
        "another_matrix, another_matrix.ndim"
      ],
      "metadata": {
        "colab": {
          "base_uri": "https://localhost:8080/"
        },
        "id": "lGYKhhFSWdpB",
        "outputId": "0aa67366-6c09-4611-90f7-4ebe18294443"
      },
      "execution_count": 4,
      "outputs": [
        {
          "output_type": "execute_result",
          "data": {
            "text/plain": [
              "(<tf.Tensor: shape=(3, 2), dtype=float16, numpy=\n",
              " array([[10.,  7.],\n",
              "        [ 3.,  2.],\n",
              "        [ 8.,  9.]], dtype=float16)>,\n",
              " 2)"
            ]
          },
          "metadata": {},
          "execution_count": 4
        }
      ]
    },
    {
      "cell_type": "markdown",
      "source": [
        "So, `another_matrix` is a 2-dimensional tensor with 3 elements."
      ],
      "metadata": {
        "id": "66VjA6jWXHlx"
      }
    },
    {
      "cell_type": "code",
      "source": [
        "tensor = tf.constant([\n",
        "                        [\n",
        "                            [10., 7., 2.],\n",
        "                            [3., 2., 5.]\n",
        "                        ],\n",
        "\n",
        "                        [\n",
        "                            [8., 9., 11.],\n",
        "                            [7., 9., 15,]\n",
        "                        ],\n",
        "\n",
        "                        [\n",
        "                            [3., 5., 1.],\n",
        "                            [9.,6.,4.]\n",
        "                        ]\n",
        "\n",
        "                    ], dtype=tf.float16) # specify the datatype with 'dtype'\n",
        "tensor, tensor.ndim"
      ],
      "metadata": {
        "colab": {
          "base_uri": "https://localhost:8080/"
        },
        "id": "tgkEmhuibGiv",
        "outputId": "58ab3788-19ca-496d-9228-4d2818f1ec9b"
      },
      "execution_count": 5,
      "outputs": [
        {
          "output_type": "execute_result",
          "data": {
            "text/plain": [
              "(<tf.Tensor: shape=(3, 2, 3), dtype=float16, numpy=\n",
              " array([[[10.,  7.,  2.],\n",
              "         [ 3.,  2.,  5.]],\n",
              " \n",
              "        [[ 8.,  9., 11.],\n",
              "         [ 7.,  9., 15.]],\n",
              " \n",
              "        [[ 3.,  5.,  1.],\n",
              "         [ 9.,  6.,  4.]]], dtype=float16)>,\n",
              " 3)"
            ]
          },
          "metadata": {},
          "execution_count": 5
        }
      ]
    },
    {
      "cell_type": "markdown",
      "source": [
        "Changeable tensor with `tf.Variable()`"
      ],
      "metadata": {
        "id": "KUxQdimd03Uz"
      }
    },
    {
      "cell_type": "code",
      "source": [
        "changeable_tensor = tf.Variable([10,7])\n",
        "unchangeable_tensor = tf.constant([10,7])\n",
        "changeable_tensor, unchangeable_tensor"
      ],
      "metadata": {
        "colab": {
          "base_uri": "https://localhost:8080/"
        },
        "id": "aVWL2eZ8kWMa",
        "outputId": "9eaac6d1-b8d5-46ba-bc4e-7c79fb106fcb"
      },
      "execution_count": 6,
      "outputs": [
        {
          "output_type": "execute_result",
          "data": {
            "text/plain": [
              "(<tf.Variable 'Variable:0' shape=(2,) dtype=int32, numpy=array([10,  7], dtype=int32)>,\n",
              " <tf.Tensor: shape=(2,), dtype=int32, numpy=array([10,  7], dtype=int32)>)"
            ]
          },
          "metadata": {},
          "execution_count": 6
        }
      ]
    },
    {
      "cell_type": "markdown",
      "source": [
        "Change value in `changeable_tensor` using `.assign()`"
      ],
      "metadata": {
        "id": "Jb2EQh4g1mvR"
      }
    },
    {
      "cell_type": "code",
      "source": [
        "changeable_tensor[0].assign([7])\n",
        "changeable_tensor"
      ],
      "metadata": {
        "colab": {
          "base_uri": "https://localhost:8080/"
        },
        "id": "JmRFH55L1uOE",
        "outputId": "0c568bd2-a5b4-4d5f-de37-c15d641be0e7"
      },
      "execution_count": 7,
      "outputs": [
        {
          "output_type": "execute_result",
          "data": {
            "text/plain": [
              "<tf.Variable 'Variable:0' shape=(2,) dtype=int32, numpy=array([7, 7], dtype=int32)>"
            ]
          },
          "metadata": {},
          "execution_count": 7
        }
      ]
    },
    {
      "cell_type": "markdown",
      "source": [
        "👉 Constant tensors can only be changed by re-assignment"
      ],
      "metadata": {
        "id": "Qew7ABJr3HY3"
      }
    },
    {
      "cell_type": "code",
      "source": [
        "unchangeable_tensor = tf.constant([7,7])\n",
        "unchangeable_tensor"
      ],
      "metadata": {
        "colab": {
          "base_uri": "https://localhost:8080/"
        },
        "id": "CBaZw5F02yYZ",
        "outputId": "636c9a10-3df5-4d70-a785-7b38958dac25"
      },
      "execution_count": 8,
      "outputs": [
        {
          "output_type": "execute_result",
          "data": {
            "text/plain": [
              "<tf.Tensor: shape=(2,), dtype=int32, numpy=array([7, 7], dtype=int32)>"
            ]
          },
          "metadata": {},
          "execution_count": 8
        }
      ]
    },
    {
      "cell_type": "markdown",
      "source": [
        "#### Creating Random Tensors"
      ],
      "metadata": {
        "id": "3QCPoDH65WN6"
      }
    },
    {
      "cell_type": "markdown",
      "source": [
        "From normal distribution ($\\mu = 0, \\sigma = 1$)"
      ],
      "metadata": {
        "id": "l2RSJBLX-0hG"
      }
    },
    {
      "cell_type": "code",
      "source": [
        "random_1 = tf.random.Generator.from_seed(42)\n",
        "random_1 = random_1.normal(shape=(3,2))\n",
        "random_1"
      ],
      "metadata": {
        "colab": {
          "base_uri": "https://localhost:8080/"
        },
        "id": "rNlEl8U35lKz",
        "outputId": "b0fba9aa-5410-4d22-e1ae-d85b89b1263d"
      },
      "execution_count": 9,
      "outputs": [
        {
          "output_type": "execute_result",
          "data": {
            "text/plain": [
              "<tf.Tensor: shape=(3, 2), dtype=float32, numpy=\n",
              "array([[-0.7565803 , -0.06854702],\n",
              "       [ 0.07595026, -1.2573844 ],\n",
              "       [-0.23193763, -1.8107855 ]], dtype=float32)>"
            ]
          },
          "metadata": {},
          "execution_count": 9
        }
      ]
    },
    {
      "cell_type": "markdown",
      "source": [
        "From uniform distribution"
      ],
      "metadata": {
        "id": "9b9MDNPU-5XN"
      }
    },
    {
      "cell_type": "code",
      "source": [
        "random_2 = tf.random.Generator.from_seed(42)\n",
        "random_2 = random_2.uniform(shape=(3,2))\n",
        "random_2"
      ],
      "metadata": {
        "colab": {
          "base_uri": "https://localhost:8080/"
        },
        "id": "T_-f0y89-nyi",
        "outputId": "a9b2df01-c3bd-4005-c1f3-17a5ae89c878"
      },
      "execution_count": 10,
      "outputs": [
        {
          "output_type": "execute_result",
          "data": {
            "text/plain": [
              "<tf.Tensor: shape=(3, 2), dtype=float32, numpy=\n",
              "array([[0.7493447 , 0.73561966],\n",
              "       [0.45230794, 0.49039817],\n",
              "       [0.1889317 , 0.52027524]], dtype=float32)>"
            ]
          },
          "metadata": {},
          "execution_count": 10
        }
      ]
    },
    {
      "cell_type": "markdown",
      "source": [
        "#### Shuffle the order of elements in a tensor"
      ],
      "metadata": {
        "id": "FP_KjzPBBJLf"
      }
    },
    {
      "cell_type": "code",
      "source": [
        "not_shuffled = tf.constant([[10, 7],\n",
        "                            [3, 4],\n",
        "                            [2, 5]])\n",
        "not_shuffled"
      ],
      "metadata": {
        "colab": {
          "base_uri": "https://localhost:8080/"
        },
        "id": "AAUv9frYBsVR",
        "outputId": "dd573bcc-aa21-413c-925f-e8fde2e13265"
      },
      "execution_count": 11,
      "outputs": [
        {
          "output_type": "execute_result",
          "data": {
            "text/plain": [
              "<tf.Tensor: shape=(3, 2), dtype=int32, numpy=\n",
              "array([[10,  7],\n",
              "       [ 3,  4],\n",
              "       [ 2,  5]], dtype=int32)>"
            ]
          },
          "metadata": {},
          "execution_count": 11
        }
      ]
    },
    {
      "cell_type": "code",
      "source": [
        "tf.random.set_seed(42)   # need to specify seed here\n",
        "shuffled = tf.random.shuffle(not_shuffled, seed=42)  # need to specify seed here too.\n",
        "shuffled"
      ],
      "metadata": {
        "colab": {
          "base_uri": "https://localhost:8080/"
        },
        "id": "vYGmXPU3BwsJ",
        "outputId": "f34ae281-1538-41b9-b121-90d1b9ba6110"
      },
      "execution_count": 12,
      "outputs": [
        {
          "output_type": "execute_result",
          "data": {
            "text/plain": [
              "<tf.Tensor: shape=(3, 2), dtype=int32, numpy=\n",
              "array([[10,  7],\n",
              "       [ 3,  4],\n",
              "       [ 2,  5]], dtype=int32)>"
            ]
          },
          "metadata": {},
          "execution_count": 12
        }
      ]
    },
    {
      "cell_type": "markdown",
      "source": [
        "#### Other ways to create tensors"
      ],
      "metadata": {
        "id": "cw3kNKJUDtOM"
      }
    },
    {
      "cell_type": "code",
      "source": [
        "tf.ones(shape=(10,7))"
      ],
      "metadata": {
        "colab": {
          "base_uri": "https://localhost:8080/"
        },
        "id": "4-TlAMx7DxLo",
        "outputId": "abb83755-0d1f-43e3-a665-433c728e8cb9"
      },
      "execution_count": 13,
      "outputs": [
        {
          "output_type": "execute_result",
          "data": {
            "text/plain": [
              "<tf.Tensor: shape=(10, 7), dtype=float32, numpy=\n",
              "array([[1., 1., 1., 1., 1., 1., 1.],\n",
              "       [1., 1., 1., 1., 1., 1., 1.],\n",
              "       [1., 1., 1., 1., 1., 1., 1.],\n",
              "       [1., 1., 1., 1., 1., 1., 1.],\n",
              "       [1., 1., 1., 1., 1., 1., 1.],\n",
              "       [1., 1., 1., 1., 1., 1., 1.],\n",
              "       [1., 1., 1., 1., 1., 1., 1.],\n",
              "       [1., 1., 1., 1., 1., 1., 1.],\n",
              "       [1., 1., 1., 1., 1., 1., 1.],\n",
              "       [1., 1., 1., 1., 1., 1., 1.]], dtype=float32)>"
            ]
          },
          "metadata": {},
          "execution_count": 13
        }
      ]
    },
    {
      "cell_type": "code",
      "source": [
        "tf.zeros(shape=(3,4))"
      ],
      "metadata": {
        "colab": {
          "base_uri": "https://localhost:8080/"
        },
        "id": "Wwo3Bd06EDyv",
        "outputId": "d6ec84b1-d2bc-4d03-8db2-c1bb0c1adc97"
      },
      "execution_count": 14,
      "outputs": [
        {
          "output_type": "execute_result",
          "data": {
            "text/plain": [
              "<tf.Tensor: shape=(3, 4), dtype=float32, numpy=\n",
              "array([[0., 0., 0., 0.],\n",
              "       [0., 0., 0., 0.],\n",
              "       [0., 0., 0., 0.]], dtype=float32)>"
            ]
          },
          "metadata": {},
          "execution_count": 14
        }
      ]
    },
    {
      "cell_type": "markdown",
      "source": [
        "Create tensors from Numpy arrays.\n",
        "\n",
        "👉 Tensors are designed to run on GPU computing."
      ],
      "metadata": {
        "id": "il9fMmH6EOIg"
      }
    },
    {
      "cell_type": "code",
      "source": [
        "import numpy as np\n",
        "\n",
        "# X = tf.constant(some_matrix) # capital for matrix or tensor\n",
        "# y = tf.constant(some_vector) # non-capital for vector\n",
        "\n",
        "numpy_A = np.arange(1, 25, dtype=np.int32) # create a Numpy array between 1 and 25\n",
        "numpy_A"
      ],
      "metadata": {
        "colab": {
          "base_uri": "https://localhost:8080/"
        },
        "id": "ItfyBF6NERxS",
        "outputId": "09716a1c-8056-4de9-c279-265f7aabfb51"
      },
      "execution_count": 15,
      "outputs": [
        {
          "output_type": "execute_result",
          "data": {
            "text/plain": [
              "array([ 1,  2,  3,  4,  5,  6,  7,  8,  9, 10, 11, 12, 13, 14, 15, 16, 17,\n",
              "       18, 19, 20, 21, 22, 23, 24], dtype=int32)"
            ]
          },
          "metadata": {},
          "execution_count": 15
        }
      ]
    },
    {
      "cell_type": "code",
      "source": [
        "tensor_A1 = tf.constant(numpy_A)\n",
        "tensor_A1"
      ],
      "metadata": {
        "colab": {
          "base_uri": "https://localhost:8080/"
        },
        "id": "x3MSjTzTFo9B",
        "outputId": "070ce0b9-42f9-420c-b9cb-c3be89a1b4b9"
      },
      "execution_count": 16,
      "outputs": [
        {
          "output_type": "execute_result",
          "data": {
            "text/plain": [
              "<tf.Tensor: shape=(24,), dtype=int32, numpy=\n",
              "array([ 1,  2,  3,  4,  5,  6,  7,  8,  9, 10, 11, 12, 13, 14, 15, 16, 17,\n",
              "       18, 19, 20, 21, 22, 23, 24], dtype=int32)>"
            ]
          },
          "metadata": {},
          "execution_count": 16
        }
      ]
    },
    {
      "cell_type": "code",
      "source": [
        "tensor_A2 = tf.constant(numpy_A, shape=(3,8))\n",
        "tensor_A2"
      ],
      "metadata": {
        "colab": {
          "base_uri": "https://localhost:8080/"
        },
        "id": "3z5W0yfbF366",
        "outputId": "97268478-9c2c-4249-ced9-0182f6516369"
      },
      "execution_count": 17,
      "outputs": [
        {
          "output_type": "execute_result",
          "data": {
            "text/plain": [
              "<tf.Tensor: shape=(3, 8), dtype=int32, numpy=\n",
              "array([[ 1,  2,  3,  4,  5,  6,  7,  8],\n",
              "       [ 9, 10, 11, 12, 13, 14, 15, 16],\n",
              "       [17, 18, 19, 20, 21, 22, 23, 24]], dtype=int32)>"
            ]
          },
          "metadata": {},
          "execution_count": 17
        }
      ]
    },
    {
      "cell_type": "code",
      "source": [
        "tensor_A3 = tf.constant(numpy_A, shape=(2, 3, 4))\n",
        "tensor_A3\n"
      ],
      "metadata": {
        "colab": {
          "base_uri": "https://localhost:8080/"
        },
        "id": "bnUgQBpJFYTV",
        "outputId": "fd76eec8-9fac-4c26-c953-5ab8af4c2994"
      },
      "execution_count": 18,
      "outputs": [
        {
          "output_type": "execute_result",
          "data": {
            "text/plain": [
              "<tf.Tensor: shape=(2, 3, 4), dtype=int32, numpy=\n",
              "array([[[ 1,  2,  3,  4],\n",
              "        [ 5,  6,  7,  8],\n",
              "        [ 9, 10, 11, 12]],\n",
              "\n",
              "       [[13, 14, 15, 16],\n",
              "        [17, 18, 19, 20],\n",
              "        [21, 22, 23, 24]]], dtype=int32)>"
            ]
          },
          "metadata": {},
          "execution_count": 18
        }
      ]
    },
    {
      "cell_type": "code",
      "source": [
        "tensor_A4 = tf.constant(numpy_A, shape=(2, 2, 3, 2))\n",
        "tensor_A4"
      ],
      "metadata": {
        "colab": {
          "base_uri": "https://localhost:8080/"
        },
        "id": "U1DlUXYGGE75",
        "outputId": "1265e6d8-3303-4bea-dfa6-d8cbd65b8bd5"
      },
      "execution_count": 19,
      "outputs": [
        {
          "output_type": "execute_result",
          "data": {
            "text/plain": [
              "<tf.Tensor: shape=(2, 2, 3, 2), dtype=int32, numpy=\n",
              "array([[[[ 1,  2],\n",
              "         [ 3,  4],\n",
              "         [ 5,  6]],\n",
              "\n",
              "        [[ 7,  8],\n",
              "         [ 9, 10],\n",
              "         [11, 12]]],\n",
              "\n",
              "\n",
              "       [[[13, 14],\n",
              "         [15, 16],\n",
              "         [17, 18]],\n",
              "\n",
              "        [[19, 20],\n",
              "         [21, 22],\n",
              "         [23, 24]]]], dtype=int32)>"
            ]
          },
          "metadata": {},
          "execution_count": 19
        }
      ]
    },
    {
      "cell_type": "markdown",
      "source": [
        "#### Getting stats from tensors (shape, rank, dimension, size)\n",
        "\n"
      ],
      "metadata": {
        "id": "TmP4TJjlG2wN"
      }
    },
    {
      "cell_type": "code",
      "source": [
        "rank_4_tensor = tf.random.Generator.from_seed(42)\n",
        "rank_4_tensor = rank_4_tensor.uniform(shape=(2,3,4,5))\n",
        "rank_4_tensor"
      ],
      "metadata": {
        "colab": {
          "base_uri": "https://localhost:8080/"
        },
        "id": "o8B6RZuFMnUt",
        "outputId": "2aee90b4-3ad7-402d-a950-f4c20b0317d1"
      },
      "execution_count": 23,
      "outputs": [
        {
          "output_type": "execute_result",
          "data": {
            "text/plain": [
              "<tf.Tensor: shape=(2, 3, 4, 5), dtype=float32, numpy=\n",
              "array([[[[0.7493447 , 0.73561966, 0.45230794, 0.49039817, 0.1889317 ],\n",
              "         [0.52027524, 0.8736881 , 0.46921718, 0.63932586, 0.6467117 ],\n",
              "         [0.96246755, 0.41009164, 0.86540747, 0.8862978 , 0.27795732],\n",
              "         [0.8857763 , 0.2179842 , 0.29115117, 0.03953862, 0.8136791 ]],\n",
              "\n",
              "        [[0.8139852 , 0.52180684, 0.12496924, 0.5488483 , 0.7755773 ],\n",
              "         [0.6184403 , 0.24936223, 0.89341843, 0.28422844, 0.70332646],\n",
              "         [0.2622137 , 0.4432162 , 0.466465  , 0.05981874, 0.40098202],\n",
              "         [0.69292355, 0.1284684 , 0.22770369, 0.33691216, 0.5329138 ]],\n",
              "\n",
              "        [[0.5914326 , 0.21738243, 0.5322075 , 0.05148339, 0.03951418],\n",
              "         [0.41866875, 0.78939915, 0.04384279, 0.96955836, 0.49116182],\n",
              "         [0.3706199 , 0.33535397, 0.02760839, 0.99757504, 0.52172756],\n",
              "         [0.20307171, 0.7182547 , 0.84263575, 0.9542595 , 0.90112185]]],\n",
              "\n",
              "\n",
              "       [[[0.62839293, 0.08619452, 0.5679928 , 0.28763676, 0.18828917],\n",
              "         [0.6658715 , 0.6190208 , 0.04422736, 0.49626625, 0.6474861 ],\n",
              "         [0.3557682 , 0.32033885, 0.33705008, 0.7391062 , 0.16512096],\n",
              "         [0.41555858, 0.78638244, 0.45899415, 0.42686343, 0.5630441 ]],\n",
              "\n",
              "        [[0.04115057, 0.7532015 , 0.18315244, 0.30807555, 0.30482936],\n",
              "         [0.08611703, 0.7526083 , 0.42415357, 0.7877505 , 0.11611497],\n",
              "         [0.35255086, 0.50718856, 0.16467738, 0.54108894, 0.5765736 ],\n",
              "         [0.16844285, 0.8007604 , 0.34483027, 0.30735934, 0.9700769 ]],\n",
              "\n",
              "        [[0.43336582, 0.51829636, 0.8555572 , 0.21962428, 0.76091194],\n",
              "         [0.04762888, 0.5131633 , 0.97339594, 0.33341944, 0.03152311],\n",
              "         [0.28874612, 0.58736026, 0.75669694, 0.7060174 , 0.5588795 ],\n",
              "         [0.40088904, 0.8377521 , 0.7651175 , 0.5402924 , 0.52445555]]]],\n",
              "      dtype=float32)>"
            ]
          },
          "metadata": {},
          "execution_count": 23
        }
      ]
    },
    {
      "cell_type": "code",
      "source": [
        "rank_4_tensor[1]"
      ],
      "metadata": {
        "colab": {
          "base_uri": "https://localhost:8080/"
        },
        "id": "EzjpM4RVMHPY",
        "outputId": "b4a74548-e2af-4bb8-b1dd-5e1f90325e1e"
      },
      "execution_count": 25,
      "outputs": [
        {
          "output_type": "execute_result",
          "data": {
            "text/plain": [
              "<tf.Tensor: shape=(3, 4, 5), dtype=float32, numpy=\n",
              "array([[[0.62839293, 0.08619452, 0.5679928 , 0.28763676, 0.18828917],\n",
              "        [0.6658715 , 0.6190208 , 0.04422736, 0.49626625, 0.6474861 ],\n",
              "        [0.3557682 , 0.32033885, 0.33705008, 0.7391062 , 0.16512096],\n",
              "        [0.41555858, 0.78638244, 0.45899415, 0.42686343, 0.5630441 ]],\n",
              "\n",
              "       [[0.04115057, 0.7532015 , 0.18315244, 0.30807555, 0.30482936],\n",
              "        [0.08611703, 0.7526083 , 0.42415357, 0.7877505 , 0.11611497],\n",
              "        [0.35255086, 0.50718856, 0.16467738, 0.54108894, 0.5765736 ],\n",
              "        [0.16844285, 0.8007604 , 0.34483027, 0.30735934, 0.9700769 ]],\n",
              "\n",
              "       [[0.43336582, 0.51829636, 0.8555572 , 0.21962428, 0.76091194],\n",
              "        [0.04762888, 0.5131633 , 0.97339594, 0.33341944, 0.03152311],\n",
              "        [0.28874612, 0.58736026, 0.75669694, 0.7060174 , 0.5588795 ],\n",
              "        [0.40088904, 0.8377521 , 0.7651175 , 0.5402924 , 0.52445555]]],\n",
              "      dtype=float32)>"
            ]
          },
          "metadata": {},
          "execution_count": 25
        }
      ]
    },
    {
      "cell_type": "code",
      "source": [
        "rank_4_tensor.shape,rank_4_tensor.ndim,tf.size(rank_4_tensor)"
      ],
      "metadata": {
        "colab": {
          "base_uri": "https://localhost:8080/"
        },
        "id": "-uqVZ8msNCeH",
        "outputId": "404b369c-9368-4159-a3aa-2e85b655ac72"
      },
      "execution_count": 26,
      "outputs": [
        {
          "output_type": "execute_result",
          "data": {
            "text/plain": [
              "(TensorShape([2, 3, 4, 5]), 4, <tf.Tensor: shape=(), dtype=int32, numpy=120>)"
            ]
          },
          "metadata": {},
          "execution_count": 26
        }
      ]
    },
    {
      "cell_type": "code",
      "source": [
        "rank_4_tensor[:2,:3].shape,rank_4_tensor[:2,:3].ndim,tf.size(rank_4_tensor[:2,:3])"
      ],
      "metadata": {
        "colab": {
          "base_uri": "https://localhost:8080/"
        },
        "id": "1IBQLJxTNHvF",
        "outputId": "67ce7dc3-4ba9-4806-ab34-03098d9f4d86"
      },
      "execution_count": 27,
      "outputs": [
        {
          "output_type": "execute_result",
          "data": {
            "text/plain": [
              "(TensorShape([2, 3, 4, 5]), 4, <tf.Tensor: shape=(), dtype=int32, numpy=120>)"
            ]
          },
          "metadata": {},
          "execution_count": 27
        }
      ]
    },
    {
      "cell_type": "markdown",
      "source": [
        "Get various attributes from `rank_4_tensor`:\n"
      ],
      "metadata": {
        "id": "92O-vfR5N92q"
      }
    },
    {
      "cell_type": "code",
      "source": [
        "print(\"Data type of every element\", rank_4_tensor.dtype)\n",
        "print(\"\\nNumber of dimensions (rank)\", rank_4_tensor.ndim)\n",
        "print(\"\\nShape of tensor\", rank_4_tensor.shape)\n",
        "print(\"\\nElements along axis 0 of tensor:\\n\", rank_4_tensor[0])\n",
        "print(\"\\nElements along last axis of tensor:\\n\", rank_4_tensor[-1])\n",
        "print(\"\\nTotal number of elements in tensor:\\n\", tf.size(rank_4_tensor).numpy())"
      ],
      "metadata": {
        "colab": {
          "base_uri": "https://localhost:8080/"
        },
        "id": "VwedZVbvOGIO",
        "outputId": "96f8ce42-7034-4133-a8b4-3141ddcdf167"
      },
      "execution_count": 28,
      "outputs": [
        {
          "output_type": "stream",
          "name": "stdout",
          "text": [
            "Data type of every element <dtype: 'float32'>\n",
            "\n",
            "Number of dimensions (rank) 4\n",
            "\n",
            "Shape of tensor (2, 3, 4, 5)\n",
            "\n",
            "Elements along axis 0 of tensor:\n",
            " tf.Tensor(\n",
            "[[[0.7493447  0.73561966 0.45230794 0.49039817 0.1889317 ]\n",
            "  [0.52027524 0.8736881  0.46921718 0.63932586 0.6467117 ]\n",
            "  [0.96246755 0.41009164 0.86540747 0.8862978  0.27795732]\n",
            "  [0.8857763  0.2179842  0.29115117 0.03953862 0.8136791 ]]\n",
            "\n",
            " [[0.8139852  0.52180684 0.12496924 0.5488483  0.7755773 ]\n",
            "  [0.6184403  0.24936223 0.89341843 0.28422844 0.70332646]\n",
            "  [0.2622137  0.4432162  0.466465   0.05981874 0.40098202]\n",
            "  [0.69292355 0.1284684  0.22770369 0.33691216 0.5329138 ]]\n",
            "\n",
            " [[0.5914326  0.21738243 0.5322075  0.05148339 0.03951418]\n",
            "  [0.41866875 0.78939915 0.04384279 0.96955836 0.49116182]\n",
            "  [0.3706199  0.33535397 0.02760839 0.99757504 0.52172756]\n",
            "  [0.20307171 0.7182547  0.84263575 0.9542595  0.90112185]]], shape=(3, 4, 5), dtype=float32)\n",
            "\n",
            "Elements along last axis of tensor:\n",
            " tf.Tensor(\n",
            "[[[0.62839293 0.08619452 0.5679928  0.28763676 0.18828917]\n",
            "  [0.6658715  0.6190208  0.04422736 0.49626625 0.6474861 ]\n",
            "  [0.3557682  0.32033885 0.33705008 0.7391062  0.16512096]\n",
            "  [0.41555858 0.78638244 0.45899415 0.42686343 0.5630441 ]]\n",
            "\n",
            " [[0.04115057 0.7532015  0.18315244 0.30807555 0.30482936]\n",
            "  [0.08611703 0.7526083  0.42415357 0.7877505  0.11611497]\n",
            "  [0.35255086 0.50718856 0.16467738 0.54108894 0.5765736 ]\n",
            "  [0.16844285 0.8007604  0.34483027 0.30735934 0.9700769 ]]\n",
            "\n",
            " [[0.43336582 0.51829636 0.8555572  0.21962428 0.76091194]\n",
            "  [0.04762888 0.5131633  0.97339594 0.33341944 0.03152311]\n",
            "  [0.28874612 0.58736026 0.75669694 0.7060174  0.5588795 ]\n",
            "  [0.40088904 0.8377521  0.7651175  0.5402924  0.52445555]]], shape=(3, 4, 5), dtype=float32)\n",
            "\n",
            "Total number of elements in tensor:\n",
            " 120\n"
          ]
        }
      ]
    },
    {
      "cell_type": "markdown",
      "source": [
        "#### Indexing Tensors"
      ],
      "metadata": {
        "id": "jzwwL7FsPZLt"
      }
    },
    {
      "cell_type": "code",
      "source": [
        "# Get the first two elements of each dimension\n",
        "\n",
        "rank_4_tensor[:2,:2,:2,:2]"
      ],
      "metadata": {
        "colab": {
          "base_uri": "https://localhost:8080/"
        },
        "id": "_2cLVD6vPjJM",
        "outputId": "f9e9b2dd-4e3d-4686-83c8-467c32c4c21d"
      },
      "execution_count": 29,
      "outputs": [
        {
          "output_type": "execute_result",
          "data": {
            "text/plain": [
              "<tf.Tensor: shape=(2, 2, 2, 2), dtype=float32, numpy=\n",
              "array([[[[0.7493447 , 0.73561966],\n",
              "         [0.52027524, 0.8736881 ]],\n",
              "\n",
              "        [[0.8139852 , 0.52180684],\n",
              "         [0.6184403 , 0.24936223]]],\n",
              "\n",
              "\n",
              "       [[[0.62839293, 0.08619452],\n",
              "         [0.6658715 , 0.6190208 ]],\n",
              "\n",
              "        [[0.04115057, 0.7532015 ],\n",
              "         [0.08611703, 0.7526083 ]]]], dtype=float32)>"
            ]
          },
          "metadata": {},
          "execution_count": 29
        }
      ]
    },
    {
      "cell_type": "code",
      "source": [
        "rank_4_tensor[:1,:2,:2,:2]"
      ],
      "metadata": {
        "colab": {
          "base_uri": "https://localhost:8080/"
        },
        "id": "WQMIj6iUQGHL",
        "outputId": "a61ec05d-eded-4fbb-a396-dd3d13612931"
      },
      "execution_count": 30,
      "outputs": [
        {
          "output_type": "execute_result",
          "data": {
            "text/plain": [
              "<tf.Tensor: shape=(1, 2, 2, 2), dtype=float32, numpy=\n",
              "array([[[[0.7493447 , 0.73561966],\n",
              "         [0.52027524, 0.8736881 ]],\n",
              "\n",
              "        [[0.8139852 , 0.52180684],\n",
              "         [0.6184403 , 0.24936223]]]], dtype=float32)>"
            ]
          },
          "metadata": {},
          "execution_count": 30
        }
      ]
    },
    {
      "cell_type": "code",
      "source": [
        "# Get the first element from each dimension except the last one.\n",
        "rank_4_tensor[:1,:1,:1,:]"
      ],
      "metadata": {
        "colab": {
          "base_uri": "https://localhost:8080/"
        },
        "id": "hQan8o_rQqAT",
        "outputId": "82441dd0-3d78-4be4-e704-76c02041b6c6"
      },
      "execution_count": 31,
      "outputs": [
        {
          "output_type": "execute_result",
          "data": {
            "text/plain": [
              "<tf.Tensor: shape=(1, 1, 1, 5), dtype=float32, numpy=\n",
              "array([[[[0.7493447 , 0.73561966, 0.45230794, 0.49039817, 0.1889317 ]]]],\n",
              "      dtype=float32)>"
            ]
          },
          "metadata": {},
          "execution_count": 31
        }
      ]
    },
    {
      "cell_type": "code",
      "source": [
        "# Create a rank 2 tensor (2 dimensions)\n",
        "rank_2_tensor = tf.random.Generator.from_seed(42)\n",
        "rank_2_tensor = rank_2_tensor.uniform(shape=(2,3))\n",
        "rank_2_tensor"
      ],
      "metadata": {
        "colab": {
          "base_uri": "https://localhost:8080/"
        },
        "id": "0tSR3DjIZDPh",
        "outputId": "b86a9006-a1a5-45f3-98fe-74e01a82bf65"
      },
      "execution_count": 32,
      "outputs": [
        {
          "output_type": "execute_result",
          "data": {
            "text/plain": [
              "<tf.Tensor: shape=(2, 3), dtype=float32, numpy=\n",
              "array([[0.7493447 , 0.73561966, 0.45230794],\n",
              "       [0.49039817, 0.1889317 , 0.52027524]], dtype=float32)>"
            ]
          },
          "metadata": {},
          "execution_count": 32
        }
      ]
    },
    {
      "cell_type": "code",
      "source": [
        "rank_2_tensor.shape, rank_2_tensor.ndim"
      ],
      "metadata": {
        "colab": {
          "base_uri": "https://localhost:8080/"
        },
        "id": "vvDS7id3aA44",
        "outputId": "f46545d8-7408-4a2f-9959-ec7c2981ca62"
      },
      "execution_count": 33,
      "outputs": [
        {
          "output_type": "execute_result",
          "data": {
            "text/plain": [
              "(TensorShape([2, 3]), 2)"
            ]
          },
          "metadata": {},
          "execution_count": 33
        }
      ]
    },
    {
      "cell_type": "code",
      "source": [
        "# Get the last element of each row\n",
        "rank_2_tensor[:,-1]"
      ],
      "metadata": {
        "colab": {
          "base_uri": "https://localhost:8080/"
        },
        "id": "EmCnghyMaNJU",
        "outputId": "37181226-131f-4057-aed5-ada83da80bcd"
      },
      "execution_count": 34,
      "outputs": [
        {
          "output_type": "execute_result",
          "data": {
            "text/plain": [
              "<tf.Tensor: shape=(2,), dtype=float32, numpy=array([0.45230794, 0.52027524], dtype=float32)>"
            ]
          },
          "metadata": {},
          "execution_count": 34
        }
      ]
    },
    {
      "cell_type": "code",
      "source": [
        "# Add a new dimension to the rank_2_tensor\n",
        "rank_2_tensor_new_dim = rank_2_tensor[...,tf.newaxis]\n",
        "rank_2_tensor_new_dim"
      ],
      "metadata": {
        "colab": {
          "base_uri": "https://localhost:8080/"
        },
        "id": "t8QQ8RSeczL2",
        "outputId": "8d90c162-f33b-44e7-bcfb-aa4d3c71e925"
      },
      "execution_count": 35,
      "outputs": [
        {
          "output_type": "execute_result",
          "data": {
            "text/plain": [
              "<tf.Tensor: shape=(2, 3, 1), dtype=float32, numpy=\n",
              "array([[[0.7493447 ],\n",
              "        [0.73561966],\n",
              "        [0.45230794]],\n",
              "\n",
              "       [[0.49039817],\n",
              "        [0.1889317 ],\n",
              "        [0.52027524]]], dtype=float32)>"
            ]
          },
          "metadata": {},
          "execution_count": 35
        }
      ]
    },
    {
      "cell_type": "code",
      "source": [
        "# Another way of adding a new dimension\n",
        "tf.expand_dims(rank_2_tensor, axis=-1)"
      ],
      "metadata": {
        "colab": {
          "base_uri": "https://localhost:8080/"
        },
        "id": "4Q95bDSrdKm1",
        "outputId": "3adacab8-714a-4554-db35-2378cd17de44"
      },
      "execution_count": 36,
      "outputs": [
        {
          "output_type": "execute_result",
          "data": {
            "text/plain": [
              "<tf.Tensor: shape=(2, 3, 1), dtype=float32, numpy=\n",
              "array([[[0.7493447 ],\n",
              "        [0.73561966],\n",
              "        [0.45230794]],\n",
              "\n",
              "       [[0.49039817],\n",
              "        [0.1889317 ],\n",
              "        [0.52027524]]], dtype=float32)>"
            ]
          },
          "metadata": {},
          "execution_count": 36
        }
      ]
    },
    {
      "cell_type": "code",
      "source": [
        "tf.expand_dims(rank_2_tensor, axis=0)"
      ],
      "metadata": {
        "colab": {
          "base_uri": "https://localhost:8080/"
        },
        "id": "buS6sCgGdp4c",
        "outputId": "8d6480be-1938-4a77-c629-d3b4b157b8a1"
      },
      "execution_count": 37,
      "outputs": [
        {
          "output_type": "execute_result",
          "data": {
            "text/plain": [
              "<tf.Tensor: shape=(1, 2, 3), dtype=float32, numpy=\n",
              "array([[[0.7493447 , 0.73561966, 0.45230794],\n",
              "        [0.49039817, 0.1889317 , 0.52027524]]], dtype=float32)>"
            ]
          },
          "metadata": {},
          "execution_count": 37
        }
      ]
    },
    {
      "cell_type": "code",
      "source": [
        "tf.expand_dims(rank_2_tensor, axis=1)\n"
      ],
      "metadata": {
        "colab": {
          "base_uri": "https://localhost:8080/"
        },
        "id": "zypSfZe6d_Zi",
        "outputId": "4f37645b-075d-48fb-d49e-cfdd211e3906"
      },
      "execution_count": 38,
      "outputs": [
        {
          "output_type": "execute_result",
          "data": {
            "text/plain": [
              "<tf.Tensor: shape=(2, 1, 3), dtype=float32, numpy=\n",
              "array([[[0.7493447 , 0.73561966, 0.45230794]],\n",
              "\n",
              "       [[0.49039817, 0.1889317 , 0.52027524]]], dtype=float32)>"
            ]
          },
          "metadata": {},
          "execution_count": 38
        }
      ]
    },
    {
      "cell_type": "markdown",
      "source": [
        "#### Tensor Operations"
      ],
      "metadata": {
        "id": "OcVBN7Vjel1L"
      }
    },
    {
      "cell_type": "code",
      "source": [
        "tensor = tf.constant([[10,7],[3,4]])\n",
        "print(tensor+6,\"\\n\\n\", tensor-6,\"\\n\\n\", tensor*6,\"\\n\\n\", tensor/6)"
      ],
      "metadata": {
        "colab": {
          "base_uri": "https://localhost:8080/"
        },
        "id": "I-S0gV_JfQeX",
        "outputId": "81d7b92f-87d5-45aa-8999-0d654287fdc9"
      },
      "execution_count": 39,
      "outputs": [
        {
          "output_type": "stream",
          "name": "stdout",
          "text": [
            "tf.Tensor(\n",
            "[[16 13]\n",
            " [ 9 10]], shape=(2, 2), dtype=int32) \n",
            "\n",
            " tf.Tensor(\n",
            "[[ 4  1]\n",
            " [-3 -2]], shape=(2, 2), dtype=int32) \n",
            "\n",
            " tf.Tensor(\n",
            "[[60 42]\n",
            " [18 24]], shape=(2, 2), dtype=int32) \n",
            "\n",
            " tf.Tensor(\n",
            "[[1.66666667 1.16666667]\n",
            " [0.5        0.66666667]], shape=(2, 2), dtype=float64)\n"
          ]
        }
      ]
    },
    {
      "cell_type": "markdown",
      "source": [
        "We can use Tensorflow's built-in functions too."
      ],
      "metadata": {
        "id": "DAKxDjBTggNB"
      }
    },
    {
      "cell_type": "code",
      "source": [
        "print(tf.add(tensor, 6),\"\\n\\n\", tf.subtract(tensor, 6),\"\\n\\n\", tf.multiply(tensor, 6),\"\\n\\n\", tf.divide(tensor, 6))"
      ],
      "metadata": {
        "colab": {
          "base_uri": "https://localhost:8080/"
        },
        "id": "TWdCwX6xjx6f",
        "outputId": "e52a0935-2694-4581-b2ca-ca912a6bde65"
      },
      "execution_count": 40,
      "outputs": [
        {
          "output_type": "stream",
          "name": "stdout",
          "text": [
            "tf.Tensor(\n",
            "[[16 13]\n",
            " [ 9 10]], shape=(2, 2), dtype=int32) \n",
            "\n",
            " tf.Tensor(\n",
            "[[ 4  1]\n",
            " [-3 -2]], shape=(2, 2), dtype=int32) \n",
            "\n",
            " tf.Tensor(\n",
            "[[60 42]\n",
            " [18 24]], shape=(2, 2), dtype=int32) \n",
            "\n",
            " tf.Tensor(\n",
            "[[1.66666667 1.16666667]\n",
            " [0.5        0.66666667]], shape=(2, 2), dtype=float64)\n"
          ]
        }
      ]
    },
    {
      "cell_type": "markdown",
      "source": [
        "#### Matrix Multiplication"
      ],
      "metadata": {
        "id": "DRnpVAhslAcD"
      }
    },
    {
      "cell_type": "code",
      "source": [
        "print(tensor, \"\\n\\n\",tensor*tensor,\"\\n\\n\",tensor*tensor*tensor ) # element-wise multiplication"
      ],
      "metadata": {
        "colab": {
          "base_uri": "https://localhost:8080/"
        },
        "id": "vkg_2eu8lEQ4",
        "outputId": "70fd28a2-4a30-4f31-a1c9-902a8cf3c7f2"
      },
      "execution_count": 41,
      "outputs": [
        {
          "output_type": "stream",
          "name": "stdout",
          "text": [
            "tf.Tensor(\n",
            "[[10  7]\n",
            " [ 3  4]], shape=(2, 2), dtype=int32) \n",
            "\n",
            " tf.Tensor(\n",
            "[[100  49]\n",
            " [  9  16]], shape=(2, 2), dtype=int32) \n",
            "\n",
            " tf.Tensor(\n",
            "[[1000  343]\n",
            " [  27   64]], shape=(2, 2), dtype=int32)\n"
          ]
        }
      ]
    },
    {
      "cell_type": "code",
      "source": [
        "tf.matmul(tensor, tensor)  # dot product multiplication"
      ],
      "metadata": {
        "colab": {
          "base_uri": "https://localhost:8080/"
        },
        "id": "j5fAPGJTmPKF",
        "outputId": "0d267cb2-45a2-46a7-b168-a4f6cd1ce09e"
      },
      "execution_count": 42,
      "outputs": [
        {
          "output_type": "execute_result",
          "data": {
            "text/plain": [
              "<tf.Tensor: shape=(2, 2), dtype=int32, numpy=\n",
              "array([[121,  98],\n",
              "       [ 42,  37]], dtype=int32)>"
            ]
          },
          "metadata": {},
          "execution_count": 42
        }
      ]
    },
    {
      "cell_type": "code",
      "source": [
        "tensor @ tensor # dot product multiplication"
      ],
      "metadata": {
        "colab": {
          "base_uri": "https://localhost:8080/"
        },
        "id": "GZhLfbDJmeqm",
        "outputId": "ffa266e2-917d-4965-d563-8c7862065675"
      },
      "execution_count": 43,
      "outputs": [
        {
          "output_type": "execute_result",
          "data": {
            "text/plain": [
              "<tf.Tensor: shape=(2, 2), dtype=int32, numpy=\n",
              "array([[121,  98],\n",
              "       [ 42,  37]], dtype=int32)>"
            ]
          },
          "metadata": {},
          "execution_count": 43
        }
      ]
    },
    {
      "cell_type": "markdown",
      "source": [
        "Multiplying matrices with different shapes  $(n,m) \\cdot (m,p) = (n,p)$"
      ],
      "metadata": {
        "id": "PxKrd419m4jF"
      }
    },
    {
      "cell_type": "code",
      "source": [
        "tensor2 = tf.constant([[1,2,3],[4,5,6]])\n",
        "tensor2"
      ],
      "metadata": {
        "colab": {
          "base_uri": "https://localhost:8080/"
        },
        "id": "FbSq2lYqm2-C",
        "outputId": "d8a14ce3-d7ec-46b5-fabc-866a97f41aff"
      },
      "execution_count": 44,
      "outputs": [
        {
          "output_type": "execute_result",
          "data": {
            "text/plain": [
              "<tf.Tensor: shape=(2, 3), dtype=int32, numpy=\n",
              "array([[1, 2, 3],\n",
              "       [4, 5, 6]], dtype=int32)>"
            ]
          },
          "metadata": {},
          "execution_count": 44
        }
      ]
    },
    {
      "cell_type": "code",
      "source": [
        "tensor3 = tf.constant([[7,8],[9,10],[11,12]])\n",
        "tensor3"
      ],
      "metadata": {
        "colab": {
          "base_uri": "https://localhost:8080/"
        },
        "id": "vt2G3cPNnMJZ",
        "outputId": "84088211-9d28-4cd9-f9f0-3a22e74ea8f6"
      },
      "execution_count": 45,
      "outputs": [
        {
          "output_type": "execute_result",
          "data": {
            "text/plain": [
              "<tf.Tensor: shape=(3, 2), dtype=int32, numpy=\n",
              "array([[ 7,  8],\n",
              "       [ 9, 10],\n",
              "       [11, 12]], dtype=int32)>"
            ]
          },
          "metadata": {},
          "execution_count": 45
        }
      ]
    },
    {
      "cell_type": "code",
      "source": [
        "tensor3 @ tensor"
      ],
      "metadata": {
        "colab": {
          "base_uri": "https://localhost:8080/"
        },
        "id": "4DyG64f6nQd9",
        "outputId": "e94e7cbb-7276-4398-fd0b-82d47daee9e2"
      },
      "execution_count": 46,
      "outputs": [
        {
          "output_type": "execute_result",
          "data": {
            "text/plain": [
              "<tf.Tensor: shape=(3, 2), dtype=int32, numpy=\n",
              "array([[ 94,  81],\n",
              "       [120, 103],\n",
              "       [146, 125]], dtype=int32)>"
            ]
          },
          "metadata": {},
          "execution_count": 46
        }
      ]
    },
    {
      "cell_type": "code",
      "source": [
        "# Create (3, 2) tensor\n",
        "X = tf.constant([[1, 2],\n",
        "                 [3, 4],\n",
        "                 [5, 6]])\n",
        "\n",
        "# Create another (3, 2) tensor\n",
        "Y = tf.constant([[7, 8],\n",
        "                 [9, 10],\n",
        "                 [11, 12]])\n",
        "X, Y"
      ],
      "metadata": {
        "colab": {
          "base_uri": "https://localhost:8080/"
        },
        "id": "lWT6T9nLp1cn",
        "outputId": "18c19e85-6a45-4c0b-9ab7-143604027b9c"
      },
      "execution_count": 47,
      "outputs": [
        {
          "output_type": "execute_result",
          "data": {
            "text/plain": [
              "(<tf.Tensor: shape=(3, 2), dtype=int32, numpy=\n",
              " array([[1, 2],\n",
              "        [3, 4],\n",
              "        [5, 6]], dtype=int32)>,\n",
              " <tf.Tensor: shape=(3, 2), dtype=int32, numpy=\n",
              " array([[ 7,  8],\n",
              "        [ 9, 10],\n",
              "        [11, 12]], dtype=int32)>)"
            ]
          },
          "metadata": {},
          "execution_count": 47
        }
      ]
    },
    {
      "cell_type": "code",
      "source": [
        "tf.matmul(X,Y)   # incompatible matrix shapes, we get an error."
      ],
      "metadata": {
        "colab": {
          "base_uri": "https://localhost:8080/",
          "height": 299
        },
        "id": "Y0PKkUZIp8vy",
        "outputId": "04743ac8-332e-4dd7-ade5-a5fb3b5b34f4"
      },
      "execution_count": 48,
      "outputs": [
        {
          "output_type": "error",
          "ename": "InvalidArgumentError",
          "evalue": "{{function_node __wrapped__MatMul_device_/job:localhost/replica:0/task:0/device:CPU:0}} Matrix size-incompatible: In[0]: [3,2], In[1]: [3,2] [Op:MatMul] name: ",
          "traceback": [
            "\u001b[0;31m---------------------------------------------------------------------------\u001b[0m",
            "\u001b[0;31mInvalidArgumentError\u001b[0m                      Traceback (most recent call last)",
            "\u001b[0;32m<ipython-input-48-accf0cdb8994>\u001b[0m in \u001b[0;36m<cell line: 0>\u001b[0;34m()\u001b[0m\n\u001b[0;32m----> 1\u001b[0;31m \u001b[0mtf\u001b[0m\u001b[0;34m.\u001b[0m\u001b[0mmatmul\u001b[0m\u001b[0;34m(\u001b[0m\u001b[0mX\u001b[0m\u001b[0;34m,\u001b[0m\u001b[0mY\u001b[0m\u001b[0;34m)\u001b[0m   \u001b[0;31m# incompatible matrix shapes, we get an error.\u001b[0m\u001b[0;34m\u001b[0m\u001b[0;34m\u001b[0m\u001b[0m\n\u001b[0m",
            "\u001b[0;32m/usr/local/lib/python3.11/dist-packages/tensorflow/python/ops/weak_tensor_ops.py\u001b[0m in \u001b[0;36mwrapper\u001b[0;34m(*args, **kwargs)\u001b[0m\n\u001b[1;32m    140\u001b[0m   \u001b[0;32mdef\u001b[0m \u001b[0mwrapper\u001b[0m\u001b[0;34m(\u001b[0m\u001b[0;34m*\u001b[0m\u001b[0margs\u001b[0m\u001b[0;34m,\u001b[0m \u001b[0;34m**\u001b[0m\u001b[0mkwargs\u001b[0m\u001b[0;34m)\u001b[0m\u001b[0;34m:\u001b[0m\u001b[0;34m\u001b[0m\u001b[0;34m\u001b[0m\u001b[0m\n\u001b[1;32m    141\u001b[0m     \u001b[0;32mif\u001b[0m \u001b[0;32mnot\u001b[0m \u001b[0mops\u001b[0m\u001b[0;34m.\u001b[0m\u001b[0mis_auto_dtype_conversion_enabled\u001b[0m\u001b[0;34m(\u001b[0m\u001b[0;34m)\u001b[0m\u001b[0;34m:\u001b[0m\u001b[0;34m\u001b[0m\u001b[0;34m\u001b[0m\u001b[0m\n\u001b[0;32m--> 142\u001b[0;31m       \u001b[0;32mreturn\u001b[0m \u001b[0mop\u001b[0m\u001b[0;34m(\u001b[0m\u001b[0;34m*\u001b[0m\u001b[0margs\u001b[0m\u001b[0;34m,\u001b[0m \u001b[0;34m**\u001b[0m\u001b[0mkwargs\u001b[0m\u001b[0;34m)\u001b[0m\u001b[0;34m\u001b[0m\u001b[0;34m\u001b[0m\u001b[0m\n\u001b[0m\u001b[1;32m    143\u001b[0m     \u001b[0mbound_arguments\u001b[0m \u001b[0;34m=\u001b[0m \u001b[0msignature\u001b[0m\u001b[0;34m.\u001b[0m\u001b[0mbind\u001b[0m\u001b[0;34m(\u001b[0m\u001b[0;34m*\u001b[0m\u001b[0margs\u001b[0m\u001b[0;34m,\u001b[0m \u001b[0;34m**\u001b[0m\u001b[0mkwargs\u001b[0m\u001b[0;34m)\u001b[0m\u001b[0;34m\u001b[0m\u001b[0;34m\u001b[0m\u001b[0m\n\u001b[1;32m    144\u001b[0m     \u001b[0mbound_arguments\u001b[0m\u001b[0;34m.\u001b[0m\u001b[0mapply_defaults\u001b[0m\u001b[0;34m(\u001b[0m\u001b[0;34m)\u001b[0m\u001b[0;34m\u001b[0m\u001b[0;34m\u001b[0m\u001b[0m\n",
            "\u001b[0;32m/usr/local/lib/python3.11/dist-packages/tensorflow/python/util/traceback_utils.py\u001b[0m in \u001b[0;36merror_handler\u001b[0;34m(*args, **kwargs)\u001b[0m\n\u001b[1;32m    151\u001b[0m     \u001b[0;32mexcept\u001b[0m \u001b[0mException\u001b[0m \u001b[0;32mas\u001b[0m \u001b[0me\u001b[0m\u001b[0;34m:\u001b[0m\u001b[0;34m\u001b[0m\u001b[0;34m\u001b[0m\u001b[0m\n\u001b[1;32m    152\u001b[0m       \u001b[0mfiltered_tb\u001b[0m \u001b[0;34m=\u001b[0m \u001b[0m_process_traceback_frames\u001b[0m\u001b[0;34m(\u001b[0m\u001b[0me\u001b[0m\u001b[0;34m.\u001b[0m\u001b[0m__traceback__\u001b[0m\u001b[0;34m)\u001b[0m\u001b[0;34m\u001b[0m\u001b[0;34m\u001b[0m\u001b[0m\n\u001b[0;32m--> 153\u001b[0;31m       \u001b[0;32mraise\u001b[0m \u001b[0me\u001b[0m\u001b[0;34m.\u001b[0m\u001b[0mwith_traceback\u001b[0m\u001b[0;34m(\u001b[0m\u001b[0mfiltered_tb\u001b[0m\u001b[0;34m)\u001b[0m \u001b[0;32mfrom\u001b[0m \u001b[0;32mNone\u001b[0m\u001b[0;34m\u001b[0m\u001b[0;34m\u001b[0m\u001b[0m\n\u001b[0m\u001b[1;32m    154\u001b[0m     \u001b[0;32mfinally\u001b[0m\u001b[0;34m:\u001b[0m\u001b[0;34m\u001b[0m\u001b[0;34m\u001b[0m\u001b[0m\n\u001b[1;32m    155\u001b[0m       \u001b[0;32mdel\u001b[0m \u001b[0mfiltered_tb\u001b[0m\u001b[0;34m\u001b[0m\u001b[0;34m\u001b[0m\u001b[0m\n",
            "\u001b[0;32m/usr/local/lib/python3.11/dist-packages/tensorflow/python/framework/ops.py\u001b[0m in \u001b[0;36mraise_from_not_ok_status\u001b[0;34m(e, name)\u001b[0m\n\u001b[1;32m   6000\u001b[0m \u001b[0;32mdef\u001b[0m \u001b[0mraise_from_not_ok_status\u001b[0m\u001b[0;34m(\u001b[0m\u001b[0me\u001b[0m\u001b[0;34m,\u001b[0m \u001b[0mname\u001b[0m\u001b[0;34m)\u001b[0m \u001b[0;34m->\u001b[0m \u001b[0mNoReturn\u001b[0m\u001b[0;34m:\u001b[0m\u001b[0;34m\u001b[0m\u001b[0;34m\u001b[0m\u001b[0m\n\u001b[1;32m   6001\u001b[0m   \u001b[0me\u001b[0m\u001b[0;34m.\u001b[0m\u001b[0mmessage\u001b[0m \u001b[0;34m+=\u001b[0m \u001b[0;34m(\u001b[0m\u001b[0;34m\" name: \"\u001b[0m \u001b[0;34m+\u001b[0m \u001b[0mstr\u001b[0m\u001b[0;34m(\u001b[0m\u001b[0mname\u001b[0m \u001b[0;32mif\u001b[0m \u001b[0mname\u001b[0m \u001b[0;32mis\u001b[0m \u001b[0;32mnot\u001b[0m \u001b[0;32mNone\u001b[0m \u001b[0;32melse\u001b[0m \u001b[0;34m\"\"\u001b[0m\u001b[0;34m)\u001b[0m\u001b[0;34m)\u001b[0m\u001b[0;34m\u001b[0m\u001b[0;34m\u001b[0m\u001b[0m\n\u001b[0;32m-> 6002\u001b[0;31m   \u001b[0;32mraise\u001b[0m \u001b[0mcore\u001b[0m\u001b[0;34m.\u001b[0m\u001b[0m_status_to_exception\u001b[0m\u001b[0;34m(\u001b[0m\u001b[0me\u001b[0m\u001b[0;34m)\u001b[0m \u001b[0;32mfrom\u001b[0m \u001b[0;32mNone\u001b[0m  \u001b[0;31m# pylint: disable=protected-access\u001b[0m\u001b[0;34m\u001b[0m\u001b[0;34m\u001b[0m\u001b[0m\n\u001b[0m\u001b[1;32m   6003\u001b[0m \u001b[0;34m\u001b[0m\u001b[0m\n\u001b[1;32m   6004\u001b[0m \u001b[0;34m\u001b[0m\u001b[0m\n",
            "\u001b[0;31mInvalidArgumentError\u001b[0m: {{function_node __wrapped__MatMul_device_/job:localhost/replica:0/task:0/device:CPU:0}} Matrix size-incompatible: In[0]: [3,2], In[1]: [3,2] [Op:MatMul] name: "
          ]
        }
      ]
    },
    {
      "cell_type": "markdown",
      "source": [
        "Reshaping matrices with `tf.reshape()`"
      ],
      "metadata": {
        "id": "BttCcXgWqxPJ"
      }
    },
    {
      "cell_type": "code",
      "source": [
        "Y_reshape = tf.reshape(Y, shape=(2,3))\n",
        "Y_reshape"
      ],
      "metadata": {
        "colab": {
          "base_uri": "https://localhost:8080/"
        },
        "id": "YWuls3rAqNnh",
        "outputId": "1980de95-7a0d-4a9c-ee5f-359a39389325"
      },
      "execution_count": 49,
      "outputs": [
        {
          "output_type": "execute_result",
          "data": {
            "text/plain": [
              "<tf.Tensor: shape=(2, 3), dtype=int32, numpy=\n",
              "array([[ 7,  8,  9],\n",
              "       [10, 11, 12]], dtype=int32)>"
            ]
          },
          "metadata": {},
          "execution_count": 49
        }
      ]
    },
    {
      "cell_type": "code",
      "source": [
        "tf.matmul(X,Y_reshape)"
      ],
      "metadata": {
        "colab": {
          "base_uri": "https://localhost:8080/"
        },
        "id": "3eHUTF9Pqcvw",
        "outputId": "c0aaf0ec-458f-4728-c900-c7c295112af5"
      },
      "execution_count": 50,
      "outputs": [
        {
          "output_type": "execute_result",
          "data": {
            "text/plain": [
              "<tf.Tensor: shape=(3, 3), dtype=int32, numpy=\n",
              "array([[ 27,  30,  33],\n",
              "       [ 61,  68,  75],\n",
              "       [ 95, 106, 117]], dtype=int32)>"
            ]
          },
          "metadata": {},
          "execution_count": 50
        }
      ]
    },
    {
      "cell_type": "code",
      "source": [
        "tf.tensordot(X,Y_reshape, axes=1)\n"
      ],
      "metadata": {
        "colab": {
          "base_uri": "https://localhost:8080/"
        },
        "id": "5PeCrNmHqu4I",
        "outputId": "3744db82-61f4-474d-ae94-2bfb6a27910c"
      },
      "execution_count": 51,
      "outputs": [
        {
          "output_type": "execute_result",
          "data": {
            "text/plain": [
              "<tf.Tensor: shape=(3, 3), dtype=int32, numpy=\n",
              "array([[ 27,  30,  33],\n",
              "       [ 61,  68,  75],\n",
              "       [ 95, 106, 117]], dtype=int32)>"
            ]
          },
          "metadata": {},
          "execution_count": 51
        }
      ]
    },
    {
      "cell_type": "markdown",
      "source": [
        "👉 **Note:** Reshaping is NOT the same as transposing!"
      ],
      "metadata": {
        "id": "6iEXBKX4uGm-"
      }
    },
    {
      "cell_type": "code",
      "source": [
        "X,Y"
      ],
      "metadata": {
        "colab": {
          "base_uri": "https://localhost:8080/"
        },
        "id": "Fs4IM2gdumcU",
        "outputId": "55b23b0b-0ca6-4b3a-a9cb-ab7d21af4d77"
      },
      "execution_count": 52,
      "outputs": [
        {
          "output_type": "execute_result",
          "data": {
            "text/plain": [
              "(<tf.Tensor: shape=(3, 2), dtype=int32, numpy=\n",
              " array([[1, 2],\n",
              "        [3, 4],\n",
              "        [5, 6]], dtype=int32)>,\n",
              " <tf.Tensor: shape=(3, 2), dtype=int32, numpy=\n",
              " array([[ 7,  8],\n",
              "        [ 9, 10],\n",
              "        [11, 12]], dtype=int32)>)"
            ]
          },
          "metadata": {},
          "execution_count": 52
        }
      ]
    },
    {
      "cell_type": "code",
      "source": [
        "tf.matmul(X,tf.transpose(Y)), tf.matmul(X,tf.reshape(Y, shape=(2,3)))"
      ],
      "metadata": {
        "colab": {
          "base_uri": "https://localhost:8080/"
        },
        "id": "ZwtxyY17u68N",
        "outputId": "f0900c80-a6a8-478b-bff9-35ae90dfc094"
      },
      "execution_count": 53,
      "outputs": [
        {
          "output_type": "execute_result",
          "data": {
            "text/plain": [
              "(<tf.Tensor: shape=(3, 3), dtype=int32, numpy=\n",
              " array([[ 23,  29,  35],\n",
              "        [ 53,  67,  81],\n",
              "        [ 83, 105, 127]], dtype=int32)>,\n",
              " <tf.Tensor: shape=(3, 3), dtype=int32, numpy=\n",
              " array([[ 27,  30,  33],\n",
              "        [ 61,  68,  75],\n",
              "        [ 95, 106, 117]], dtype=int32)>)"
            ]
          },
          "metadata": {},
          "execution_count": 53
        }
      ]
    },
    {
      "cell_type": "code",
      "source": [
        "Y, tf.transpose(Y), tf.reshape(Y, shape=(2,3))"
      ],
      "metadata": {
        "colab": {
          "base_uri": "https://localhost:8080/"
        },
        "id": "ph2OZWgmyWnb",
        "outputId": "6e96b4a2-c9ce-4b6a-80d5-fc006d6e267f"
      },
      "execution_count": 54,
      "outputs": [
        {
          "output_type": "execute_result",
          "data": {
            "text/plain": [
              "(<tf.Tensor: shape=(3, 2), dtype=int32, numpy=\n",
              " array([[ 7,  8],\n",
              "        [ 9, 10],\n",
              "        [11, 12]], dtype=int32)>,\n",
              " <tf.Tensor: shape=(2, 3), dtype=int32, numpy=\n",
              " array([[ 7,  9, 11],\n",
              "        [ 8, 10, 12]], dtype=int32)>,\n",
              " <tf.Tensor: shape=(2, 3), dtype=int32, numpy=\n",
              " array([[ 7,  8,  9],\n",
              "        [10, 11, 12]], dtype=int32)>)"
            ]
          },
          "metadata": {},
          "execution_count": 54
        }
      ]
    },
    {
      "cell_type": "markdown",
      "source": [
        "#### Changing the data type of a tensor"
      ],
      "metadata": {
        "id": "Bx4xz5nAzDjc"
      }
    },
    {
      "cell_type": "code",
      "source": [
        "rank_4_tensor"
      ],
      "metadata": {
        "colab": {
          "base_uri": "https://localhost:8080/"
        },
        "id": "zafiGW8QzJA_",
        "outputId": "38d55995-c358-4564-8ba5-30de5b38927c"
      },
      "execution_count": 55,
      "outputs": [
        {
          "output_type": "execute_result",
          "data": {
            "text/plain": [
              "<tf.Tensor: shape=(2, 3, 4, 5), dtype=float32, numpy=\n",
              "array([[[[0.7493447 , 0.73561966, 0.45230794, 0.49039817, 0.1889317 ],\n",
              "         [0.52027524, 0.8736881 , 0.46921718, 0.63932586, 0.6467117 ],\n",
              "         [0.96246755, 0.41009164, 0.86540747, 0.8862978 , 0.27795732],\n",
              "         [0.8857763 , 0.2179842 , 0.29115117, 0.03953862, 0.8136791 ]],\n",
              "\n",
              "        [[0.8139852 , 0.52180684, 0.12496924, 0.5488483 , 0.7755773 ],\n",
              "         [0.6184403 , 0.24936223, 0.89341843, 0.28422844, 0.70332646],\n",
              "         [0.2622137 , 0.4432162 , 0.466465  , 0.05981874, 0.40098202],\n",
              "         [0.69292355, 0.1284684 , 0.22770369, 0.33691216, 0.5329138 ]],\n",
              "\n",
              "        [[0.5914326 , 0.21738243, 0.5322075 , 0.05148339, 0.03951418],\n",
              "         [0.41866875, 0.78939915, 0.04384279, 0.96955836, 0.49116182],\n",
              "         [0.3706199 , 0.33535397, 0.02760839, 0.99757504, 0.52172756],\n",
              "         [0.20307171, 0.7182547 , 0.84263575, 0.9542595 , 0.90112185]]],\n",
              "\n",
              "\n",
              "       [[[0.62839293, 0.08619452, 0.5679928 , 0.28763676, 0.18828917],\n",
              "         [0.6658715 , 0.6190208 , 0.04422736, 0.49626625, 0.6474861 ],\n",
              "         [0.3557682 , 0.32033885, 0.33705008, 0.7391062 , 0.16512096],\n",
              "         [0.41555858, 0.78638244, 0.45899415, 0.42686343, 0.5630441 ]],\n",
              "\n",
              "        [[0.04115057, 0.7532015 , 0.18315244, 0.30807555, 0.30482936],\n",
              "         [0.08611703, 0.7526083 , 0.42415357, 0.7877505 , 0.11611497],\n",
              "         [0.35255086, 0.50718856, 0.16467738, 0.54108894, 0.5765736 ],\n",
              "         [0.16844285, 0.8007604 , 0.34483027, 0.30735934, 0.9700769 ]],\n",
              "\n",
              "        [[0.43336582, 0.51829636, 0.8555572 , 0.21962428, 0.76091194],\n",
              "         [0.04762888, 0.5131633 , 0.97339594, 0.33341944, 0.03152311],\n",
              "         [0.28874612, 0.58736026, 0.75669694, 0.7060174 , 0.5588795 ],\n",
              "         [0.40088904, 0.8377521 , 0.7651175 , 0.5402924 , 0.52445555]]]],\n",
              "      dtype=float32)>"
            ]
          },
          "metadata": {},
          "execution_count": 55
        }
      ]
    },
    {
      "cell_type": "code",
      "source": [
        "tf.cast(rank_4_tensor, dtype=tf.float16)"
      ],
      "metadata": {
        "colab": {
          "base_uri": "https://localhost:8080/"
        },
        "id": "gvo9s5Vtzsgv",
        "outputId": "3f9421f9-40ec-4434-d770-9a2faa9f0cc6"
      },
      "execution_count": 56,
      "outputs": [
        {
          "output_type": "execute_result",
          "data": {
            "text/plain": [
              "<tf.Tensor: shape=(2, 3, 4, 5), dtype=float16, numpy=\n",
              "array([[[[0.7495 , 0.736  , 0.4524 , 0.4905 , 0.189  ],\n",
              "         [0.5205 , 0.8735 , 0.4692 , 0.639  , 0.6465 ],\n",
              "         [0.9624 , 0.4102 , 0.865  , 0.886  , 0.278  ],\n",
              "         [0.8857 , 0.218  , 0.2913 , 0.03955, 0.8135 ]],\n",
              "\n",
              "        [[0.814  , 0.522  , 0.12494, 0.549  , 0.7754 ],\n",
              "         [0.6187 , 0.2494 , 0.8936 , 0.2842 , 0.703  ],\n",
              "         [0.2622 , 0.443  , 0.4666 , 0.0598 , 0.401  ],\n",
              "         [0.693  , 0.1284 , 0.2277 , 0.337  , 0.5327 ]],\n",
              "\n",
              "        [[0.5913 , 0.2174 , 0.532  , 0.05148, 0.03952],\n",
              "         [0.4187 , 0.7896 , 0.04385, 0.9697 , 0.4912 ],\n",
              "         [0.3706 , 0.3354 , 0.0276 , 0.9976 , 0.5215 ],\n",
              "         [0.2031 , 0.7183 , 0.843  , 0.954  , 0.901  ]]],\n",
              "\n",
              "\n",
              "       [[[0.6284 , 0.0862 , 0.568  , 0.2876 , 0.1882 ],\n",
              "         [0.666  , 0.619  , 0.04422, 0.4963 , 0.6475 ],\n",
              "         [0.3557 , 0.3203 , 0.3372 , 0.7393 , 0.1652 ],\n",
              "         [0.4155 , 0.7866 , 0.459  , 0.4268 , 0.563  ]],\n",
              "\n",
              "        [[0.04114, 0.7534 , 0.1831 , 0.308  , 0.305  ],\n",
              "         [0.0861 , 0.7524 , 0.424  , 0.7876 , 0.1161 ],\n",
              "         [0.3525 , 0.5073 , 0.1647 , 0.541  , 0.5767 ],\n",
              "         [0.1685 , 0.801  , 0.3447 , 0.3074 , 0.97   ]],\n",
              "\n",
              "        [[0.4333 , 0.518  , 0.8555 , 0.2196 , 0.7607 ],\n",
              "         [0.04764, 0.513  , 0.9736 , 0.3335 , 0.03152],\n",
              "         [0.2888 , 0.5874 , 0.757  , 0.706  , 0.559  ],\n",
              "         [0.401  , 0.838  , 0.765  , 0.5405 , 0.5244 ]]]], dtype=float16)>"
            ]
          },
          "metadata": {},
          "execution_count": 56
        }
      ]
    },
    {
      "cell_type": "code",
      "source": [
        "tf.cast(rank_4_tensor, dtype=tf.int64)"
      ],
      "metadata": {
        "colab": {
          "base_uri": "https://localhost:8080/"
        },
        "id": "zRiNUvJB0M-9",
        "outputId": "a003a465-d2df-42a1-8ef2-362ade050f95"
      },
      "execution_count": 57,
      "outputs": [
        {
          "output_type": "execute_result",
          "data": {
            "text/plain": [
              "<tf.Tensor: shape=(2, 3, 4, 5), dtype=int64, numpy=\n",
              "array([[[[0, 0, 0, 0, 0],\n",
              "         [0, 0, 0, 0, 0],\n",
              "         [0, 0, 0, 0, 0],\n",
              "         [0, 0, 0, 0, 0]],\n",
              "\n",
              "        [[0, 0, 0, 0, 0],\n",
              "         [0, 0, 0, 0, 0],\n",
              "         [0, 0, 0, 0, 0],\n",
              "         [0, 0, 0, 0, 0]],\n",
              "\n",
              "        [[0, 0, 0, 0, 0],\n",
              "         [0, 0, 0, 0, 0],\n",
              "         [0, 0, 0, 0, 0],\n",
              "         [0, 0, 0, 0, 0]]],\n",
              "\n",
              "\n",
              "       [[[0, 0, 0, 0, 0],\n",
              "         [0, 0, 0, 0, 0],\n",
              "         [0, 0, 0, 0, 0],\n",
              "         [0, 0, 0, 0, 0]],\n",
              "\n",
              "        [[0, 0, 0, 0, 0],\n",
              "         [0, 0, 0, 0, 0],\n",
              "         [0, 0, 0, 0, 0],\n",
              "         [0, 0, 0, 0, 0]],\n",
              "\n",
              "        [[0, 0, 0, 0, 0],\n",
              "         [0, 0, 0, 0, 0],\n",
              "         [0, 0, 0, 0, 0],\n",
              "         [0, 0, 0, 0, 0]]]])>"
            ]
          },
          "metadata": {},
          "execution_count": 57
        }
      ]
    },
    {
      "cell_type": "code",
      "source": [],
      "metadata": {
        "id": "MmzCID8S03Bi"
      },
      "execution_count": 57,
      "outputs": []
    },
    {
      "cell_type": "code",
      "source": [
        "tensor_A1, tf.cast(tensor_A1, dtype=tf.float16)"
      ],
      "metadata": {
        "colab": {
          "base_uri": "https://localhost:8080/"
        },
        "id": "T-VawKKm0AA6",
        "outputId": "d6574a88-5d84-4082-cf90-58461c1e4e67"
      },
      "execution_count": 58,
      "outputs": [
        {
          "output_type": "execute_result",
          "data": {
            "text/plain": [
              "(<tf.Tensor: shape=(24,), dtype=int32, numpy=\n",
              " array([ 1,  2,  3,  4,  5,  6,  7,  8,  9, 10, 11, 12, 13, 14, 15, 16, 17,\n",
              "        18, 19, 20, 21, 22, 23, 24], dtype=int32)>,\n",
              " <tf.Tensor: shape=(24,), dtype=float16, numpy=\n",
              " array([ 1.,  2.,  3.,  4.,  5.,  6.,  7.,  8.,  9., 10., 11., 12., 13.,\n",
              "        14., 15., 16., 17., 18., 19., 20., 21., 22., 23., 24.],\n",
              "       dtype=float16)>)"
            ]
          },
          "metadata": {},
          "execution_count": 58
        }
      ]
    },
    {
      "cell_type": "markdown",
      "source": [
        "#### Aggregating Tensors"
      ],
      "metadata": {
        "id": "Os-J4e1500o1"
      }
    },
    {
      "cell_type": "code",
      "source": [
        "# absolute value\n",
        "\n",
        "random_1, tf.abs(random_1)"
      ],
      "metadata": {
        "colab": {
          "base_uri": "https://localhost:8080/"
        },
        "id": "7ACD6vZZ1aJV",
        "outputId": "4e2214a3-4e0f-4938-a7e1-2f748b06103f"
      },
      "execution_count": 59,
      "outputs": [
        {
          "output_type": "execute_result",
          "data": {
            "text/plain": [
              "(<tf.Tensor: shape=(3, 2), dtype=float32, numpy=\n",
              " array([[-0.7565803 , -0.06854702],\n",
              "        [ 0.07595026, -1.2573844 ],\n",
              "        [-0.23193763, -1.8107855 ]], dtype=float32)>,\n",
              " <tf.Tensor: shape=(3, 2), dtype=float32, numpy=\n",
              " array([[0.7565803 , 0.06854702],\n",
              "        [0.07595026, 1.2573844 ],\n",
              "        [0.23193763, 1.8107855 ]], dtype=float32)>)"
            ]
          },
          "metadata": {},
          "execution_count": 59
        }
      ]
    },
    {
      "cell_type": "code",
      "source": [
        "# Min, Max, Mean, Sum, Std_Dev\n",
        "\n",
        "print(rank_2_tensor,\"\\n\\n min:\",\n",
        "      tf.reduce_min(rank_2_tensor,keepdims=True),\"\\n\\n max:\",\n",
        "      tf.reduce_max(rank_2_tensor,keepdims=True),\"\\n\\n mean:\",\n",
        "      tf.reduce_mean(rank_2_tensor,keepdims=True),\"\\n\\n sum:\",\n",
        "      tf.reduce_sum(rank_2_tensor,keepdims=True), \"\\n\\n std_dev:\",\n",
        "      tf.math.reduce_std(tf.cast(rank_2_tensor, dtype=tf.float32)),\"\\n\\n variance:\",\n",
        "      tf.math.reduce_variance(tf.cast(rank_2_tensor, dtype=tf.float32)))"
      ],
      "metadata": {
        "colab": {
          "base_uri": "https://localhost:8080/"
        },
        "id": "ZH8ULglo2Abk",
        "outputId": "d7cbd474-e4ed-4270-82fe-14ae21c84db0"
      },
      "execution_count": 60,
      "outputs": [
        {
          "output_type": "stream",
          "name": "stdout",
          "text": [
            "tf.Tensor(\n",
            "[[0.7493447  0.73561966 0.45230794]\n",
            " [0.49039817 0.1889317  0.52027524]], shape=(2, 3), dtype=float32) \n",
            "\n",
            " min: tf.Tensor([[0.1889317]], shape=(1, 1), dtype=float32) \n",
            "\n",
            " max: tf.Tensor([[0.7493447]], shape=(1, 1), dtype=float32) \n",
            "\n",
            " mean: tf.Tensor([[0.5228129]], shape=(1, 1), dtype=float32) \n",
            "\n",
            " sum: tf.Tensor([[3.1368775]], shape=(1, 1), dtype=float32) \n",
            "\n",
            " std_dev: tf.Tensor(0.18890391, shape=(), dtype=float32) \n",
            "\n",
            " variance: tf.Tensor(0.03568469, shape=(), dtype=float32)\n"
          ]
        }
      ]
    },
    {
      "cell_type": "markdown",
      "source": [
        "#### Find the positional min and max in a tensor"
      ],
      "metadata": {
        "id": "KOBDsGva5_Kh"
      }
    },
    {
      "cell_type": "code",
      "source": [
        "rank_1_tensor = tf.random.Generator.from_seed(42)\n",
        "rank_1_tensor = rank_1_tensor.uniform(shape=(50,))\n",
        "rank_1_tensor, rank_1_tensor.ndim"
      ],
      "metadata": {
        "colab": {
          "base_uri": "https://localhost:8080/"
        },
        "id": "cQOFyUWu8EQh",
        "outputId": "fc28a909-9a1c-4423-a2e2-19b8ccfe6a0a"
      },
      "execution_count": 61,
      "outputs": [
        {
          "output_type": "execute_result",
          "data": {
            "text/plain": [
              "(<tf.Tensor: shape=(50,), dtype=float32, numpy=\n",
              " array([0.7493447 , 0.73561966, 0.45230794, 0.49039817, 0.1889317 ,\n",
              "        0.52027524, 0.8736881 , 0.46921718, 0.63932586, 0.6467117 ,\n",
              "        0.96246755, 0.41009164, 0.86540747, 0.8862978 , 0.27795732,\n",
              "        0.8857763 , 0.2179842 , 0.29115117, 0.03953862, 0.8136791 ,\n",
              "        0.8139852 , 0.52180684, 0.12496924, 0.5488483 , 0.7755773 ,\n",
              "        0.6184403 , 0.24936223, 0.89341843, 0.28422844, 0.70332646,\n",
              "        0.2622137 , 0.4432162 , 0.466465  , 0.05981874, 0.40098202,\n",
              "        0.69292355, 0.1284684 , 0.22770369, 0.33691216, 0.5329138 ,\n",
              "        0.5914326 , 0.21738243, 0.5322075 , 0.05148339, 0.03951418,\n",
              "        0.41866875, 0.78939915, 0.04384279, 0.96955836, 0.49116182],\n",
              "       dtype=float32)>,\n",
              " 1)"
            ]
          },
          "metadata": {},
          "execution_count": 61
        }
      ]
    },
    {
      "cell_type": "code",
      "source": [
        "tf.argmin(rank_1_tensor),tf.argmax(rank_1_tensor)"
      ],
      "metadata": {
        "colab": {
          "base_uri": "https://localhost:8080/"
        },
        "id": "h-UPL7fG8PqP",
        "outputId": "9c6717d4-d0e2-4ec1-a353-6bae43147216"
      },
      "execution_count": 62,
      "outputs": [
        {
          "output_type": "execute_result",
          "data": {
            "text/plain": [
              "(<tf.Tensor: shape=(), dtype=int64, numpy=44>,\n",
              " <tf.Tensor: shape=(), dtype=int64, numpy=48>)"
            ]
          },
          "metadata": {},
          "execution_count": 62
        }
      ]
    },
    {
      "cell_type": "code",
      "source": [
        "print(rank_2_tensor,\"\\n\\n argmin:\", tf.argmin(rank_2_tensor),\"\\n\\n argmax:\",tf.argmax(rank_2_tensor))"
      ],
      "metadata": {
        "colab": {
          "base_uri": "https://localhost:8080/"
        },
        "id": "bPFMMDBM6Ea-",
        "outputId": "35de91f0-8723-42cb-fbc9-a06133675258"
      },
      "execution_count": 63,
      "outputs": [
        {
          "output_type": "stream",
          "name": "stdout",
          "text": [
            "tf.Tensor(\n",
            "[[0.7493447  0.73561966 0.45230794]\n",
            " [0.49039817 0.1889317  0.52027524]], shape=(2, 3), dtype=float32) \n",
            "\n",
            " argmin: tf.Tensor([1 1 0], shape=(3,), dtype=int64) \n",
            "\n",
            " argmax: tf.Tensor([0 0 1], shape=(3,), dtype=int64)\n"
          ]
        }
      ]
    }
  ]
}