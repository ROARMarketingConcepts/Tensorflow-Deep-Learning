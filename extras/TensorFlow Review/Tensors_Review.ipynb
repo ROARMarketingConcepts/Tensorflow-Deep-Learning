{
  "nbformat": 4,
  "nbformat_minor": 0,
  "metadata": {
    "colab": {
      "provenance": [],
      "gpuType": "T4"
    },
    "kernelspec": {
      "name": "python3",
      "display_name": "Python 3"
    },
    "language_info": {
      "name": "python"
    },
    "accelerator": "GPU"
  },
  "cells": [
    {
      "cell_type": "markdown",
      "source": [
        "# Review of Tensors"
      ],
      "metadata": {
        "id": "Y9B6rHiWUZ6c"
      }
    },
    {
      "cell_type": "markdown",
      "source": [
        "In this notebook, we will cover:\n",
        "\n",
        "* Introduction to tensors\n",
        "* Getting info from tensors\n",
        "* Manipulating tensors\n",
        "* Tensors & NumPy\n",
        "* Using @tf.function (a way to speed up your regular Python functions)\n",
        "* Using GPUs with TensorFlow (or TPUs)\n",
        "* Exercises to try\n"
      ],
      "metadata": {
        "id": "3uSbX8QHTzPo"
      }
    },
    {
      "cell_type": "code",
      "source": [
        "import tensorflow as tf\n",
        "print(tf.__version__)"
      ],
      "metadata": {
        "colab": {
          "base_uri": "https://localhost:8080/"
        },
        "id": "IoYCimGGUzAo",
        "outputId": "1f31d30f-cf38-4a06-ed55-6633cbfd137b"
      },
      "execution_count": null,
      "outputs": [
        {
          "output_type": "stream",
          "name": "stdout",
          "text": [
            "2.18.0\n"
          ]
        }
      ]
    },
    {
      "cell_type": "markdown",
      "source": [
        "Create tensors with `tf.constant()`"
      ],
      "metadata": {
        "id": "y2rXwluHVKiR"
      }
    },
    {
      "cell_type": "code",
      "source": [
        "scalar = tf.constant(7)\n",
        "vector = tf.constant([10, 10])\n",
        "matrix = tf.constant([[10, 7],\n",
        "                      [7, 10]])\n",
        "scalar,vector,matrix"
      ],
      "metadata": {
        "colab": {
          "base_uri": "https://localhost:8080/"
        },
        "id": "DhCG85KVU_a4",
        "outputId": "81ece1d5-90bd-43f9-fc74-ce456a82f705"
      },
      "execution_count": null,
      "outputs": [
        {
          "output_type": "execute_result",
          "data": {
            "text/plain": [
              "(<tf.Tensor: shape=(), dtype=int32, numpy=7>,\n",
              " <tf.Tensor: shape=(2,), dtype=int32, numpy=array([10, 10], dtype=int32)>,\n",
              " <tf.Tensor: shape=(2, 2), dtype=int32, numpy=\n",
              " array([[10,  7],\n",
              "        [ 7, 10]], dtype=int32)>)"
            ]
          },
          "metadata": {},
          "execution_count": 3
        }
      ]
    },
    {
      "cell_type": "markdown",
      "source": [
        "Check the number of dimensions of a tensor."
      ],
      "metadata": {
        "id": "Qp01Y5FZVlzk"
      }
    },
    {
      "cell_type": "code",
      "source": [
        "scalar.ndim,vector.ndim,matrix.ndim"
      ],
      "metadata": {
        "colab": {
          "base_uri": "https://localhost:8080/"
        },
        "id": "5YyxOdmHVrma",
        "outputId": "d2bda6da-7974-4536-c12c-3cbd367df91e"
      },
      "execution_count": null,
      "outputs": [
        {
          "output_type": "execute_result",
          "data": {
            "text/plain": [
              "(0, 1, 2)"
            ]
          },
          "metadata": {},
          "execution_count": 4
        }
      ]
    },
    {
      "cell_type": "code",
      "source": [
        "another_matrix = tf.constant([[10., 7.],\n",
        "                              [3., 2.],\n",
        "                              [8., 9.]], dtype=tf.float16) # specify the datatype with 'dtype'\n",
        "another_matrix, another_matrix.ndim"
      ],
      "metadata": {
        "colab": {
          "base_uri": "https://localhost:8080/"
        },
        "id": "lGYKhhFSWdpB",
        "outputId": "21c5ead8-2d34-4855-ba3f-b86381c50ef4"
      },
      "execution_count": null,
      "outputs": [
        {
          "output_type": "execute_result",
          "data": {
            "text/plain": [
              "(<tf.Tensor: shape=(3, 2), dtype=float16, numpy=\n",
              " array([[10.,  7.],\n",
              "        [ 3.,  2.],\n",
              "        [ 8.,  9.]], dtype=float16)>,\n",
              " 2)"
            ]
          },
          "metadata": {},
          "execution_count": 5
        }
      ]
    },
    {
      "cell_type": "markdown",
      "source": [
        "So, `another_matrix` is a 2-dimensional tensor with 3 elements."
      ],
      "metadata": {
        "id": "66VjA6jWXHlx"
      }
    },
    {
      "cell_type": "code",
      "source": [
        "tensor = tf.constant([\n",
        "                        [\n",
        "                            [10., 7., 2.],\n",
        "                            [3., 2., 5.]\n",
        "                        ],\n",
        "\n",
        "                        [\n",
        "                            [8., 9., 11.],\n",
        "                            [7., 9., 15,]\n",
        "                        ],\n",
        "\n",
        "                        [\n",
        "                            [3., 5., 1.],\n",
        "                            [9.,6.,4.]\n",
        "                        ]\n",
        "\n",
        "                    ], dtype=tf.float16) # specify the datatype with 'dtype'\n",
        "tensor, tensor.ndim"
      ],
      "metadata": {
        "colab": {
          "base_uri": "https://localhost:8080/"
        },
        "id": "tgkEmhuibGiv",
        "outputId": "3f749f77-7446-453d-f63f-258d61d892b7"
      },
      "execution_count": null,
      "outputs": [
        {
          "output_type": "execute_result",
          "data": {
            "text/plain": [
              "(<tf.Tensor: shape=(3, 2, 3), dtype=float16, numpy=\n",
              " array([[[10.,  7.,  2.],\n",
              "         [ 3.,  2.,  5.]],\n",
              " \n",
              "        [[ 8.,  9., 11.],\n",
              "         [ 7.,  9., 15.]],\n",
              " \n",
              "        [[ 3.,  5.,  1.],\n",
              "         [ 9.,  6.,  4.]]], dtype=float16)>,\n",
              " 3)"
            ]
          },
          "metadata": {},
          "execution_count": 6
        }
      ]
    },
    {
      "cell_type": "markdown",
      "source": [
        "Changeable tensor with `tf.Variable()`"
      ],
      "metadata": {
        "id": "KUxQdimd03Uz"
      }
    },
    {
      "cell_type": "code",
      "source": [
        "changeable_tensor = tf.Variable([10,7])\n",
        "unchangeable_tensor = tf.constant([10,7])\n",
        "changeable_tensor, unchangeable_tensor"
      ],
      "metadata": {
        "colab": {
          "base_uri": "https://localhost:8080/"
        },
        "id": "aVWL2eZ8kWMa",
        "outputId": "5a844687-ea33-49fe-a9f2-a42a37c2b1e9"
      },
      "execution_count": null,
      "outputs": [
        {
          "output_type": "execute_result",
          "data": {
            "text/plain": [
              "(<tf.Variable 'Variable:0' shape=(2,) dtype=int32, numpy=array([10,  7], dtype=int32)>,\n",
              " <tf.Tensor: shape=(2,), dtype=int32, numpy=array([10,  7], dtype=int32)>)"
            ]
          },
          "metadata": {},
          "execution_count": 7
        }
      ]
    },
    {
      "cell_type": "markdown",
      "source": [
        "Change value in `changeable_tensor` using `.assign()`"
      ],
      "metadata": {
        "id": "Jb2EQh4g1mvR"
      }
    },
    {
      "cell_type": "code",
      "source": [
        "changeable_tensor[0].assign([7])\n",
        "changeable_tensor"
      ],
      "metadata": {
        "colab": {
          "base_uri": "https://localhost:8080/"
        },
        "id": "JmRFH55L1uOE",
        "outputId": "c52948bb-c23b-4322-ab1d-b9d34353a23f"
      },
      "execution_count": null,
      "outputs": [
        {
          "output_type": "execute_result",
          "data": {
            "text/plain": [
              "<tf.Variable 'Variable:0' shape=(2,) dtype=int32, numpy=array([7, 7], dtype=int32)>"
            ]
          },
          "metadata": {},
          "execution_count": 8
        }
      ]
    },
    {
      "cell_type": "markdown",
      "source": [
        "👉 Constant tensors can only be changed by re-assignment"
      ],
      "metadata": {
        "id": "Qew7ABJr3HY3"
      }
    },
    {
      "cell_type": "code",
      "source": [
        "unchangeable_tensor = tf.constant([7,7])\n",
        "unchangeable_tensor"
      ],
      "metadata": {
        "colab": {
          "base_uri": "https://localhost:8080/"
        },
        "id": "CBaZw5F02yYZ",
        "outputId": "8367aea7-f041-46e0-b2c3-5f1d059841af"
      },
      "execution_count": null,
      "outputs": [
        {
          "output_type": "execute_result",
          "data": {
            "text/plain": [
              "<tf.Tensor: shape=(2,), dtype=int32, numpy=array([7, 7], dtype=int32)>"
            ]
          },
          "metadata": {},
          "execution_count": 9
        }
      ]
    },
    {
      "cell_type": "markdown",
      "source": [
        "#### Creating Random Tensors"
      ],
      "metadata": {
        "id": "3QCPoDH65WN6"
      }
    },
    {
      "cell_type": "markdown",
      "source": [
        "From normal distribution ($\\mu = 0, \\sigma = 1$)"
      ],
      "metadata": {
        "id": "l2RSJBLX-0hG"
      }
    },
    {
      "cell_type": "code",
      "source": [
        "random_1 = tf.random.Generator.from_seed(42)\n",
        "random_1 = random_1.normal(shape=(3,2))\n",
        "random_1"
      ],
      "metadata": {
        "colab": {
          "base_uri": "https://localhost:8080/"
        },
        "id": "rNlEl8U35lKz",
        "outputId": "f1500f0f-be48-4963-c961-c18ca4e6e08b"
      },
      "execution_count": null,
      "outputs": [
        {
          "output_type": "execute_result",
          "data": {
            "text/plain": [
              "<tf.Tensor: shape=(3, 2), dtype=float32, numpy=\n",
              "array([[-0.7565803 , -0.06854702],\n",
              "       [ 0.07595026, -1.2573844 ],\n",
              "       [-0.23193765, -1.8107855 ]], dtype=float32)>"
            ]
          },
          "metadata": {},
          "execution_count": 10
        }
      ]
    },
    {
      "cell_type": "markdown",
      "source": [
        "From uniform distribution"
      ],
      "metadata": {
        "id": "9b9MDNPU-5XN"
      }
    },
    {
      "cell_type": "code",
      "source": [
        "random_2 = tf.random.Generator.from_seed(42)\n",
        "random_2 = random_2.uniform(shape=(3,2))\n",
        "random_2"
      ],
      "metadata": {
        "colab": {
          "base_uri": "https://localhost:8080/"
        },
        "id": "T_-f0y89-nyi",
        "outputId": "1b039735-ee31-473c-da41-792f5c22a8e9"
      },
      "execution_count": null,
      "outputs": [
        {
          "output_type": "execute_result",
          "data": {
            "text/plain": [
              "<tf.Tensor: shape=(3, 2), dtype=float32, numpy=\n",
              "array([[0.7493447 , 0.73561966],\n",
              "       [0.45230794, 0.49039817],\n",
              "       [0.1889317 , 0.52027524]], dtype=float32)>"
            ]
          },
          "metadata": {},
          "execution_count": 11
        }
      ]
    },
    {
      "cell_type": "markdown",
      "source": [
        "#### Shuffle the order of elements in a tensor"
      ],
      "metadata": {
        "id": "FP_KjzPBBJLf"
      }
    },
    {
      "cell_type": "code",
      "source": [
        "not_shuffled = tf.constant([[10, 7],\n",
        "                            [3, 4],\n",
        "                            [2, 5]])\n",
        "not_shuffled"
      ],
      "metadata": {
        "colab": {
          "base_uri": "https://localhost:8080/"
        },
        "id": "AAUv9frYBsVR",
        "outputId": "e66008c6-cd58-4776-9e95-2db07e5f5b7a"
      },
      "execution_count": null,
      "outputs": [
        {
          "output_type": "execute_result",
          "data": {
            "text/plain": [
              "<tf.Tensor: shape=(3, 2), dtype=int32, numpy=\n",
              "array([[10,  7],\n",
              "       [ 3,  4],\n",
              "       [ 2,  5]], dtype=int32)>"
            ]
          },
          "metadata": {},
          "execution_count": 12
        }
      ]
    },
    {
      "cell_type": "code",
      "source": [
        "tf.random.set_seed(42)   # need to specify seed here\n",
        "shuffled = tf.random.shuffle(not_shuffled, seed=42)  # need to specify seed here too.\n",
        "shuffled"
      ],
      "metadata": {
        "colab": {
          "base_uri": "https://localhost:8080/"
        },
        "id": "vYGmXPU3BwsJ",
        "outputId": "69930605-fd25-4b75-a5cb-0873270cb83b"
      },
      "execution_count": null,
      "outputs": [
        {
          "output_type": "execute_result",
          "data": {
            "text/plain": [
              "<tf.Tensor: shape=(3, 2), dtype=int32, numpy=\n",
              "array([[10,  7],\n",
              "       [ 3,  4],\n",
              "       [ 2,  5]], dtype=int32)>"
            ]
          },
          "metadata": {},
          "execution_count": 13
        }
      ]
    },
    {
      "cell_type": "markdown",
      "source": [
        "#### Other ways to create tensors"
      ],
      "metadata": {
        "id": "cw3kNKJUDtOM"
      }
    },
    {
      "cell_type": "code",
      "source": [
        "tf.ones(shape=(10,7))"
      ],
      "metadata": {
        "colab": {
          "base_uri": "https://localhost:8080/"
        },
        "id": "4-TlAMx7DxLo",
        "outputId": "88c74db9-f59d-4e9b-975b-d6840d10f434"
      },
      "execution_count": null,
      "outputs": [
        {
          "output_type": "execute_result",
          "data": {
            "text/plain": [
              "<tf.Tensor: shape=(10, 7), dtype=float32, numpy=\n",
              "array([[1., 1., 1., 1., 1., 1., 1.],\n",
              "       [1., 1., 1., 1., 1., 1., 1.],\n",
              "       [1., 1., 1., 1., 1., 1., 1.],\n",
              "       [1., 1., 1., 1., 1., 1., 1.],\n",
              "       [1., 1., 1., 1., 1., 1., 1.],\n",
              "       [1., 1., 1., 1., 1., 1., 1.],\n",
              "       [1., 1., 1., 1., 1., 1., 1.],\n",
              "       [1., 1., 1., 1., 1., 1., 1.],\n",
              "       [1., 1., 1., 1., 1., 1., 1.],\n",
              "       [1., 1., 1., 1., 1., 1., 1.]], dtype=float32)>"
            ]
          },
          "metadata": {},
          "execution_count": 14
        }
      ]
    },
    {
      "cell_type": "code",
      "source": [
        "tf.zeros(shape=(3,4))"
      ],
      "metadata": {
        "colab": {
          "base_uri": "https://localhost:8080/"
        },
        "id": "Wwo3Bd06EDyv",
        "outputId": "d33008a2-cec1-461e-ba59-7eb2c0bbd86e"
      },
      "execution_count": null,
      "outputs": [
        {
          "output_type": "execute_result",
          "data": {
            "text/plain": [
              "<tf.Tensor: shape=(3, 4), dtype=float32, numpy=\n",
              "array([[0., 0., 0., 0.],\n",
              "       [0., 0., 0., 0.],\n",
              "       [0., 0., 0., 0.]], dtype=float32)>"
            ]
          },
          "metadata": {},
          "execution_count": 15
        }
      ]
    },
    {
      "cell_type": "markdown",
      "source": [
        "Create tensors from Numpy arrays.\n",
        "\n",
        "👉 Tensors are designed to run on GPU computing."
      ],
      "metadata": {
        "id": "il9fMmH6EOIg"
      }
    },
    {
      "cell_type": "code",
      "source": [
        "import numpy as np\n",
        "\n",
        "# X = tf.constant(some_matrix) # capital for matrix or tensor\n",
        "# y = tf.constant(some_vector) # non-capital for vector\n",
        "\n",
        "numpy_A = np.arange(1, 25, dtype=np.int32) # create a Numpy array between 1 and 25\n",
        "numpy_A"
      ],
      "metadata": {
        "colab": {
          "base_uri": "https://localhost:8080/"
        },
        "id": "ItfyBF6NERxS",
        "outputId": "331ed4c2-77d0-4b2d-c033-3461a9a789f6"
      },
      "execution_count": null,
      "outputs": [
        {
          "output_type": "execute_result",
          "data": {
            "text/plain": [
              "array([ 1,  2,  3,  4,  5,  6,  7,  8,  9, 10, 11, 12, 13, 14, 15, 16, 17,\n",
              "       18, 19, 20, 21, 22, 23, 24], dtype=int32)"
            ]
          },
          "metadata": {},
          "execution_count": 16
        }
      ]
    },
    {
      "cell_type": "code",
      "source": [
        "tensor_A1 = tf.constant(numpy_A)\n",
        "tensor_A1"
      ],
      "metadata": {
        "colab": {
          "base_uri": "https://localhost:8080/"
        },
        "id": "x3MSjTzTFo9B",
        "outputId": "d3053716-8de4-4cff-8dfa-ada7b7273b87"
      },
      "execution_count": null,
      "outputs": [
        {
          "output_type": "execute_result",
          "data": {
            "text/plain": [
              "<tf.Tensor: shape=(24,), dtype=int32, numpy=\n",
              "array([ 1,  2,  3,  4,  5,  6,  7,  8,  9, 10, 11, 12, 13, 14, 15, 16, 17,\n",
              "       18, 19, 20, 21, 22, 23, 24], dtype=int32)>"
            ]
          },
          "metadata": {},
          "execution_count": 17
        }
      ]
    },
    {
      "cell_type": "code",
      "source": [
        "tensor_A2 = tf.constant(numpy_A, shape=(3,8))\n",
        "tensor_A2"
      ],
      "metadata": {
        "colab": {
          "base_uri": "https://localhost:8080/"
        },
        "id": "3z5W0yfbF366",
        "outputId": "681b1849-0c09-4aa3-b5fa-b673c5cb756e"
      },
      "execution_count": null,
      "outputs": [
        {
          "output_type": "execute_result",
          "data": {
            "text/plain": [
              "<tf.Tensor: shape=(3, 8), dtype=int32, numpy=\n",
              "array([[ 1,  2,  3,  4,  5,  6,  7,  8],\n",
              "       [ 9, 10, 11, 12, 13, 14, 15, 16],\n",
              "       [17, 18, 19, 20, 21, 22, 23, 24]], dtype=int32)>"
            ]
          },
          "metadata": {},
          "execution_count": 18
        }
      ]
    },
    {
      "cell_type": "code",
      "source": [
        "tensor_A3 = tf.constant(numpy_A, shape=(2, 3, 4))\n",
        "tensor_A3\n"
      ],
      "metadata": {
        "colab": {
          "base_uri": "https://localhost:8080/"
        },
        "id": "bnUgQBpJFYTV",
        "outputId": "c32451dc-c61d-420e-e90f-3e78f25bfe12"
      },
      "execution_count": null,
      "outputs": [
        {
          "output_type": "execute_result",
          "data": {
            "text/plain": [
              "<tf.Tensor: shape=(2, 3, 4), dtype=int32, numpy=\n",
              "array([[[ 1,  2,  3,  4],\n",
              "        [ 5,  6,  7,  8],\n",
              "        [ 9, 10, 11, 12]],\n",
              "\n",
              "       [[13, 14, 15, 16],\n",
              "        [17, 18, 19, 20],\n",
              "        [21, 22, 23, 24]]], dtype=int32)>"
            ]
          },
          "metadata": {},
          "execution_count": 19
        }
      ]
    },
    {
      "cell_type": "code",
      "source": [
        "tensor_A4 = tf.constant(numpy_A, shape=(2, 2, 3, 2))\n",
        "tensor_A4"
      ],
      "metadata": {
        "colab": {
          "base_uri": "https://localhost:8080/"
        },
        "id": "U1DlUXYGGE75",
        "outputId": "8b595684-d626-46a6-f3c7-560aebd91395"
      },
      "execution_count": null,
      "outputs": [
        {
          "output_type": "execute_result",
          "data": {
            "text/plain": [
              "<tf.Tensor: shape=(2, 2, 3, 2), dtype=int32, numpy=\n",
              "array([[[[ 1,  2],\n",
              "         [ 3,  4],\n",
              "         [ 5,  6]],\n",
              "\n",
              "        [[ 7,  8],\n",
              "         [ 9, 10],\n",
              "         [11, 12]]],\n",
              "\n",
              "\n",
              "       [[[13, 14],\n",
              "         [15, 16],\n",
              "         [17, 18]],\n",
              "\n",
              "        [[19, 20],\n",
              "         [21, 22],\n",
              "         [23, 24]]]], dtype=int32)>"
            ]
          },
          "metadata": {},
          "execution_count": 20
        }
      ]
    },
    {
      "cell_type": "markdown",
      "source": [
        "#### Getting stats from tensors (shape, rank, dimension, size)\n",
        "\n"
      ],
      "metadata": {
        "id": "TmP4TJjlG2wN"
      }
    },
    {
      "cell_type": "code",
      "source": [
        "rank_4_tensor = tf.random.Generator.from_seed(42)\n",
        "rank_4_tensor = rank_4_tensor.uniform(shape=(2,3,4,5))\n",
        "rank_4_tensor"
      ],
      "metadata": {
        "colab": {
          "base_uri": "https://localhost:8080/"
        },
        "id": "o8B6RZuFMnUt",
        "outputId": "77d849d6-218b-4add-e0ca-9b1c0e183071"
      },
      "execution_count": null,
      "outputs": [
        {
          "output_type": "execute_result",
          "data": {
            "text/plain": [
              "<tf.Tensor: shape=(2, 3, 4, 5), dtype=float32, numpy=\n",
              "array([[[[0.7493447 , 0.73561966, 0.45230794, 0.49039817, 0.1889317 ],\n",
              "         [0.52027524, 0.8736881 , 0.46921718, 0.63932586, 0.6467117 ],\n",
              "         [0.96246755, 0.41009164, 0.86540747, 0.8862978 , 0.27795732],\n",
              "         [0.8857763 , 0.2179842 , 0.29115117, 0.03953862, 0.8136791 ]],\n",
              "\n",
              "        [[0.8139852 , 0.52180684, 0.12496924, 0.5488483 , 0.7755773 ],\n",
              "         [0.6184403 , 0.24936223, 0.89341843, 0.28422844, 0.70332646],\n",
              "         [0.2622137 , 0.4432162 , 0.466465  , 0.05981874, 0.40098202],\n",
              "         [0.69292355, 0.1284684 , 0.22770369, 0.33691216, 0.5329138 ]],\n",
              "\n",
              "        [[0.5914326 , 0.21738243, 0.5322075 , 0.05148339, 0.03951418],\n",
              "         [0.41866875, 0.78939915, 0.04384279, 0.96955836, 0.49116182],\n",
              "         [0.3706199 , 0.33535397, 0.02760839, 0.99757504, 0.52172756],\n",
              "         [0.20307171, 0.7182547 , 0.84263575, 0.9542595 , 0.90112185]]],\n",
              "\n",
              "\n",
              "       [[[0.62839293, 0.08619452, 0.5679928 , 0.28763676, 0.18828917],\n",
              "         [0.6658715 , 0.6190208 , 0.04422736, 0.49626625, 0.6474861 ],\n",
              "         [0.3557682 , 0.32033885, 0.33705008, 0.7391062 , 0.16512096],\n",
              "         [0.41555858, 0.78638244, 0.45899415, 0.42686343, 0.5630441 ]],\n",
              "\n",
              "        [[0.04115057, 0.7532015 , 0.18315244, 0.30807555, 0.30482936],\n",
              "         [0.08611703, 0.7526083 , 0.42415357, 0.7877505 , 0.11611497],\n",
              "         [0.35255086, 0.50718856, 0.16467738, 0.54108894, 0.5765736 ],\n",
              "         [0.16844285, 0.8007604 , 0.34483027, 0.30735934, 0.9700769 ]],\n",
              "\n",
              "        [[0.43336582, 0.51829636, 0.8555572 , 0.21962428, 0.76091194],\n",
              "         [0.04762888, 0.5131633 , 0.97339594, 0.33341944, 0.03152311],\n",
              "         [0.28874612, 0.58736026, 0.75669694, 0.7060174 , 0.5588795 ],\n",
              "         [0.40088904, 0.8377521 , 0.7651175 , 0.5402924 , 0.52445555]]]],\n",
              "      dtype=float32)>"
            ]
          },
          "metadata": {},
          "execution_count": 21
        }
      ]
    },
    {
      "cell_type": "code",
      "source": [
        "rank_4_tensor[1]"
      ],
      "metadata": {
        "colab": {
          "base_uri": "https://localhost:8080/"
        },
        "id": "EzjpM4RVMHPY",
        "outputId": "1543a5d9-114d-4969-cf30-1e589165391a"
      },
      "execution_count": null,
      "outputs": [
        {
          "output_type": "execute_result",
          "data": {
            "text/plain": [
              "<tf.Tensor: shape=(3, 4, 5), dtype=float32, numpy=\n",
              "array([[[0.62839293, 0.08619452, 0.5679928 , 0.28763676, 0.18828917],\n",
              "        [0.6658715 , 0.6190208 , 0.04422736, 0.49626625, 0.6474861 ],\n",
              "        [0.3557682 , 0.32033885, 0.33705008, 0.7391062 , 0.16512096],\n",
              "        [0.41555858, 0.78638244, 0.45899415, 0.42686343, 0.5630441 ]],\n",
              "\n",
              "       [[0.04115057, 0.7532015 , 0.18315244, 0.30807555, 0.30482936],\n",
              "        [0.08611703, 0.7526083 , 0.42415357, 0.7877505 , 0.11611497],\n",
              "        [0.35255086, 0.50718856, 0.16467738, 0.54108894, 0.5765736 ],\n",
              "        [0.16844285, 0.8007604 , 0.34483027, 0.30735934, 0.9700769 ]],\n",
              "\n",
              "       [[0.43336582, 0.51829636, 0.8555572 , 0.21962428, 0.76091194],\n",
              "        [0.04762888, 0.5131633 , 0.97339594, 0.33341944, 0.03152311],\n",
              "        [0.28874612, 0.58736026, 0.75669694, 0.7060174 , 0.5588795 ],\n",
              "        [0.40088904, 0.8377521 , 0.7651175 , 0.5402924 , 0.52445555]]],\n",
              "      dtype=float32)>"
            ]
          },
          "metadata": {},
          "execution_count": 22
        }
      ]
    },
    {
      "cell_type": "code",
      "source": [
        "rank_4_tensor.shape,rank_4_tensor.ndim,tf.size(rank_4_tensor)"
      ],
      "metadata": {
        "colab": {
          "base_uri": "https://localhost:8080/"
        },
        "id": "-uqVZ8msNCeH",
        "outputId": "4339c966-c703-4863-94ad-defaa08ad89d"
      },
      "execution_count": null,
      "outputs": [
        {
          "output_type": "execute_result",
          "data": {
            "text/plain": [
              "(TensorShape([2, 3, 4, 5]), 4, <tf.Tensor: shape=(), dtype=int32, numpy=120>)"
            ]
          },
          "metadata": {},
          "execution_count": 23
        }
      ]
    },
    {
      "cell_type": "code",
      "source": [
        "rank_4_tensor[:2,:3].shape,rank_4_tensor[:2,:3].ndim,tf.size(rank_4_tensor[:2,:3])"
      ],
      "metadata": {
        "colab": {
          "base_uri": "https://localhost:8080/"
        },
        "id": "1IBQLJxTNHvF",
        "outputId": "5116a968-ecc8-46c9-963e-1e1a2e19ce27"
      },
      "execution_count": null,
      "outputs": [
        {
          "output_type": "execute_result",
          "data": {
            "text/plain": [
              "(TensorShape([2, 3, 4, 5]), 4, <tf.Tensor: shape=(), dtype=int32, numpy=120>)"
            ]
          },
          "metadata": {},
          "execution_count": 24
        }
      ]
    },
    {
      "cell_type": "markdown",
      "source": [
        "Get various attributes from `rank_4_tensor`:\n"
      ],
      "metadata": {
        "id": "92O-vfR5N92q"
      }
    },
    {
      "cell_type": "code",
      "source": [
        "print(\"Data type of every element\", rank_4_tensor.dtype)\n",
        "print(\"\\nNumber of dimensions (rank)\", rank_4_tensor.ndim)\n",
        "print(\"\\nShape of tensor\", rank_4_tensor.shape)\n",
        "print(\"\\nElements along axis 0 of tensor:\\n\", rank_4_tensor[0])\n",
        "print(\"\\nElements along last axis of tensor:\\n\", rank_4_tensor[-1])\n",
        "print(\"\\nTotal number of elements in tensor:\\n\", tf.size(rank_4_tensor).numpy())"
      ],
      "metadata": {
        "colab": {
          "base_uri": "https://localhost:8080/"
        },
        "id": "VwedZVbvOGIO",
        "outputId": "242907ae-4b72-4486-880e-59c25325df12"
      },
      "execution_count": null,
      "outputs": [
        {
          "output_type": "stream",
          "name": "stdout",
          "text": [
            "Data type of every element <dtype: 'float32'>\n",
            "\n",
            "Number of dimensions (rank) 4\n",
            "\n",
            "Shape of tensor (2, 3, 4, 5)\n",
            "\n",
            "Elements along axis 0 of tensor:\n",
            " tf.Tensor(\n",
            "[[[0.7493447  0.73561966 0.45230794 0.49039817 0.1889317 ]\n",
            "  [0.52027524 0.8736881  0.46921718 0.63932586 0.6467117 ]\n",
            "  [0.96246755 0.41009164 0.86540747 0.8862978  0.27795732]\n",
            "  [0.8857763  0.2179842  0.29115117 0.03953862 0.8136791 ]]\n",
            "\n",
            " [[0.8139852  0.52180684 0.12496924 0.5488483  0.7755773 ]\n",
            "  [0.6184403  0.24936223 0.89341843 0.28422844 0.70332646]\n",
            "  [0.2622137  0.4432162  0.466465   0.05981874 0.40098202]\n",
            "  [0.69292355 0.1284684  0.22770369 0.33691216 0.5329138 ]]\n",
            "\n",
            " [[0.5914326  0.21738243 0.5322075  0.05148339 0.03951418]\n",
            "  [0.41866875 0.78939915 0.04384279 0.96955836 0.49116182]\n",
            "  [0.3706199  0.33535397 0.02760839 0.99757504 0.52172756]\n",
            "  [0.20307171 0.7182547  0.84263575 0.9542595  0.90112185]]], shape=(3, 4, 5), dtype=float32)\n",
            "\n",
            "Elements along last axis of tensor:\n",
            " tf.Tensor(\n",
            "[[[0.62839293 0.08619452 0.5679928  0.28763676 0.18828917]\n",
            "  [0.6658715  0.6190208  0.04422736 0.49626625 0.6474861 ]\n",
            "  [0.3557682  0.32033885 0.33705008 0.7391062  0.16512096]\n",
            "  [0.41555858 0.78638244 0.45899415 0.42686343 0.5630441 ]]\n",
            "\n",
            " [[0.04115057 0.7532015  0.18315244 0.30807555 0.30482936]\n",
            "  [0.08611703 0.7526083  0.42415357 0.7877505  0.11611497]\n",
            "  [0.35255086 0.50718856 0.16467738 0.54108894 0.5765736 ]\n",
            "  [0.16844285 0.8007604  0.34483027 0.30735934 0.9700769 ]]\n",
            "\n",
            " [[0.43336582 0.51829636 0.8555572  0.21962428 0.76091194]\n",
            "  [0.04762888 0.5131633  0.97339594 0.33341944 0.03152311]\n",
            "  [0.28874612 0.58736026 0.75669694 0.7060174  0.5588795 ]\n",
            "  [0.40088904 0.8377521  0.7651175  0.5402924  0.52445555]]], shape=(3, 4, 5), dtype=float32)\n",
            "\n",
            "Total number of elements in tensor:\n",
            " 120\n"
          ]
        }
      ]
    },
    {
      "cell_type": "markdown",
      "source": [
        "#### Indexing Tensors"
      ],
      "metadata": {
        "id": "jzwwL7FsPZLt"
      }
    },
    {
      "cell_type": "code",
      "source": [
        "# Get the first two elements of each dimension\n",
        "\n",
        "rank_4_tensor[:2,:2,:2,:2]"
      ],
      "metadata": {
        "colab": {
          "base_uri": "https://localhost:8080/"
        },
        "id": "_2cLVD6vPjJM",
        "outputId": "dbd720ba-341c-4af4-f76e-7baab6c0d831"
      },
      "execution_count": null,
      "outputs": [
        {
          "output_type": "execute_result",
          "data": {
            "text/plain": [
              "<tf.Tensor: shape=(2, 2, 2, 2), dtype=float32, numpy=\n",
              "array([[[[0.7493447 , 0.73561966],\n",
              "         [0.52027524, 0.8736881 ]],\n",
              "\n",
              "        [[0.8139852 , 0.52180684],\n",
              "         [0.6184403 , 0.24936223]]],\n",
              "\n",
              "\n",
              "       [[[0.62839293, 0.08619452],\n",
              "         [0.6658715 , 0.6190208 ]],\n",
              "\n",
              "        [[0.04115057, 0.7532015 ],\n",
              "         [0.08611703, 0.7526083 ]]]], dtype=float32)>"
            ]
          },
          "metadata": {},
          "execution_count": 26
        }
      ]
    },
    {
      "cell_type": "code",
      "source": [
        "rank_4_tensor[:1,:2,:2,:2]"
      ],
      "metadata": {
        "colab": {
          "base_uri": "https://localhost:8080/"
        },
        "id": "WQMIj6iUQGHL",
        "outputId": "9a85ccc1-1c6d-4165-f3cb-4a2f55d5c076"
      },
      "execution_count": null,
      "outputs": [
        {
          "output_type": "execute_result",
          "data": {
            "text/plain": [
              "<tf.Tensor: shape=(1, 2, 2, 2), dtype=float32, numpy=\n",
              "array([[[[0.7493447 , 0.73561966],\n",
              "         [0.52027524, 0.8736881 ]],\n",
              "\n",
              "        [[0.8139852 , 0.52180684],\n",
              "         [0.6184403 , 0.24936223]]]], dtype=float32)>"
            ]
          },
          "metadata": {},
          "execution_count": 27
        }
      ]
    },
    {
      "cell_type": "code",
      "source": [
        "# Get the first element from each dimension except the last one.\n",
        "rank_4_tensor[:1,:1,:1,:]"
      ],
      "metadata": {
        "colab": {
          "base_uri": "https://localhost:8080/"
        },
        "id": "hQan8o_rQqAT",
        "outputId": "8c25ffd2-b422-4328-859f-be80170a087e"
      },
      "execution_count": null,
      "outputs": [
        {
          "output_type": "execute_result",
          "data": {
            "text/plain": [
              "<tf.Tensor: shape=(1, 1, 1, 5), dtype=float32, numpy=\n",
              "array([[[[0.7493447 , 0.73561966, 0.45230794, 0.49039817, 0.1889317 ]]]],\n",
              "      dtype=float32)>"
            ]
          },
          "metadata": {},
          "execution_count": 28
        }
      ]
    },
    {
      "cell_type": "code",
      "source": [
        "# Create a rank 2 tensor (2 dimensions)\n",
        "rank_2_tensor = tf.random.Generator.from_seed(42)\n",
        "rank_2_tensor = rank_2_tensor.uniform(shape=(2,3))\n",
        "rank_2_tensor"
      ],
      "metadata": {
        "colab": {
          "base_uri": "https://localhost:8080/"
        },
        "id": "0tSR3DjIZDPh",
        "outputId": "44698909-991e-4e5c-b2cf-77ec901224bb"
      },
      "execution_count": null,
      "outputs": [
        {
          "output_type": "execute_result",
          "data": {
            "text/plain": [
              "<tf.Tensor: shape=(2, 3), dtype=float32, numpy=\n",
              "array([[0.7493447 , 0.73561966, 0.45230794],\n",
              "       [0.49039817, 0.1889317 , 0.52027524]], dtype=float32)>"
            ]
          },
          "metadata": {},
          "execution_count": 29
        }
      ]
    },
    {
      "cell_type": "code",
      "source": [
        "rank_2_tensor.shape, rank_2_tensor.ndim"
      ],
      "metadata": {
        "colab": {
          "base_uri": "https://localhost:8080/"
        },
        "id": "vvDS7id3aA44",
        "outputId": "bfe9cae7-5922-4720-a966-37d311a683c7"
      },
      "execution_count": null,
      "outputs": [
        {
          "output_type": "execute_result",
          "data": {
            "text/plain": [
              "(TensorShape([2, 3]), 2)"
            ]
          },
          "metadata": {},
          "execution_count": 30
        }
      ]
    },
    {
      "cell_type": "code",
      "source": [
        "# Get the last element of each row\n",
        "rank_2_tensor[:,-1]"
      ],
      "metadata": {
        "colab": {
          "base_uri": "https://localhost:8080/"
        },
        "id": "EmCnghyMaNJU",
        "outputId": "6999c571-643c-4bbb-a5db-2e6f4b078db5"
      },
      "execution_count": null,
      "outputs": [
        {
          "output_type": "execute_result",
          "data": {
            "text/plain": [
              "<tf.Tensor: shape=(2,), dtype=float32, numpy=array([0.45230794, 0.52027524], dtype=float32)>"
            ]
          },
          "metadata": {},
          "execution_count": 31
        }
      ]
    },
    {
      "cell_type": "code",
      "source": [
        "# Add a new dimension to the rank_2_tensor\n",
        "rank_2_tensor_new_dim = rank_2_tensor[...,tf.newaxis]\n",
        "rank_2_tensor_new_dim"
      ],
      "metadata": {
        "colab": {
          "base_uri": "https://localhost:8080/"
        },
        "id": "t8QQ8RSeczL2",
        "outputId": "0761a03c-5070-4dd0-fbc6-18883172f3a0"
      },
      "execution_count": null,
      "outputs": [
        {
          "output_type": "execute_result",
          "data": {
            "text/plain": [
              "<tf.Tensor: shape=(2, 3, 1), dtype=float32, numpy=\n",
              "array([[[0.7493447 ],\n",
              "        [0.73561966],\n",
              "        [0.45230794]],\n",
              "\n",
              "       [[0.49039817],\n",
              "        [0.1889317 ],\n",
              "        [0.52027524]]], dtype=float32)>"
            ]
          },
          "metadata": {},
          "execution_count": 32
        }
      ]
    },
    {
      "cell_type": "code",
      "source": [
        "# Another way of adding a new dimension\n",
        "tf.expand_dims(rank_2_tensor, axis=-1)"
      ],
      "metadata": {
        "colab": {
          "base_uri": "https://localhost:8080/"
        },
        "id": "4Q95bDSrdKm1",
        "outputId": "423009dc-9763-457d-82c3-b498553c61be"
      },
      "execution_count": null,
      "outputs": [
        {
          "output_type": "execute_result",
          "data": {
            "text/plain": [
              "<tf.Tensor: shape=(2, 3, 1), dtype=float32, numpy=\n",
              "array([[[0.7493447 ],\n",
              "        [0.73561966],\n",
              "        [0.45230794]],\n",
              "\n",
              "       [[0.49039817],\n",
              "        [0.1889317 ],\n",
              "        [0.52027524]]], dtype=float32)>"
            ]
          },
          "metadata": {},
          "execution_count": 33
        }
      ]
    },
    {
      "cell_type": "code",
      "source": [
        "tf.expand_dims(rank_2_tensor, axis=0)"
      ],
      "metadata": {
        "colab": {
          "base_uri": "https://localhost:8080/"
        },
        "id": "buS6sCgGdp4c",
        "outputId": "931ad2f8-1a32-43c2-e741-7e7fb3fff15e"
      },
      "execution_count": null,
      "outputs": [
        {
          "output_type": "execute_result",
          "data": {
            "text/plain": [
              "<tf.Tensor: shape=(1, 2, 3), dtype=float32, numpy=\n",
              "array([[[0.7493447 , 0.73561966, 0.45230794],\n",
              "        [0.49039817, 0.1889317 , 0.52027524]]], dtype=float32)>"
            ]
          },
          "metadata": {},
          "execution_count": 34
        }
      ]
    },
    {
      "cell_type": "code",
      "source": [
        "tf.expand_dims(rank_2_tensor, axis=1)\n"
      ],
      "metadata": {
        "colab": {
          "base_uri": "https://localhost:8080/"
        },
        "id": "zypSfZe6d_Zi",
        "outputId": "ed616ace-b56a-4f1d-e59d-0b9b17ddb548"
      },
      "execution_count": null,
      "outputs": [
        {
          "output_type": "execute_result",
          "data": {
            "text/plain": [
              "<tf.Tensor: shape=(2, 1, 3), dtype=float32, numpy=\n",
              "array([[[0.7493447 , 0.73561966, 0.45230794]],\n",
              "\n",
              "       [[0.49039817, 0.1889317 , 0.52027524]]], dtype=float32)>"
            ]
          },
          "metadata": {},
          "execution_count": 35
        }
      ]
    },
    {
      "cell_type": "markdown",
      "source": [
        "#### Tensor Operations"
      ],
      "metadata": {
        "id": "OcVBN7Vjel1L"
      }
    },
    {
      "cell_type": "code",
      "source": [
        "tensor = tf.constant([[10,7],[3,4]])\n",
        "print(tensor+6,\"\\n\\n\", tensor-6,\"\\n\\n\", tensor*6,\"\\n\\n\", tensor/6)"
      ],
      "metadata": {
        "colab": {
          "base_uri": "https://localhost:8080/"
        },
        "id": "I-S0gV_JfQeX",
        "outputId": "b3250b15-75bd-4823-b72f-fde35dd94e52"
      },
      "execution_count": null,
      "outputs": [
        {
          "output_type": "stream",
          "name": "stdout",
          "text": [
            "tf.Tensor(\n",
            "[[16 13]\n",
            " [ 9 10]], shape=(2, 2), dtype=int32) \n",
            "\n",
            " tf.Tensor(\n",
            "[[ 4  1]\n",
            " [-3 -2]], shape=(2, 2), dtype=int32) \n",
            "\n",
            " tf.Tensor(\n",
            "[[60 42]\n",
            " [18 24]], shape=(2, 2), dtype=int32) \n",
            "\n",
            " tf.Tensor(\n",
            "[[1.66666667 1.16666667]\n",
            " [0.5        0.66666667]], shape=(2, 2), dtype=float64)\n"
          ]
        }
      ]
    },
    {
      "cell_type": "markdown",
      "source": [
        "We can use Tensorflow's built-in functions too."
      ],
      "metadata": {
        "id": "DAKxDjBTggNB"
      }
    },
    {
      "cell_type": "code",
      "source": [
        "print(tf.add(tensor, 6),\"\\n\\n\", tf.subtract(tensor, 6),\"\\n\\n\", tf.multiply(tensor, 6),\"\\n\\n\", tf.divide(tensor, 6))"
      ],
      "metadata": {
        "colab": {
          "base_uri": "https://localhost:8080/"
        },
        "id": "TWdCwX6xjx6f",
        "outputId": "62c3e8ea-e1e9-47a6-975e-353f98d1819b"
      },
      "execution_count": null,
      "outputs": [
        {
          "output_type": "stream",
          "name": "stdout",
          "text": [
            "tf.Tensor(\n",
            "[[16 13]\n",
            " [ 9 10]], shape=(2, 2), dtype=int32) \n",
            "\n",
            " tf.Tensor(\n",
            "[[ 4  1]\n",
            " [-3 -2]], shape=(2, 2), dtype=int32) \n",
            "\n",
            " tf.Tensor(\n",
            "[[60 42]\n",
            " [18 24]], shape=(2, 2), dtype=int32) \n",
            "\n",
            " tf.Tensor(\n",
            "[[1.66666667 1.16666667]\n",
            " [0.5        0.66666667]], shape=(2, 2), dtype=float64)\n"
          ]
        }
      ]
    },
    {
      "cell_type": "markdown",
      "source": [
        "#### Matrix Multiplication"
      ],
      "metadata": {
        "id": "DRnpVAhslAcD"
      }
    },
    {
      "cell_type": "code",
      "source": [
        "print(tensor, \"\\n\\n\",tensor*tensor,\"\\n\\n\",tensor*tensor*tensor ) # element-wise multiplication"
      ],
      "metadata": {
        "colab": {
          "base_uri": "https://localhost:8080/"
        },
        "id": "vkg_2eu8lEQ4",
        "outputId": "85cfd290-46bb-4d0d-c83c-43e9bf598969"
      },
      "execution_count": null,
      "outputs": [
        {
          "output_type": "stream",
          "name": "stdout",
          "text": [
            "tf.Tensor(\n",
            "[[10  7]\n",
            " [ 3  4]], shape=(2, 2), dtype=int32) \n",
            "\n",
            " tf.Tensor(\n",
            "[[100  49]\n",
            " [  9  16]], shape=(2, 2), dtype=int32) \n",
            "\n",
            " tf.Tensor(\n",
            "[[1000  343]\n",
            " [  27   64]], shape=(2, 2), dtype=int32)\n"
          ]
        }
      ]
    },
    {
      "cell_type": "code",
      "source": [
        "tf.matmul(tensor, tensor)  # dot product multiplication"
      ],
      "metadata": {
        "colab": {
          "base_uri": "https://localhost:8080/"
        },
        "id": "j5fAPGJTmPKF",
        "outputId": "d4f1868b-8440-49ff-d803-e0daf90355e5"
      },
      "execution_count": null,
      "outputs": [
        {
          "output_type": "execute_result",
          "data": {
            "text/plain": [
              "<tf.Tensor: shape=(2, 2), dtype=int32, numpy=\n",
              "array([[121,  98],\n",
              "       [ 42,  37]], dtype=int32)>"
            ]
          },
          "metadata": {},
          "execution_count": 39
        }
      ]
    },
    {
      "cell_type": "code",
      "source": [
        "tensor @ tensor # dot product multiplication"
      ],
      "metadata": {
        "colab": {
          "base_uri": "https://localhost:8080/"
        },
        "id": "GZhLfbDJmeqm",
        "outputId": "fbfda4dc-4409-4104-8267-15fc277cd9db"
      },
      "execution_count": null,
      "outputs": [
        {
          "output_type": "execute_result",
          "data": {
            "text/plain": [
              "<tf.Tensor: shape=(2, 2), dtype=int32, numpy=\n",
              "array([[121,  98],\n",
              "       [ 42,  37]], dtype=int32)>"
            ]
          },
          "metadata": {},
          "execution_count": 40
        }
      ]
    },
    {
      "cell_type": "markdown",
      "source": [
        "Multiplying matrices with different shapes  $(n,m) \\cdot (m,p) = (n,p)$"
      ],
      "metadata": {
        "id": "PxKrd419m4jF"
      }
    },
    {
      "cell_type": "code",
      "source": [
        "tensor2 = tf.constant([[1,2,3],[4,5,6]])\n",
        "tensor2"
      ],
      "metadata": {
        "colab": {
          "base_uri": "https://localhost:8080/"
        },
        "id": "FbSq2lYqm2-C",
        "outputId": "3abe6113-2035-4fba-ca79-0d2213c4e0c8"
      },
      "execution_count": null,
      "outputs": [
        {
          "output_type": "execute_result",
          "data": {
            "text/plain": [
              "<tf.Tensor: shape=(2, 3), dtype=int32, numpy=\n",
              "array([[1, 2, 3],\n",
              "       [4, 5, 6]], dtype=int32)>"
            ]
          },
          "metadata": {},
          "execution_count": 41
        }
      ]
    },
    {
      "cell_type": "code",
      "source": [
        "tensor3 = tf.constant([[7,8],[9,10],[11,12]])\n",
        "tensor3"
      ],
      "metadata": {
        "colab": {
          "base_uri": "https://localhost:8080/"
        },
        "id": "vt2G3cPNnMJZ",
        "outputId": "03d932af-09cc-4290-c056-aaf04998c329"
      },
      "execution_count": null,
      "outputs": [
        {
          "output_type": "execute_result",
          "data": {
            "text/plain": [
              "<tf.Tensor: shape=(3, 2), dtype=int32, numpy=\n",
              "array([[ 7,  8],\n",
              "       [ 9, 10],\n",
              "       [11, 12]], dtype=int32)>"
            ]
          },
          "metadata": {},
          "execution_count": 42
        }
      ]
    },
    {
      "cell_type": "code",
      "source": [
        "tensor3 @ tensor"
      ],
      "metadata": {
        "colab": {
          "base_uri": "https://localhost:8080/"
        },
        "id": "4DyG64f6nQd9",
        "outputId": "befbadc2-f81f-4dc6-9ce8-bd31f8af7e18"
      },
      "execution_count": null,
      "outputs": [
        {
          "output_type": "execute_result",
          "data": {
            "text/plain": [
              "<tf.Tensor: shape=(3, 2), dtype=int32, numpy=\n",
              "array([[ 94,  81],\n",
              "       [120, 103],\n",
              "       [146, 125]], dtype=int32)>"
            ]
          },
          "metadata": {},
          "execution_count": 43
        }
      ]
    },
    {
      "cell_type": "code",
      "source": [
        "# Create (3, 2) tensor\n",
        "X = tf.constant([[1, 2],\n",
        "                 [3, 4],\n",
        "                 [5, 6]])\n",
        "\n",
        "# Create another (3, 2) tensor\n",
        "Y = tf.constant([[7, 8],\n",
        "                 [9, 10],\n",
        "                 [11, 12]])\n",
        "X, Y"
      ],
      "metadata": {
        "colab": {
          "base_uri": "https://localhost:8080/"
        },
        "id": "lWT6T9nLp1cn",
        "outputId": "db28c8e2-748f-481a-cfe2-719b32855850"
      },
      "execution_count": null,
      "outputs": [
        {
          "output_type": "execute_result",
          "data": {
            "text/plain": [
              "(<tf.Tensor: shape=(3, 2), dtype=int32, numpy=\n",
              " array([[1, 2],\n",
              "        [3, 4],\n",
              "        [5, 6]], dtype=int32)>,\n",
              " <tf.Tensor: shape=(3, 2), dtype=int32, numpy=\n",
              " array([[ 7,  8],\n",
              "        [ 9, 10],\n",
              "        [11, 12]], dtype=int32)>)"
            ]
          },
          "metadata": {},
          "execution_count": 44
        }
      ]
    },
    {
      "cell_type": "code",
      "source": [
        "tf.matmul(X,Y)   # incompatible matrix shapes, we get an error."
      ],
      "metadata": {
        "colab": {
          "base_uri": "https://localhost:8080/",
          "height": 299
        },
        "id": "Y0PKkUZIp8vy",
        "outputId": "c43f17ff-9789-497d-c7c0-b0330378d5bc"
      },
      "execution_count": null,
      "outputs": [
        {
          "output_type": "error",
          "ename": "InvalidArgumentError",
          "evalue": "{{function_node __wrapped__MatMul_device_/job:localhost/replica:0/task:0/device:CPU:0}} Matrix size-incompatible: In[0]: [3,2], In[1]: [3,2] [Op:MatMul] name: ",
          "traceback": [
            "\u001b[0;31m---------------------------------------------------------------------------\u001b[0m",
            "\u001b[0;31mInvalidArgumentError\u001b[0m                      Traceback (most recent call last)",
            "\u001b[0;32m<ipython-input-45-accf0cdb8994>\u001b[0m in \u001b[0;36m<cell line: 0>\u001b[0;34m()\u001b[0m\n\u001b[0;32m----> 1\u001b[0;31m \u001b[0mtf\u001b[0m\u001b[0;34m.\u001b[0m\u001b[0mmatmul\u001b[0m\u001b[0;34m(\u001b[0m\u001b[0mX\u001b[0m\u001b[0;34m,\u001b[0m\u001b[0mY\u001b[0m\u001b[0;34m)\u001b[0m   \u001b[0;31m# incompatible matrix shapes, we get an error.\u001b[0m\u001b[0;34m\u001b[0m\u001b[0;34m\u001b[0m\u001b[0m\n\u001b[0m",
            "\u001b[0;32m/usr/local/lib/python3.11/dist-packages/tensorflow/python/ops/weak_tensor_ops.py\u001b[0m in \u001b[0;36mwrapper\u001b[0;34m(*args, **kwargs)\u001b[0m\n\u001b[1;32m    140\u001b[0m   \u001b[0;32mdef\u001b[0m \u001b[0mwrapper\u001b[0m\u001b[0;34m(\u001b[0m\u001b[0;34m*\u001b[0m\u001b[0margs\u001b[0m\u001b[0;34m,\u001b[0m \u001b[0;34m**\u001b[0m\u001b[0mkwargs\u001b[0m\u001b[0;34m)\u001b[0m\u001b[0;34m:\u001b[0m\u001b[0;34m\u001b[0m\u001b[0;34m\u001b[0m\u001b[0m\n\u001b[1;32m    141\u001b[0m     \u001b[0;32mif\u001b[0m \u001b[0;32mnot\u001b[0m \u001b[0mops\u001b[0m\u001b[0;34m.\u001b[0m\u001b[0mis_auto_dtype_conversion_enabled\u001b[0m\u001b[0;34m(\u001b[0m\u001b[0;34m)\u001b[0m\u001b[0;34m:\u001b[0m\u001b[0;34m\u001b[0m\u001b[0;34m\u001b[0m\u001b[0m\n\u001b[0;32m--> 142\u001b[0;31m       \u001b[0;32mreturn\u001b[0m \u001b[0mop\u001b[0m\u001b[0;34m(\u001b[0m\u001b[0;34m*\u001b[0m\u001b[0margs\u001b[0m\u001b[0;34m,\u001b[0m \u001b[0;34m**\u001b[0m\u001b[0mkwargs\u001b[0m\u001b[0;34m)\u001b[0m\u001b[0;34m\u001b[0m\u001b[0;34m\u001b[0m\u001b[0m\n\u001b[0m\u001b[1;32m    143\u001b[0m     \u001b[0mbound_arguments\u001b[0m \u001b[0;34m=\u001b[0m \u001b[0msignature\u001b[0m\u001b[0;34m.\u001b[0m\u001b[0mbind\u001b[0m\u001b[0;34m(\u001b[0m\u001b[0;34m*\u001b[0m\u001b[0margs\u001b[0m\u001b[0;34m,\u001b[0m \u001b[0;34m**\u001b[0m\u001b[0mkwargs\u001b[0m\u001b[0;34m)\u001b[0m\u001b[0;34m\u001b[0m\u001b[0;34m\u001b[0m\u001b[0m\n\u001b[1;32m    144\u001b[0m     \u001b[0mbound_arguments\u001b[0m\u001b[0;34m.\u001b[0m\u001b[0mapply_defaults\u001b[0m\u001b[0;34m(\u001b[0m\u001b[0;34m)\u001b[0m\u001b[0;34m\u001b[0m\u001b[0;34m\u001b[0m\u001b[0m\n",
            "\u001b[0;32m/usr/local/lib/python3.11/dist-packages/tensorflow/python/util/traceback_utils.py\u001b[0m in \u001b[0;36merror_handler\u001b[0;34m(*args, **kwargs)\u001b[0m\n\u001b[1;32m    151\u001b[0m     \u001b[0;32mexcept\u001b[0m \u001b[0mException\u001b[0m \u001b[0;32mas\u001b[0m \u001b[0me\u001b[0m\u001b[0;34m:\u001b[0m\u001b[0;34m\u001b[0m\u001b[0;34m\u001b[0m\u001b[0m\n\u001b[1;32m    152\u001b[0m       \u001b[0mfiltered_tb\u001b[0m \u001b[0;34m=\u001b[0m \u001b[0m_process_traceback_frames\u001b[0m\u001b[0;34m(\u001b[0m\u001b[0me\u001b[0m\u001b[0;34m.\u001b[0m\u001b[0m__traceback__\u001b[0m\u001b[0;34m)\u001b[0m\u001b[0;34m\u001b[0m\u001b[0;34m\u001b[0m\u001b[0m\n\u001b[0;32m--> 153\u001b[0;31m       \u001b[0;32mraise\u001b[0m \u001b[0me\u001b[0m\u001b[0;34m.\u001b[0m\u001b[0mwith_traceback\u001b[0m\u001b[0;34m(\u001b[0m\u001b[0mfiltered_tb\u001b[0m\u001b[0;34m)\u001b[0m \u001b[0;32mfrom\u001b[0m \u001b[0;32mNone\u001b[0m\u001b[0;34m\u001b[0m\u001b[0;34m\u001b[0m\u001b[0m\n\u001b[0m\u001b[1;32m    154\u001b[0m     \u001b[0;32mfinally\u001b[0m\u001b[0;34m:\u001b[0m\u001b[0;34m\u001b[0m\u001b[0;34m\u001b[0m\u001b[0m\n\u001b[1;32m    155\u001b[0m       \u001b[0;32mdel\u001b[0m \u001b[0mfiltered_tb\u001b[0m\u001b[0;34m\u001b[0m\u001b[0;34m\u001b[0m\u001b[0m\n",
            "\u001b[0;32m/usr/local/lib/python3.11/dist-packages/tensorflow/python/framework/ops.py\u001b[0m in \u001b[0;36mraise_from_not_ok_status\u001b[0;34m(e, name)\u001b[0m\n\u001b[1;32m   6000\u001b[0m \u001b[0;32mdef\u001b[0m \u001b[0mraise_from_not_ok_status\u001b[0m\u001b[0;34m(\u001b[0m\u001b[0me\u001b[0m\u001b[0;34m,\u001b[0m \u001b[0mname\u001b[0m\u001b[0;34m)\u001b[0m \u001b[0;34m->\u001b[0m \u001b[0mNoReturn\u001b[0m\u001b[0;34m:\u001b[0m\u001b[0;34m\u001b[0m\u001b[0;34m\u001b[0m\u001b[0m\n\u001b[1;32m   6001\u001b[0m   \u001b[0me\u001b[0m\u001b[0;34m.\u001b[0m\u001b[0mmessage\u001b[0m \u001b[0;34m+=\u001b[0m \u001b[0;34m(\u001b[0m\u001b[0;34m\" name: \"\u001b[0m \u001b[0;34m+\u001b[0m \u001b[0mstr\u001b[0m\u001b[0;34m(\u001b[0m\u001b[0mname\u001b[0m \u001b[0;32mif\u001b[0m \u001b[0mname\u001b[0m \u001b[0;32mis\u001b[0m \u001b[0;32mnot\u001b[0m \u001b[0;32mNone\u001b[0m \u001b[0;32melse\u001b[0m \u001b[0;34m\"\"\u001b[0m\u001b[0;34m)\u001b[0m\u001b[0;34m)\u001b[0m\u001b[0;34m\u001b[0m\u001b[0;34m\u001b[0m\u001b[0m\n\u001b[0;32m-> 6002\u001b[0;31m   \u001b[0;32mraise\u001b[0m \u001b[0mcore\u001b[0m\u001b[0;34m.\u001b[0m\u001b[0m_status_to_exception\u001b[0m\u001b[0;34m(\u001b[0m\u001b[0me\u001b[0m\u001b[0;34m)\u001b[0m \u001b[0;32mfrom\u001b[0m \u001b[0;32mNone\u001b[0m  \u001b[0;31m# pylint: disable=protected-access\u001b[0m\u001b[0;34m\u001b[0m\u001b[0;34m\u001b[0m\u001b[0m\n\u001b[0m\u001b[1;32m   6003\u001b[0m \u001b[0;34m\u001b[0m\u001b[0m\n\u001b[1;32m   6004\u001b[0m \u001b[0;34m\u001b[0m\u001b[0m\n",
            "\u001b[0;31mInvalidArgumentError\u001b[0m: {{function_node __wrapped__MatMul_device_/job:localhost/replica:0/task:0/device:CPU:0}} Matrix size-incompatible: In[0]: [3,2], In[1]: [3,2] [Op:MatMul] name: "
          ]
        }
      ]
    },
    {
      "cell_type": "markdown",
      "source": [
        "Reshaping matrices with `tf.reshape()`"
      ],
      "metadata": {
        "id": "BttCcXgWqxPJ"
      }
    },
    {
      "cell_type": "code",
      "source": [
        "Y_reshape = tf.reshape(Y, shape=(2,3))\n",
        "Y_reshape"
      ],
      "metadata": {
        "colab": {
          "base_uri": "https://localhost:8080/"
        },
        "id": "YWuls3rAqNnh",
        "outputId": "a3a4846b-9421-48b8-95b0-766973bfa8ce"
      },
      "execution_count": null,
      "outputs": [
        {
          "output_type": "execute_result",
          "data": {
            "text/plain": [
              "<tf.Tensor: shape=(2, 3), dtype=int32, numpy=\n",
              "array([[ 7,  8,  9],\n",
              "       [10, 11, 12]], dtype=int32)>"
            ]
          },
          "metadata": {},
          "execution_count": 46
        }
      ]
    },
    {
      "cell_type": "code",
      "source": [
        "tf.matmul(X,Y_reshape)"
      ],
      "metadata": {
        "colab": {
          "base_uri": "https://localhost:8080/"
        },
        "id": "3eHUTF9Pqcvw",
        "outputId": "f5f36005-2676-4dfd-ec23-f89849b39e5b"
      },
      "execution_count": null,
      "outputs": [
        {
          "output_type": "execute_result",
          "data": {
            "text/plain": [
              "<tf.Tensor: shape=(3, 3), dtype=int32, numpy=\n",
              "array([[ 27,  30,  33],\n",
              "       [ 61,  68,  75],\n",
              "       [ 95, 106, 117]], dtype=int32)>"
            ]
          },
          "metadata": {},
          "execution_count": 47
        }
      ]
    },
    {
      "cell_type": "code",
      "source": [
        "tf.tensordot(X,Y_reshape, axes=1)\n"
      ],
      "metadata": {
        "colab": {
          "base_uri": "https://localhost:8080/"
        },
        "id": "5PeCrNmHqu4I",
        "outputId": "f50735c2-e71e-4024-ff00-0ce0585cb891"
      },
      "execution_count": null,
      "outputs": [
        {
          "output_type": "execute_result",
          "data": {
            "text/plain": [
              "<tf.Tensor: shape=(3, 3), dtype=int32, numpy=\n",
              "array([[ 27,  30,  33],\n",
              "       [ 61,  68,  75],\n",
              "       [ 95, 106, 117]], dtype=int32)>"
            ]
          },
          "metadata": {},
          "execution_count": 48
        }
      ]
    },
    {
      "cell_type": "markdown",
      "source": [
        "👉 **Note:** Reshaping is NOT the same as transposing!"
      ],
      "metadata": {
        "id": "6iEXBKX4uGm-"
      }
    },
    {
      "cell_type": "code",
      "source": [
        "X,Y"
      ],
      "metadata": {
        "colab": {
          "base_uri": "https://localhost:8080/"
        },
        "id": "Fs4IM2gdumcU",
        "outputId": "018e56ef-e71c-44cd-f10f-e97d788be96e"
      },
      "execution_count": null,
      "outputs": [
        {
          "output_type": "execute_result",
          "data": {
            "text/plain": [
              "(<tf.Tensor: shape=(3, 2), dtype=int32, numpy=\n",
              " array([[1, 2],\n",
              "        [3, 4],\n",
              "        [5, 6]], dtype=int32)>,\n",
              " <tf.Tensor: shape=(3, 2), dtype=int32, numpy=\n",
              " array([[ 7,  8],\n",
              "        [ 9, 10],\n",
              "        [11, 12]], dtype=int32)>)"
            ]
          },
          "metadata": {},
          "execution_count": 49
        }
      ]
    },
    {
      "cell_type": "code",
      "source": [
        "tf.matmul(X,tf.transpose(Y)), tf.matmul(X,tf.reshape(Y, shape=(2,3)))"
      ],
      "metadata": {
        "colab": {
          "base_uri": "https://localhost:8080/"
        },
        "id": "ZwtxyY17u68N",
        "outputId": "cbc6cd79-2dd9-44a1-d066-3aa0034cffb8"
      },
      "execution_count": null,
      "outputs": [
        {
          "output_type": "execute_result",
          "data": {
            "text/plain": [
              "(<tf.Tensor: shape=(3, 3), dtype=int32, numpy=\n",
              " array([[ 23,  29,  35],\n",
              "        [ 53,  67,  81],\n",
              "        [ 83, 105, 127]], dtype=int32)>,\n",
              " <tf.Tensor: shape=(3, 3), dtype=int32, numpy=\n",
              " array([[ 27,  30,  33],\n",
              "        [ 61,  68,  75],\n",
              "        [ 95, 106, 117]], dtype=int32)>)"
            ]
          },
          "metadata": {},
          "execution_count": 50
        }
      ]
    },
    {
      "cell_type": "code",
      "source": [
        "Y, tf.transpose(Y), tf.reshape(Y, shape=(2,3))"
      ],
      "metadata": {
        "colab": {
          "base_uri": "https://localhost:8080/"
        },
        "id": "ph2OZWgmyWnb",
        "outputId": "5db70808-5448-45e9-e98d-2192958be825"
      },
      "execution_count": null,
      "outputs": [
        {
          "output_type": "execute_result",
          "data": {
            "text/plain": [
              "(<tf.Tensor: shape=(3, 2), dtype=int32, numpy=\n",
              " array([[ 7,  8],\n",
              "        [ 9, 10],\n",
              "        [11, 12]], dtype=int32)>,\n",
              " <tf.Tensor: shape=(2, 3), dtype=int32, numpy=\n",
              " array([[ 7,  9, 11],\n",
              "        [ 8, 10, 12]], dtype=int32)>,\n",
              " <tf.Tensor: shape=(2, 3), dtype=int32, numpy=\n",
              " array([[ 7,  8,  9],\n",
              "        [10, 11, 12]], dtype=int32)>)"
            ]
          },
          "metadata": {},
          "execution_count": 51
        }
      ]
    },
    {
      "cell_type": "markdown",
      "source": [
        "#### Changing the data type of a tensor"
      ],
      "metadata": {
        "id": "Bx4xz5nAzDjc"
      }
    },
    {
      "cell_type": "code",
      "source": [
        "rank_4_tensor"
      ],
      "metadata": {
        "colab": {
          "base_uri": "https://localhost:8080/"
        },
        "id": "zafiGW8QzJA_",
        "outputId": "b896f481-18c8-4e54-b197-f013f4517583"
      },
      "execution_count": null,
      "outputs": [
        {
          "output_type": "execute_result",
          "data": {
            "text/plain": [
              "<tf.Tensor: shape=(2, 3, 4, 5), dtype=float32, numpy=\n",
              "array([[[[0.7493447 , 0.73561966, 0.45230794, 0.49039817, 0.1889317 ],\n",
              "         [0.52027524, 0.8736881 , 0.46921718, 0.63932586, 0.6467117 ],\n",
              "         [0.96246755, 0.41009164, 0.86540747, 0.8862978 , 0.27795732],\n",
              "         [0.8857763 , 0.2179842 , 0.29115117, 0.03953862, 0.8136791 ]],\n",
              "\n",
              "        [[0.8139852 , 0.52180684, 0.12496924, 0.5488483 , 0.7755773 ],\n",
              "         [0.6184403 , 0.24936223, 0.89341843, 0.28422844, 0.70332646],\n",
              "         [0.2622137 , 0.4432162 , 0.466465  , 0.05981874, 0.40098202],\n",
              "         [0.69292355, 0.1284684 , 0.22770369, 0.33691216, 0.5329138 ]],\n",
              "\n",
              "        [[0.5914326 , 0.21738243, 0.5322075 , 0.05148339, 0.03951418],\n",
              "         [0.41866875, 0.78939915, 0.04384279, 0.96955836, 0.49116182],\n",
              "         [0.3706199 , 0.33535397, 0.02760839, 0.99757504, 0.52172756],\n",
              "         [0.20307171, 0.7182547 , 0.84263575, 0.9542595 , 0.90112185]]],\n",
              "\n",
              "\n",
              "       [[[0.62839293, 0.08619452, 0.5679928 , 0.28763676, 0.18828917],\n",
              "         [0.6658715 , 0.6190208 , 0.04422736, 0.49626625, 0.6474861 ],\n",
              "         [0.3557682 , 0.32033885, 0.33705008, 0.7391062 , 0.16512096],\n",
              "         [0.41555858, 0.78638244, 0.45899415, 0.42686343, 0.5630441 ]],\n",
              "\n",
              "        [[0.04115057, 0.7532015 , 0.18315244, 0.30807555, 0.30482936],\n",
              "         [0.08611703, 0.7526083 , 0.42415357, 0.7877505 , 0.11611497],\n",
              "         [0.35255086, 0.50718856, 0.16467738, 0.54108894, 0.5765736 ],\n",
              "         [0.16844285, 0.8007604 , 0.34483027, 0.30735934, 0.9700769 ]],\n",
              "\n",
              "        [[0.43336582, 0.51829636, 0.8555572 , 0.21962428, 0.76091194],\n",
              "         [0.04762888, 0.5131633 , 0.97339594, 0.33341944, 0.03152311],\n",
              "         [0.28874612, 0.58736026, 0.75669694, 0.7060174 , 0.5588795 ],\n",
              "         [0.40088904, 0.8377521 , 0.7651175 , 0.5402924 , 0.52445555]]]],\n",
              "      dtype=float32)>"
            ]
          },
          "metadata": {},
          "execution_count": 52
        }
      ]
    },
    {
      "cell_type": "code",
      "source": [
        "tf.cast(rank_4_tensor, dtype=tf.float16)"
      ],
      "metadata": {
        "colab": {
          "base_uri": "https://localhost:8080/"
        },
        "id": "gvo9s5Vtzsgv",
        "outputId": "71bfcee3-1df7-4612-a893-256ad3367074"
      },
      "execution_count": null,
      "outputs": [
        {
          "output_type": "execute_result",
          "data": {
            "text/plain": [
              "<tf.Tensor: shape=(2, 3, 4, 5), dtype=float16, numpy=\n",
              "array([[[[0.7495 , 0.736  , 0.4524 , 0.4905 , 0.189  ],\n",
              "         [0.5205 , 0.8735 , 0.4692 , 0.639  , 0.6465 ],\n",
              "         [0.9624 , 0.4102 , 0.865  , 0.886  , 0.278  ],\n",
              "         [0.8857 , 0.218  , 0.2913 , 0.03955, 0.8135 ]],\n",
              "\n",
              "        [[0.814  , 0.522  , 0.12494, 0.549  , 0.7754 ],\n",
              "         [0.6187 , 0.2494 , 0.8936 , 0.2842 , 0.703  ],\n",
              "         [0.2622 , 0.443  , 0.4666 , 0.0598 , 0.401  ],\n",
              "         [0.693  , 0.1284 , 0.2277 , 0.337  , 0.5327 ]],\n",
              "\n",
              "        [[0.5913 , 0.2174 , 0.532  , 0.05148, 0.03952],\n",
              "         [0.4187 , 0.7896 , 0.04385, 0.9697 , 0.4912 ],\n",
              "         [0.3706 , 0.3354 , 0.0276 , 0.9976 , 0.5215 ],\n",
              "         [0.2031 , 0.7183 , 0.843  , 0.954  , 0.901  ]]],\n",
              "\n",
              "\n",
              "       [[[0.6284 , 0.0862 , 0.568  , 0.2876 , 0.1882 ],\n",
              "         [0.666  , 0.619  , 0.04422, 0.4963 , 0.6475 ],\n",
              "         [0.3557 , 0.3203 , 0.3372 , 0.7393 , 0.1652 ],\n",
              "         [0.4155 , 0.7866 , 0.459  , 0.4268 , 0.563  ]],\n",
              "\n",
              "        [[0.04114, 0.7534 , 0.1831 , 0.308  , 0.305  ],\n",
              "         [0.0861 , 0.7524 , 0.424  , 0.7876 , 0.1161 ],\n",
              "         [0.3525 , 0.5073 , 0.1647 , 0.541  , 0.5767 ],\n",
              "         [0.1685 , 0.801  , 0.3447 , 0.3074 , 0.97   ]],\n",
              "\n",
              "        [[0.4333 , 0.518  , 0.8555 , 0.2196 , 0.7607 ],\n",
              "         [0.04764, 0.513  , 0.9736 , 0.3335 , 0.03152],\n",
              "         [0.2888 , 0.5874 , 0.757  , 0.706  , 0.559  ],\n",
              "         [0.401  , 0.838  , 0.765  , 0.5405 , 0.5244 ]]]], dtype=float16)>"
            ]
          },
          "metadata": {},
          "execution_count": 53
        }
      ]
    },
    {
      "cell_type": "code",
      "source": [
        "tf.cast(rank_4_tensor, dtype=tf.int64)"
      ],
      "metadata": {
        "colab": {
          "base_uri": "https://localhost:8080/"
        },
        "id": "zRiNUvJB0M-9",
        "outputId": "9c9fc019-0ad4-421c-9585-2f29169bf8ba"
      },
      "execution_count": null,
      "outputs": [
        {
          "output_type": "execute_result",
          "data": {
            "text/plain": [
              "<tf.Tensor: shape=(2, 3, 4, 5), dtype=int64, numpy=\n",
              "array([[[[0, 0, 0, 0, 0],\n",
              "         [0, 0, 0, 0, 0],\n",
              "         [0, 0, 0, 0, 0],\n",
              "         [0, 0, 0, 0, 0]],\n",
              "\n",
              "        [[0, 0, 0, 0, 0],\n",
              "         [0, 0, 0, 0, 0],\n",
              "         [0, 0, 0, 0, 0],\n",
              "         [0, 0, 0, 0, 0]],\n",
              "\n",
              "        [[0, 0, 0, 0, 0],\n",
              "         [0, 0, 0, 0, 0],\n",
              "         [0, 0, 0, 0, 0],\n",
              "         [0, 0, 0, 0, 0]]],\n",
              "\n",
              "\n",
              "       [[[0, 0, 0, 0, 0],\n",
              "         [0, 0, 0, 0, 0],\n",
              "         [0, 0, 0, 0, 0],\n",
              "         [0, 0, 0, 0, 0]],\n",
              "\n",
              "        [[0, 0, 0, 0, 0],\n",
              "         [0, 0, 0, 0, 0],\n",
              "         [0, 0, 0, 0, 0],\n",
              "         [0, 0, 0, 0, 0]],\n",
              "\n",
              "        [[0, 0, 0, 0, 0],\n",
              "         [0, 0, 0, 0, 0],\n",
              "         [0, 0, 0, 0, 0],\n",
              "         [0, 0, 0, 0, 0]]]])>"
            ]
          },
          "metadata": {},
          "execution_count": 54
        }
      ]
    },
    {
      "cell_type": "code",
      "source": [],
      "metadata": {
        "id": "MmzCID8S03Bi"
      },
      "execution_count": null,
      "outputs": []
    },
    {
      "cell_type": "code",
      "source": [
        "tensor_A1, tf.cast(tensor_A1, dtype=tf.float16)"
      ],
      "metadata": {
        "colab": {
          "base_uri": "https://localhost:8080/"
        },
        "id": "T-VawKKm0AA6",
        "outputId": "0c705e11-ce16-409b-eb55-497c30526ab9"
      },
      "execution_count": null,
      "outputs": [
        {
          "output_type": "execute_result",
          "data": {
            "text/plain": [
              "(<tf.Tensor: shape=(24,), dtype=int32, numpy=\n",
              " array([ 1,  2,  3,  4,  5,  6,  7,  8,  9, 10, 11, 12, 13, 14, 15, 16, 17,\n",
              "        18, 19, 20, 21, 22, 23, 24], dtype=int32)>,\n",
              " <tf.Tensor: shape=(24,), dtype=float16, numpy=\n",
              " array([ 1.,  2.,  3.,  4.,  5.,  6.,  7.,  8.,  9., 10., 11., 12., 13.,\n",
              "        14., 15., 16., 17., 18., 19., 20., 21., 22., 23., 24.],\n",
              "       dtype=float16)>)"
            ]
          },
          "metadata": {},
          "execution_count": 55
        }
      ]
    },
    {
      "cell_type": "markdown",
      "source": [
        "#### Aggregating Tensors"
      ],
      "metadata": {
        "id": "Os-J4e1500o1"
      }
    },
    {
      "cell_type": "code",
      "source": [
        "# absolute value\n",
        "\n",
        "random_1, tf.abs(random_1)"
      ],
      "metadata": {
        "colab": {
          "base_uri": "https://localhost:8080/"
        },
        "id": "7ACD6vZZ1aJV",
        "outputId": "28fd6c51-a980-46fd-eb8d-09dd710f1921"
      },
      "execution_count": null,
      "outputs": [
        {
          "output_type": "execute_result",
          "data": {
            "text/plain": [
              "(<tf.Tensor: shape=(3, 2), dtype=float32, numpy=\n",
              " array([[-0.7565803 , -0.06854702],\n",
              "        [ 0.07595026, -1.2573844 ],\n",
              "        [-0.23193765, -1.8107855 ]], dtype=float32)>,\n",
              " <tf.Tensor: shape=(3, 2), dtype=float32, numpy=\n",
              " array([[0.7565803 , 0.06854702],\n",
              "        [0.07595026, 1.2573844 ],\n",
              "        [0.23193765, 1.8107855 ]], dtype=float32)>)"
            ]
          },
          "metadata": {},
          "execution_count": 56
        }
      ]
    },
    {
      "cell_type": "code",
      "source": [
        "# Min, Max, Mean, Sum, Std_Dev\n",
        "\n",
        "print(rank_2_tensor,\"\\n\\n min:\",\n",
        "      tf.reduce_min(rank_2_tensor,keepdims=True),\"\\n\\n max:\",\n",
        "      tf.reduce_max(rank_2_tensor,keepdims=True),\"\\n\\n mean:\",\n",
        "      tf.reduce_mean(rank_2_tensor,keepdims=True),\"\\n\\n sum:\",\n",
        "      tf.reduce_sum(rank_2_tensor,keepdims=True), \"\\n\\n std_dev:\",\n",
        "      tf.math.reduce_std(tf.cast(rank_2_tensor, dtype=tf.float32)),\"\\n\\n variance:\",\n",
        "      tf.math.reduce_variance(tf.cast(rank_2_tensor, dtype=tf.float32)))"
      ],
      "metadata": {
        "colab": {
          "base_uri": "https://localhost:8080/"
        },
        "id": "ZH8ULglo2Abk",
        "outputId": "e9ae393a-b504-42a5-a43c-fc652ace3262"
      },
      "execution_count": null,
      "outputs": [
        {
          "output_type": "stream",
          "name": "stdout",
          "text": [
            "tf.Tensor(\n",
            "[[0.7493447  0.73561966 0.45230794]\n",
            " [0.49039817 0.1889317  0.52027524]], shape=(2, 3), dtype=float32) \n",
            "\n",
            " min: tf.Tensor([[0.1889317]], shape=(1, 1), dtype=float32) \n",
            "\n",
            " max: tf.Tensor([[0.7493447]], shape=(1, 1), dtype=float32) \n",
            "\n",
            " mean: tf.Tensor([[0.5228129]], shape=(1, 1), dtype=float32) \n",
            "\n",
            " sum: tf.Tensor([[3.1368775]], shape=(1, 1), dtype=float32) \n",
            "\n",
            " std_dev: tf.Tensor(0.18890391, shape=(), dtype=float32) \n",
            "\n",
            " variance: tf.Tensor(0.03568469, shape=(), dtype=float32)\n"
          ]
        }
      ]
    },
    {
      "cell_type": "markdown",
      "source": [
        "#### Find the positional min and max in a tensor"
      ],
      "metadata": {
        "id": "KOBDsGva5_Kh"
      }
    },
    {
      "cell_type": "code",
      "source": [
        "rank_1_tensor = tf.random.Generator.from_seed(42)\n",
        "rank_1_tensor = rank_1_tensor.uniform(shape=(50,))\n",
        "rank_1_tensor, rank_1_tensor.ndim"
      ],
      "metadata": {
        "colab": {
          "base_uri": "https://localhost:8080/"
        },
        "id": "cQOFyUWu8EQh",
        "outputId": "c934694b-d9c0-4324-a109-0afbb95e0d1d"
      },
      "execution_count": null,
      "outputs": [
        {
          "output_type": "execute_result",
          "data": {
            "text/plain": [
              "(<tf.Tensor: shape=(50,), dtype=float32, numpy=\n",
              " array([0.7493447 , 0.73561966, 0.45230794, 0.49039817, 0.1889317 ,\n",
              "        0.52027524, 0.8736881 , 0.46921718, 0.63932586, 0.6467117 ,\n",
              "        0.96246755, 0.41009164, 0.86540747, 0.8862978 , 0.27795732,\n",
              "        0.8857763 , 0.2179842 , 0.29115117, 0.03953862, 0.8136791 ,\n",
              "        0.8139852 , 0.52180684, 0.12496924, 0.5488483 , 0.7755773 ,\n",
              "        0.6184403 , 0.24936223, 0.89341843, 0.28422844, 0.70332646,\n",
              "        0.2622137 , 0.4432162 , 0.466465  , 0.05981874, 0.40098202,\n",
              "        0.69292355, 0.1284684 , 0.22770369, 0.33691216, 0.5329138 ,\n",
              "        0.5914326 , 0.21738243, 0.5322075 , 0.05148339, 0.03951418,\n",
              "        0.41866875, 0.78939915, 0.04384279, 0.96955836, 0.49116182],\n",
              "       dtype=float32)>,\n",
              " 1)"
            ]
          },
          "metadata": {},
          "execution_count": 58
        }
      ]
    },
    {
      "cell_type": "code",
      "source": [
        "tf.argmin(rank_1_tensor),tf.argmax(rank_1_tensor)"
      ],
      "metadata": {
        "colab": {
          "base_uri": "https://localhost:8080/"
        },
        "id": "h-UPL7fG8PqP",
        "outputId": "c71cc2a1-6f23-4dbe-ad3b-b9c31109ec7d"
      },
      "execution_count": null,
      "outputs": [
        {
          "output_type": "execute_result",
          "data": {
            "text/plain": [
              "(<tf.Tensor: shape=(), dtype=int64, numpy=44>,\n",
              " <tf.Tensor: shape=(), dtype=int64, numpy=48>)"
            ]
          },
          "metadata": {},
          "execution_count": 59
        }
      ]
    },
    {
      "cell_type": "code",
      "source": [
        "rank_1_tensor[tf.argmin(rank_1_tensor)], rank_1_tensor[tf.argmax(rank_1_tensor)]"
      ],
      "metadata": {
        "colab": {
          "base_uri": "https://localhost:8080/"
        },
        "id": "mJI-ccNAaABy",
        "outputId": "ef6b3b84-a426-4e4d-ab1b-559ec2c7b06f"
      },
      "execution_count": null,
      "outputs": [
        {
          "output_type": "execute_result",
          "data": {
            "text/plain": [
              "(<tf.Tensor: shape=(), dtype=float32, numpy=0.03951418399810791>,\n",
              " <tf.Tensor: shape=(), dtype=float32, numpy=0.9695583581924438>)"
            ]
          },
          "metadata": {},
          "execution_count": 60
        }
      ]
    },
    {
      "cell_type": "code",
      "source": [
        "print(rank_2_tensor,\"\\n\\n argmin:\", tf.argmin(rank_2_tensor),\"\\n\\n argmax:\",tf.argmax(rank_2_tensor))"
      ],
      "metadata": {
        "colab": {
          "base_uri": "https://localhost:8080/"
        },
        "id": "bPFMMDBM6Ea-",
        "outputId": "373a2855-19f6-4765-c3bb-09a075cac6fe"
      },
      "execution_count": null,
      "outputs": [
        {
          "output_type": "stream",
          "name": "stdout",
          "text": [
            "tf.Tensor(\n",
            "[[0.7493447  0.73561966 0.45230794]\n",
            " [0.49039817 0.1889317  0.52027524]], shape=(2, 3), dtype=float32) \n",
            "\n",
            " argmin: tf.Tensor([1 1 0], shape=(3,), dtype=int64) \n",
            "\n",
            " argmax: tf.Tensor([0 0 1], shape=(3,), dtype=int64)\n"
          ]
        }
      ]
    },
    {
      "cell_type": "code",
      "source": [
        "rank_2_tensor[tf.argmin(rank_2_tensor)[0]], rank_2_tensor[tf.argmax(rank_2_tensor)[1]]"
      ],
      "metadata": {
        "colab": {
          "base_uri": "https://localhost:8080/"
        },
        "id": "ImJdmZgJaFx_",
        "outputId": "689b57c1-7870-4934-b0ba-31ccced37916"
      },
      "execution_count": null,
      "outputs": [
        {
          "output_type": "execute_result",
          "data": {
            "text/plain": [
              "(<tf.Tensor: shape=(3,), dtype=float32, numpy=array([0.49039817, 0.1889317 , 0.52027524], dtype=float32)>,\n",
              " <tf.Tensor: shape=(3,), dtype=float32, numpy=array([0.7493447 , 0.73561966, 0.45230794], dtype=float32)>)"
            ]
          },
          "metadata": {},
          "execution_count": 62
        }
      ]
    },
    {
      "cell_type": "markdown",
      "source": [
        "#### Squeezing a Tensor (removing all single dimensions)"
      ],
      "metadata": {
        "id": "B2YLbEynbEhD"
      }
    },
    {
      "cell_type": "code",
      "source": [
        "tf.random.set_seed(42)\n",
        "some_tensor = tf.constant(tf.random.uniform(shape=[50]), shape=(1,1,1,1,50))\n",
        "some_tensor"
      ],
      "metadata": {
        "colab": {
          "base_uri": "https://localhost:8080/"
        },
        "id": "aMtjw2NGbbwh",
        "outputId": "bb52dd67-c83b-432d-c70d-f67ca9d6c0e9"
      },
      "execution_count": null,
      "outputs": [
        {
          "output_type": "execute_result",
          "data": {
            "text/plain": [
              "<tf.Tensor: shape=(1, 1, 1, 1, 50), dtype=float32, numpy=\n",
              "array([[[[[0.6645621 , 0.44100678, 0.3528825 , 0.46448255, 0.03366041,\n",
              "           0.68467236, 0.74011743, 0.8724445 , 0.22632635, 0.22319686,\n",
              "           0.3103881 , 0.7223358 , 0.13318717, 0.5480639 , 0.5746088 ,\n",
              "           0.8996835 , 0.00946367, 0.5212307 , 0.6345445 , 0.1993283 ,\n",
              "           0.72942245, 0.54583454, 0.10756552, 0.6767061 , 0.6602763 ,\n",
              "           0.33695042, 0.60141766, 0.21062577, 0.8527372 , 0.44062173,\n",
              "           0.9485276 , 0.23752594, 0.81179297, 0.5263394 , 0.494308  ,\n",
              "           0.21612847, 0.8457197 , 0.8718841 , 0.3083862 , 0.6868038 ,\n",
              "           0.23764038, 0.7817228 , 0.9671384 , 0.06870162, 0.79873943,\n",
              "           0.66028714, 0.5871513 , 0.16461694, 0.7381023 , 0.32054043]]]]],\n",
              "      dtype=float32)>"
            ]
          },
          "metadata": {},
          "execution_count": 63
        }
      ]
    },
    {
      "cell_type": "code",
      "source": [
        "some_tensor.shape, some_tensor.ndim"
      ],
      "metadata": {
        "colab": {
          "base_uri": "https://localhost:8080/"
        },
        "id": "Q3WIjzgGcFub",
        "outputId": "f94c274d-c6a9-4443-be89-46fa36c7e29c"
      },
      "execution_count": null,
      "outputs": [
        {
          "output_type": "execute_result",
          "data": {
            "text/plain": [
              "(TensorShape([1, 1, 1, 1, 50]), 5)"
            ]
          },
          "metadata": {},
          "execution_count": 64
        }
      ]
    },
    {
      "cell_type": "code",
      "source": [
        "some_tensor_squeezed = tf.squeeze(some_tensor)\n",
        "some_tensor_squeezed"
      ],
      "metadata": {
        "colab": {
          "base_uri": "https://localhost:8080/"
        },
        "id": "_aw40gIpcIsz",
        "outputId": "d4f4b7b8-9d15-4337-abc0-06cd67589fcc"
      },
      "execution_count": null,
      "outputs": [
        {
          "output_type": "execute_result",
          "data": {
            "text/plain": [
              "<tf.Tensor: shape=(50,), dtype=float32, numpy=\n",
              "array([0.6645621 , 0.44100678, 0.3528825 , 0.46448255, 0.03366041,\n",
              "       0.68467236, 0.74011743, 0.8724445 , 0.22632635, 0.22319686,\n",
              "       0.3103881 , 0.7223358 , 0.13318717, 0.5480639 , 0.5746088 ,\n",
              "       0.8996835 , 0.00946367, 0.5212307 , 0.6345445 , 0.1993283 ,\n",
              "       0.72942245, 0.54583454, 0.10756552, 0.6767061 , 0.6602763 ,\n",
              "       0.33695042, 0.60141766, 0.21062577, 0.8527372 , 0.44062173,\n",
              "       0.9485276 , 0.23752594, 0.81179297, 0.5263394 , 0.494308  ,\n",
              "       0.21612847, 0.8457197 , 0.8718841 , 0.3083862 , 0.6868038 ,\n",
              "       0.23764038, 0.7817228 , 0.9671384 , 0.06870162, 0.79873943,\n",
              "       0.66028714, 0.5871513 , 0.16461694, 0.7381023 , 0.32054043],\n",
              "      dtype=float32)>"
            ]
          },
          "metadata": {},
          "execution_count": 65
        }
      ]
    },
    {
      "cell_type": "markdown",
      "source": [
        "#### One-Hot Encoding Tensors"
      ],
      "metadata": {
        "id": "F2VOFYtscTJx"
      }
    },
    {
      "cell_type": "code",
      "source": [
        "# Create a list of indices\n",
        "some_list = [0,1,2,3]\n",
        "\n",
        "# One hot encode them\n",
        "tf.one_hot(some_list, depth=4)"
      ],
      "metadata": {
        "colab": {
          "base_uri": "https://localhost:8080/"
        },
        "id": "FHO25Zj7c3bp",
        "outputId": "1e84ae90-5758-4a77-df76-d75f7312892d"
      },
      "execution_count": null,
      "outputs": [
        {
          "output_type": "execute_result",
          "data": {
            "text/plain": [
              "<tf.Tensor: shape=(4, 4), dtype=float32, numpy=\n",
              "array([[1., 0., 0., 0.],\n",
              "       [0., 1., 0., 0.],\n",
              "       [0., 0., 1., 0.],\n",
              "       [0., 0., 0., 1.]], dtype=float32)>"
            ]
          },
          "metadata": {},
          "execution_count": 66
        }
      ]
    },
    {
      "cell_type": "code",
      "source": [
        "# We can specify some custom values for one-hot encoding\n",
        "tf.one_hot(some_list, depth=4, on_value=\"I love deep learning\", off_value=\"I also like to dance\")"
      ],
      "metadata": {
        "colab": {
          "base_uri": "https://localhost:8080/"
        },
        "id": "lTQzfamWdioQ",
        "outputId": "7c6bf231-5a74-46b0-f3fe-d97af477fda4"
      },
      "execution_count": null,
      "outputs": [
        {
          "output_type": "execute_result",
          "data": {
            "text/plain": [
              "<tf.Tensor: shape=(4, 4), dtype=string, numpy=\n",
              "array([[b'I love deep learning', b'I also like to dance',\n",
              "        b'I also like to dance', b'I also like to dance'],\n",
              "       [b'I also like to dance', b'I love deep learning',\n",
              "        b'I also like to dance', b'I also like to dance'],\n",
              "       [b'I also like to dance', b'I also like to dance',\n",
              "        b'I love deep learning', b'I also like to dance'],\n",
              "       [b'I also like to dance', b'I also like to dance',\n",
              "        b'I also like to dance', b'I love deep learning']], dtype=object)>"
            ]
          },
          "metadata": {},
          "execution_count": 67
        }
      ]
    },
    {
      "cell_type": "markdown",
      "source": [
        "#### Squaring, Log, Square Root"
      ],
      "metadata": {
        "id": "C097UFMed-mT"
      }
    },
    {
      "cell_type": "code",
      "source": [
        "another_tensor = tf.range(1,10)\n",
        "another_tensor, tf.square(another_tensor), tf.sqrt(tf.cast(another_tensor, dtype=tf.float32)), tf.math.log(tf.cast(another_tensor, dtype=tf.float32))"
      ],
      "metadata": {
        "colab": {
          "base_uri": "https://localhost:8080/"
        },
        "id": "YbO9lIjReIzq",
        "outputId": "a1f2141b-8ecb-446e-bd69-dfe10433d0b4"
      },
      "execution_count": null,
      "outputs": [
        {
          "output_type": "execute_result",
          "data": {
            "text/plain": [
              "(<tf.Tensor: shape=(9,), dtype=int32, numpy=array([1, 2, 3, 4, 5, 6, 7, 8, 9], dtype=int32)>,\n",
              " <tf.Tensor: shape=(9,), dtype=int32, numpy=array([ 1,  4,  9, 16, 25, 36, 49, 64, 81], dtype=int32)>,\n",
              " <tf.Tensor: shape=(9,), dtype=float32, numpy=\n",
              " array([1.       , 1.4142135, 1.7320508, 2.       , 2.2360678, 2.4494896,\n",
              "        2.6457512, 2.828427 , 3.       ], dtype=float32)>,\n",
              " <tf.Tensor: shape=(9,), dtype=float32, numpy=\n",
              " array([0.       , 0.6931472, 1.0986123, 1.3862944, 1.609438 , 1.7917595,\n",
              "        1.9459102, 2.0794415, 2.1972246], dtype=float32)>)"
            ]
          },
          "metadata": {},
          "execution_count": 68
        }
      ]
    },
    {
      "cell_type": "markdown",
      "source": [
        "#### Tensors and Numpy (they work together quite well!)"
      ],
      "metadata": {
        "id": "GV2p_C_7ey8i"
      }
    },
    {
      "cell_type": "code",
      "source": [
        "still_another_tensor = tf.constant(np.array([3.,7.,10.]))\n",
        "still_another_tensor, still_another_tensor.dtype"
      ],
      "metadata": {
        "colab": {
          "base_uri": "https://localhost:8080/"
        },
        "id": "Zgbn0lDhe8X0",
        "outputId": "24b3d36e-cc4a-4862-adfc-c261259e2341"
      },
      "execution_count": null,
      "outputs": [
        {
          "output_type": "execute_result",
          "data": {
            "text/plain": [
              "(<tf.Tensor: shape=(3,), dtype=float64, numpy=array([ 3.,  7., 10.])>,\n",
              " tf.float64)"
            ]
          },
          "metadata": {},
          "execution_count": 69
        }
      ]
    },
    {
      "cell_type": "code",
      "source": [
        "# Convert still_another_tensor back to a Numpy array\n",
        "np.array(still_another_tensor), type(np.array(still_another_tensor))"
      ],
      "metadata": {
        "colab": {
          "base_uri": "https://localhost:8080/"
        },
        "id": "_CV6up1NfJLb",
        "outputId": "058749fa-a3f3-426d-882b-32a4a927b740"
      },
      "execution_count": null,
      "outputs": [
        {
          "output_type": "execute_result",
          "data": {
            "text/plain": [
              "(array([ 3.,  7., 10.]), numpy.ndarray)"
            ]
          },
          "metadata": {},
          "execution_count": 70
        }
      ]
    },
    {
      "cell_type": "code",
      "source": [
        "# Also...\n",
        "\n",
        "still_another_tensor.numpy(), type(still_another_tensor.numpy())"
      ],
      "metadata": {
        "colab": {
          "base_uri": "https://localhost:8080/"
        },
        "id": "RA4wqvWnff-A",
        "outputId": "514f868e-b7f5-46dc-cb7c-8a7253986afe"
      },
      "execution_count": null,
      "outputs": [
        {
          "output_type": "execute_result",
          "data": {
            "text/plain": [
              "(array([ 3.,  7., 10.]), numpy.ndarray)"
            ]
          },
          "metadata": {},
          "execution_count": 71
        }
      ]
    },
    {
      "cell_type": "code",
      "source": [
        "still_another_tensor.numpy()[2]"
      ],
      "metadata": {
        "colab": {
          "base_uri": "https://localhost:8080/"
        },
        "id": "FoWHA5v3ftkW",
        "outputId": "effa63eb-51f1-4a1d-fbbe-bf00e553ef3a"
      },
      "execution_count": null,
      "outputs": [
        {
          "output_type": "execute_result",
          "data": {
            "text/plain": [
              "10.0"
            ]
          },
          "metadata": {},
          "execution_count": 72
        }
      ]
    },
    {
      "cell_type": "code",
      "source": [
        "# Another thing to be aware of...\n",
        "\n",
        "still_another_tensor_numpy = tf.constant(np.array([3.,7.,10.]))\n",
        "still_another_tensor_tensor = tf.constant([3.,7.,10.])\n",
        "still_another_tensor_numpy, still_another_tensor_numpy.dtype, still_another_tensor_tensor,still_another_tensor_tensor.dtype"
      ],
      "metadata": {
        "colab": {
          "base_uri": "https://localhost:8080/"
        },
        "id": "QY9I-WDXgBDm",
        "outputId": "c89e5de7-9dbe-4a0b-b8eb-add87a09b6f6"
      },
      "execution_count": null,
      "outputs": [
        {
          "output_type": "execute_result",
          "data": {
            "text/plain": [
              "(<tf.Tensor: shape=(3,), dtype=float64, numpy=array([ 3.,  7., 10.])>,\n",
              " tf.float64,\n",
              " <tf.Tensor: shape=(3,), dtype=float32, numpy=array([ 3.,  7., 10.], dtype=float32)>,\n",
              " tf.float32)"
            ]
          },
          "metadata": {},
          "execution_count": 73
        }
      ]
    },
    {
      "cell_type": "markdown",
      "source": [
        "#### Finding access to GPUs"
      ],
      "metadata": {
        "id": "Xuv32kCihCOS"
      }
    },
    {
      "cell_type": "code",
      "source": [
        "tf.config.list_physical_devices()"
      ],
      "metadata": {
        "colab": {
          "base_uri": "https://localhost:8080/"
        },
        "id": "KhzOdizUhTJs",
        "outputId": "df082d1d-00d8-4d99-e211-8a02a9cb4b7a"
      },
      "execution_count": null,
      "outputs": [
        {
          "output_type": "execute_result",
          "data": {
            "text/plain": [
              "[PhysicalDevice(name='/physical_device:CPU:0', device_type='CPU'),\n",
              " PhysicalDevice(name='/physical_device:GPU:0', device_type='GPU')]"
            ]
          },
          "metadata": {},
          "execution_count": 74
        }
      ]
    },
    {
      "cell_type": "code",
      "source": [
        "!invidia-smi"
      ],
      "metadata": {
        "colab": {
          "base_uri": "https://localhost:8080/"
        },
        "id": "bVo_eKkEiFWf",
        "outputId": "02e04294-f1bd-4f96-8864-d1bbf3ae4620"
      },
      "execution_count": null,
      "outputs": [
        {
          "output_type": "stream",
          "name": "stdout",
          "text": [
            "/bin/bash: line 1: invidia-smi: command not found\n"
          ]
        }
      ]
    }
  ]
}