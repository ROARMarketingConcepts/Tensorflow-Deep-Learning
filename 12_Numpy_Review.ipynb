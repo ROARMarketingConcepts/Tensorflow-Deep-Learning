{
 "cells": [
  {
   "cell_type": "markdown",
   "metadata": {
    "id": "hBaz1Q5ze89y"
   },
   "source": [
    "## 1. Basics"
   ]
  },
  {
   "cell_type": "code",
   "execution_count": 55,
   "metadata": {},
   "outputs": [],
   "source": [
    "import numpy as np"
   ]
  },
  {
   "cell_type": "code",
   "execution_count": 56,
   "metadata": {
    "colab": {
     "base_uri": "https://localhost:8080/"
    },
    "id": "FEXcF7cN9yaQ",
    "outputId": "03b4a98d-fb65-446f-e5cb-1fb23f3726b4"
   },
   "outputs": [
    {
     "data": {
      "text/plain": [
       "(array([1, 2, 3]), (3,))"
      ]
     },
     "execution_count": 56,
     "metadata": {},
     "output_type": "execute_result"
    }
   ],
   "source": [
    "a1 = np.array([1,2,3])\n",
    "a1,a1.shape"
   ]
  },
  {
   "cell_type": "code",
   "execution_count": 57,
   "metadata": {
    "colab": {
     "base_uri": "https://localhost:8080/"
    },
    "id": "Z5rcCynamAKu",
    "outputId": "81ac7d25-a2ca-47e7-d045-3056ef889ffc"
   },
   "outputs": [
    {
     "data": {
      "text/plain": [
       "numpy.ndarray"
      ]
     },
     "execution_count": 57,
     "metadata": {},
     "output_type": "execute_result"
    }
   ],
   "source": [
    "type(a1)"
   ]
  },
  {
   "cell_type": "code",
   "execution_count": 58,
   "metadata": {
    "colab": {
     "base_uri": "https://localhost:8080/"
    },
    "id": "ly7_6XVSmEYM",
    "outputId": "5c177f38-159b-417c-ebb4-2ab51ce90a60"
   },
   "outputs": [
    {
     "data": {
      "text/plain": [
       "(array([[1. , 2.5, 3.6],\n",
       "        [4.5, 5. , 6.7]]),\n",
       " (2, 3))"
      ]
     },
     "execution_count": 58,
     "metadata": {},
     "output_type": "execute_result"
    }
   ],
   "source": [
    "a2 = np.array([[1, 2.5, 3.6],\n",
    "               [4.5, 5, 6.7]])\n",
    "a2, a2.shape"
   ]
  },
  {
   "cell_type": "code",
   "execution_count": 59,
   "metadata": {
    "colab": {
     "base_uri": "https://localhost:8080/"
    },
    "id": "k7WlGCH9cdOB",
    "outputId": "412ddcf3-b5ab-4c3b-fa0f-7008446337b9"
   },
   "outputs": [
    {
     "data": {
      "text/plain": [
       "(array([[[ 1,  2,  3],\n",
       "         [ 4,  5,  6],\n",
       "         [ 7,  8,  9]],\n",
       " \n",
       "        [[10, 11, 12],\n",
       "         [13, 14, 15],\n",
       "         [16, 17, 18]]]),\n",
       " (2, 3, 3))"
      ]
     },
     "execution_count": 59,
     "metadata": {},
     "output_type": "execute_result"
    }
   ],
   "source": [
    "a3 = np.array([[[1,2,3],[4,5,6],[7,8,9]],[[10,11,12],[13,14,15],[16,17,18]]])\n",
    "a3, a3.shape"
   ]
  },
  {
   "cell_type": "code",
   "execution_count": 60,
   "metadata": {
    "colab": {
     "base_uri": "https://localhost:8080/"
    },
    "id": "1AGUv762eMG8",
    "outputId": "d7e6a249-dfde-4dc6-ffdf-497616c16db0"
   },
   "outputs": [
    {
     "data": {
      "text/plain": [
       "(1, 2, 3)"
      ]
     },
     "execution_count": 60,
     "metadata": {},
     "output_type": "execute_result"
    }
   ],
   "source": [
    "a1.ndim,a2.ndim,a3.ndim"
   ]
  },
  {
   "cell_type": "code",
   "execution_count": 61,
   "metadata": {
    "colab": {
     "base_uri": "https://localhost:8080/"
    },
    "id": "hbFXLdaveWrN",
    "outputId": "b3439b17-1b3a-496d-ed21-752840520d84"
   },
   "outputs": [
    {
     "data": {
      "text/plain": [
       "(   0\n",
       " 0  1\n",
       " 1  2\n",
       " 2  3,\n",
       "      0    1    2\n",
       " 0  1.0  2.5  3.6\n",
       " 1  4.5  5.0  6.7)"
      ]
     },
     "execution_count": 61,
     "metadata": {},
     "output_type": "execute_result"
    }
   ],
   "source": [
    "# Create a pandas dataframe from a numpy array\n",
    "import pandas as pd\n",
    "df1 = pd.DataFrame(a1)\n",
    "df2 = pd.DataFrame(a2)\n",
    "# df3 = pd.DataFrame(a3)  # can't do this as dataframes have 2-dimensions max\n",
    "df1,df2"
   ]
  },
  {
   "cell_type": "markdown",
   "metadata": {
    "id": "nB9QrXYGfBie"
   },
   "source": [
    "## 2. Creating Arrays\n",
    "\n",
    "\n"
   ]
  },
  {
   "cell_type": "code",
   "execution_count": 62,
   "metadata": {
    "colab": {
     "base_uri": "https://localhost:8080/"
    },
    "id": "ba5jw8G-fTW4",
    "outputId": "ed537919-ed82-43a8-d544-41e3f1baa163"
   },
   "outputs": [
    {
     "data": {
      "text/plain": [
       "(array([1, 2, 3]), dtype('int64'))"
      ]
     },
     "execution_count": 62,
     "metadata": {},
     "output_type": "execute_result"
    }
   ],
   "source": [
    "sample_array = np.array([1,2,3])\n",
    "sample_array, sample_array.dtype"
   ]
  },
  {
   "cell_type": "code",
   "execution_count": 63,
   "metadata": {
    "colab": {
     "base_uri": "https://localhost:8080/"
    },
    "id": "HU_s8FCufaDq",
    "outputId": "73d1891b-6d8a-4914-d3fd-9d82d9ecf19b"
   },
   "outputs": [
    {
     "data": {
      "text/plain": [
       "(array([[1., 1., 1., 1.],\n",
       "        [1., 1., 1., 1.]]),\n",
       " array([[0., 0., 0., 0.],\n",
       "        [0., 0., 0., 0.]]))"
      ]
     },
     "execution_count": 63,
     "metadata": {},
     "output_type": "execute_result"
    }
   ],
   "source": [
    "ones_1 = np.ones((1,3))\n",
    "ones = np.ones((2,4))\n",
    "zeros = np.zeros((2,4))\n",
    "ones, zeros"
   ]
  },
  {
   "cell_type": "code",
   "execution_count": 64,
   "metadata": {
    "colab": {
     "base_uri": "https://localhost:8080/"
    },
    "id": "N8qSXr0UoMo_",
    "outputId": "3e9f6e13-b9c8-47d7-a73c-434f4ebdc499"
   },
   "outputs": [
    {
     "data": {
      "text/plain": [
       "(dtype('float64'), dtype('float64'))"
      ]
     },
     "execution_count": 64,
     "metadata": {},
     "output_type": "execute_result"
    }
   ],
   "source": [
    "ones.dtype, zeros.dtype"
   ]
  },
  {
   "cell_type": "code",
   "execution_count": 65,
   "metadata": {
    "colab": {
     "base_uri": "https://localhost:8080/"
    },
    "id": "NUxGjtMSoke1",
    "outputId": "441249c0-6e67-440f-b0f4-68ab838dbef4"
   },
   "outputs": [
    {
     "data": {
      "text/plain": [
       "array([[8, 1, 3, 3, 3],\n",
       "       [7, 0, 1, 9, 9],\n",
       "       [0, 4, 7, 3, 2]])"
      ]
     },
     "execution_count": 65,
     "metadata": {},
     "output_type": "execute_result"
    }
   ],
   "source": [
    "random_array = np.random.randint(0,10,size=(3,5))\n",
    "random_array"
   ]
  },
  {
   "cell_type": "markdown",
   "metadata": {
    "id": "c5AlPWuApSZE"
   },
   "source": [
    "## 3. Random Seed  (random numbers stay constant)\n"
   ]
  },
  {
   "cell_type": "code",
   "execution_count": 66,
   "metadata": {
    "colab": {
     "base_uri": "https://localhost:8080/"
    },
    "id": "BYcDv6T3pWUZ",
    "outputId": "533b48c9-3292-4ab6-be70-15ab8a78e400"
   },
   "outputs": [
    {
     "data": {
      "text/plain": [
       "array([[6, 3, 7],\n",
       "       [4, 6, 9],\n",
       "       [2, 6, 7],\n",
       "       [4, 3, 7],\n",
       "       [7, 2, 5]])"
      ]
     },
     "execution_count": 66,
     "metadata": {},
     "output_type": "execute_result"
    }
   ],
   "source": [
    "np.random.seed(seed=42)\n",
    "random_array_4 = np.random.randint(0,10,size=(5,3))\n",
    "random_array_4"
   ]
  },
  {
   "cell_type": "markdown",
   "metadata": {
    "id": "7qhcKzGaqo2e"
   },
   "source": [
    "## 4. Viewing Arrays & Matrices\n",
    "\n",
    "\n"
   ]
  },
  {
   "cell_type": "code",
   "execution_count": 67,
   "metadata": {
    "colab": {
     "base_uri": "https://localhost:8080/"
    },
    "id": "SZQBQqwwqvhA",
    "outputId": "97a57852-4cd0-4e08-aa00-8cfbf23d3cbd"
   },
   "outputs": [
    {
     "data": {
      "text/plain": [
       "array([2, 3, 4, 5, 6, 7, 9])"
      ]
     },
     "execution_count": 67,
     "metadata": {},
     "output_type": "execute_result"
    }
   ],
   "source": [
    "np.unique(random_array_4)"
   ]
  },
  {
   "cell_type": "code",
   "execution_count": 68,
   "metadata": {
    "colab": {
     "base_uri": "https://localhost:8080/"
    },
    "id": "A_ttl7sDrHwX",
    "outputId": "8d66e773-59d0-42c9-d9e9-dc24e8569261"
   },
   "outputs": [
    {
     "data": {
      "text/plain": [
       "(array([1, 2, 3]), np.int64(1))"
      ]
     },
     "execution_count": 68,
     "metadata": {},
     "output_type": "execute_result"
    }
   ],
   "source": [
    "a1,a1[0]"
   ]
  },
  {
   "cell_type": "code",
   "execution_count": 69,
   "metadata": {
    "colab": {
     "base_uri": "https://localhost:8080/"
    },
    "id": "JzsZBX30rxft",
    "outputId": "a501499c-1e00-4afc-ed56-e57258f33587"
   },
   "outputs": [
    {
     "data": {
      "text/plain": [
       "(array([[1. , 2.5, 3.6],\n",
       "        [4.5, 5. , 6.7]]),\n",
       " array([4.5, 5. , 6.7]))"
      ]
     },
     "execution_count": 69,
     "metadata": {},
     "output_type": "execute_result"
    }
   ],
   "source": [
    "a2,a2[1]"
   ]
  },
  {
   "cell_type": "code",
   "execution_count": 70,
   "metadata": {
    "colab": {
     "base_uri": "https://localhost:8080/"
    },
    "id": "F7CY8DLwr9V4",
    "outputId": "31fefadc-0c43-46fc-8e58-50afb669b057"
   },
   "outputs": [
    {
     "data": {
      "text/plain": [
       "(array([[[ 1,  2,  3],\n",
       "         [ 4,  5,  6],\n",
       "         [ 7,  8,  9]],\n",
       " \n",
       "        [[10, 11, 12],\n",
       "         [13, 14, 15],\n",
       "         [16, 17, 18]]]),\n",
       " array([[1, 2, 3],\n",
       "        [4, 5, 6],\n",
       "        [7, 8, 9]]))"
      ]
     },
     "execution_count": 70,
     "metadata": {},
     "output_type": "execute_result"
    }
   ],
   "source": [
    "a3, a3[0]"
   ]
  },
  {
   "cell_type": "markdown",
   "metadata": {
    "id": "5xKDsfPYsMjK"
   },
   "source": [
    "### Slicing arrays"
   ]
  },
  {
   "cell_type": "code",
   "execution_count": 71,
   "metadata": {
    "colab": {
     "base_uri": "https://localhost:8080/"
    },
    "id": "SbCK7Fv3sK3q",
    "outputId": "740d2163-bfc9-4026-8155-584ab7e5c574"
   },
   "outputs": [
    {
     "data": {
      "text/plain": [
       "(array([[[ 1,  2,  3],\n",
       "         [ 4,  5,  6],\n",
       "         [ 7,  8,  9]],\n",
       " \n",
       "        [[10, 11, 12],\n",
       "         [13, 14, 15],\n",
       "         [16, 17, 18]]]),\n",
       " array([[[ 1,  2,  3],\n",
       "         [ 4,  5,  6]],\n",
       " \n",
       "        [[10, 11, 12],\n",
       "         [13, 14, 15]]]),\n",
       " array([[[ 1,  2],\n",
       "         [ 4,  5]],\n",
       " \n",
       "        [[10, 11],\n",
       "         [13, 14]]]))"
      ]
     },
     "execution_count": 71,
     "metadata": {},
     "output_type": "execute_result"
    }
   ],
   "source": [
    "a3[:2], a3[:2,:2], a3[:2,:2,:2]"
   ]
  },
  {
   "cell_type": "code",
   "execution_count": 72,
   "metadata": {
    "colab": {
     "base_uri": "https://localhost:8080/"
    },
    "id": "i21B57i3stUC",
    "outputId": "a79ee35d-dc63-4e94-97a0-1ee31f4a9995"
   },
   "outputs": [
    {
     "data": {
      "text/plain": [
       "array([[[[4, 1, 7, 5, 1],\n",
       "         [4, 0, 9, 5, 8],\n",
       "         [0, 9, 2, 6, 3],\n",
       "         [8, 2, 4, 2, 6]],\n",
       "\n",
       "        [[4, 8, 6, 1, 3],\n",
       "         [8, 1, 9, 8, 9],\n",
       "         [4, 1, 3, 6, 7],\n",
       "         [2, 0, 3, 1, 7]],\n",
       "\n",
       "        [[3, 1, 5, 5, 9],\n",
       "         [3, 5, 1, 9, 1],\n",
       "         [9, 3, 7, 6, 8],\n",
       "         [7, 4, 1, 4, 7]]],\n",
       "\n",
       "\n",
       "       [[[9, 8, 8, 0, 8],\n",
       "         [6, 8, 7, 0, 7],\n",
       "         [7, 2, 0, 7, 2],\n",
       "         [2, 0, 4, 9, 6]],\n",
       "\n",
       "        [[9, 8, 6, 8, 7],\n",
       "         [1, 0, 6, 6, 7],\n",
       "         [4, 2, 7, 5, 2],\n",
       "         [0, 2, 4, 2, 0]],\n",
       "\n",
       "        [[4, 9, 6, 6, 8],\n",
       "         [9, 9, 2, 6, 0],\n",
       "         [3, 3, 4, 6, 6],\n",
       "         [3, 6, 2, 5, 1]]]])"
      ]
     },
     "execution_count": 72,
     "metadata": {},
     "output_type": "execute_result"
    }
   ],
   "source": [
    "a4 = np.random.randint(10,size=(2,3,4,5))\n",
    "a4"
   ]
  },
  {
   "cell_type": "markdown",
   "metadata": {
    "id": "e33axf1ntEXX"
   },
   "source": [
    "#### Let's try to get the $8, 8$  in the array  $[9,8,8,0,8]$"
   ]
  },
  {
   "cell_type": "code",
   "execution_count": 73,
   "metadata": {
    "colab": {
     "base_uri": "https://localhost:8080/"
    },
    "id": "MSaCJz29tUKU",
    "outputId": "bf362cfd-89ad-45e0-86a1-d69218693a02"
   },
   "outputs": [
    {
     "data": {
      "text/plain": [
       "array([8, 8])"
      ]
     },
     "execution_count": 73,
     "metadata": {},
     "output_type": "execute_result"
    }
   ],
   "source": [
    "a4[1][0][0][1:3]"
   ]
  },
  {
   "cell_type": "code",
   "execution_count": 74,
   "metadata": {
    "colab": {
     "base_uri": "https://localhost:8080/"
    },
    "id": "O4CoESPzuFNF",
    "outputId": "582ed0b1-3364-48ee-e150-0cd611fa1544"
   },
   "outputs": [
    {
     "data": {
      "text/plain": [
       "array([[[[4, 1, 7, 5]],\n",
       "\n",
       "        [[4, 8, 6, 1]],\n",
       "\n",
       "        [[3, 1, 5, 5]]],\n",
       "\n",
       "\n",
       "       [[[9, 8, 8, 0]],\n",
       "\n",
       "        [[9, 8, 6, 8]],\n",
       "\n",
       "        [[4, 9, 6, 6]]]])"
      ]
     },
     "execution_count": 74,
     "metadata": {},
     "output_type": "execute_result"
    }
   ],
   "source": [
    "# Get the first 4 numbers of the inner-most arrays\n",
    "a4[:,:,:1,:4]"
   ]
  },
  {
   "cell_type": "markdown",
   "metadata": {
    "id": "1sO-r3Weu6zF"
   },
   "source": [
    "## 5. Manipulating and Comparing Arrays"
   ]
  },
  {
   "cell_type": "code",
   "execution_count": 75,
   "metadata": {
    "colab": {
     "base_uri": "https://localhost:8080/"
    },
    "id": "sOVqOJ0nvFhz",
    "outputId": "d70abbfa-c2a8-4c27-efda-1872aa24f3ca"
   },
   "outputs": [
    {
     "data": {
      "text/plain": [
       "(array([1, 2, 3]), array([101, 102, 103]))"
      ]
     },
     "execution_count": 75,
     "metadata": {},
     "output_type": "execute_result"
    }
   ],
   "source": [
    "# Arithmetic\n",
    "a1, a1 + 100"
   ]
  },
  {
   "cell_type": "code",
   "execution_count": 76,
   "metadata": {
    "colab": {
     "base_uri": "https://localhost:8080/"
    },
    "id": "YhUtFgwLvUS0",
    "outputId": "5e03886d-97e9-4281-931e-1c6a918c933b"
   },
   "outputs": [
    {
     "data": {
      "text/plain": [
       "(array([1, 2, 3]), array([[1., 1., 1.]]), array([[2., 3., 4.]]))"
      ]
     },
     "execution_count": 76,
     "metadata": {},
     "output_type": "execute_result"
    }
   ],
   "source": [
    "a1, ones_1, a1+ones_1"
   ]
  },
  {
   "cell_type": "code",
   "execution_count": 77,
   "metadata": {
    "colab": {
     "base_uri": "https://localhost:8080/"
    },
    "id": "SrIP7mX-vzc0",
    "outputId": "2a31a00e-ccb6-4917-aa91-6c290dc54670"
   },
   "outputs": [
    {
     "data": {
      "text/plain": [
       "array([1, 4, 9])"
      ]
     },
     "execution_count": 77,
     "metadata": {},
     "output_type": "execute_result"
    }
   ],
   "source": [
    "a1*a1"
   ]
  },
  {
   "cell_type": "code",
   "execution_count": 78,
   "metadata": {
    "colab": {
     "base_uri": "https://localhost:8080/"
    },
    "id": "k6KhvyI-v6eF",
    "outputId": "7fe83df0-ad7a-4b81-9670-e23c11d98307"
   },
   "outputs": [
    {
     "data": {
      "text/plain": [
       "np.int64(14)"
      ]
     },
     "execution_count": 78,
     "metadata": {},
     "output_type": "execute_result"
    }
   ],
   "source": [
    "np.dot(a1,a1)"
   ]
  },
  {
   "cell_type": "code",
   "execution_count": 79,
   "metadata": {
    "colab": {
     "base_uri": "https://localhost:8080/"
    },
    "id": "Co5yG37cwZc5",
    "outputId": "6d80100a-2e85-4eed-ca60-6f718b451f93"
   },
   "outputs": [
    {
     "data": {
      "text/plain": [
       "(array([[1. , 2.5, 3.6],\n",
       "        [4.5, 5. , 6.7]]),\n",
       " array([[ 1.  ,  6.25, 12.96],\n",
       "        [20.25, 25.  , 44.89]]))"
      ]
     },
     "execution_count": 79,
     "metadata": {},
     "output_type": "execute_result"
    }
   ],
   "source": [
    "a2, a2*a2"
   ]
  },
  {
   "cell_type": "code",
   "execution_count": 80,
   "metadata": {
    "colab": {
     "base_uri": "https://localhost:8080/"
    },
    "id": "GwWqh7aEw2Bq",
    "outputId": "849b9378-2289-4859-d82d-40be07fed4df"
   },
   "outputs": [
    {
     "data": {
      "text/plain": [
       "(array([[1. , 2.5, 3.6],\n",
       "        [4.5, 5. , 6.7]]),\n",
       " array([[1. , 4.5],\n",
       "        [2.5, 5. ],\n",
       "        [3.6, 6.7]]),\n",
       " array([[20.21, 41.12],\n",
       "        [41.12, 90.14]]))"
      ]
     },
     "execution_count": 80,
     "metadata": {},
     "output_type": "execute_result"
    }
   ],
   "source": [
    "a2,np.transpose(a2), np.dot(a2,np.transpose(a2))"
   ]
  },
  {
   "cell_type": "code",
   "execution_count": 81,
   "metadata": {
    "colab": {
     "base_uri": "https://localhost:8080/"
    },
    "id": "pKaoamK3xirW",
    "outputId": "44ea5aca-c138-4fbb-dd2e-8d641b4e6241"
   },
   "outputs": [
    {
     "data": {
      "text/plain": [
       "(array([[[ 1,  2,  3],\n",
       "         [ 4,  5,  6],\n",
       "         [ 7,  8,  9]],\n",
       " \n",
       "        [[10, 11, 12],\n",
       "         [13, 14, 15],\n",
       "         [16, 17, 18]]]),\n",
       " array([[[ 1, 10],\n",
       "         [ 4, 13],\n",
       "         [ 7, 16]],\n",
       " \n",
       "        [[ 2, 11],\n",
       "         [ 5, 14],\n",
       "         [ 8, 17]],\n",
       " \n",
       "        [[ 3, 12],\n",
       "         [ 6, 15],\n",
       "         [ 9, 18]]]),\n",
       " array([[[[ 30,  84],\n",
       "          [ 36,  90],\n",
       "          [ 42,  96]],\n",
       " \n",
       "         [[ 66, 201],\n",
       "          [ 81, 216],\n",
       "          [ 96, 231]],\n",
       " \n",
       "         [[102, 318],\n",
       "          [126, 342],\n",
       "          [150, 366]]],\n",
       " \n",
       " \n",
       "        [[[138, 435],\n",
       "          [171, 468],\n",
       "          [204, 501]],\n",
       " \n",
       "         [[174, 552],\n",
       "          [216, 594],\n",
       "          [258, 636]],\n",
       " \n",
       "         [[210, 669],\n",
       "          [261, 720],\n",
       "          [312, 771]]]]))"
      ]
     },
     "execution_count": 81,
     "metadata": {},
     "output_type": "execute_result"
    }
   ],
   "source": [
    "a3,np.transpose(a3), np.dot(a3,np.transpose(a3))"
   ]
  },
  {
   "cell_type": "code",
   "execution_count": 82,
   "metadata": {
    "colab": {
     "base_uri": "https://localhost:8080/"
    },
    "id": "EIdMs4RTytOo",
    "outputId": "6b0abd05-e7b8-415d-ad76-a87dd2c2d3c3"
   },
   "outputs": [
    {
     "data": {
      "text/plain": [
       "(array([[[[4, 1, 7, 5, 1],\n",
       "          [4, 0, 9, 5, 8],\n",
       "          [0, 9, 2, 6, 3],\n",
       "          [8, 2, 4, 2, 6]],\n",
       " \n",
       "         [[4, 8, 6, 1, 3],\n",
       "          [8, 1, 9, 8, 9],\n",
       "          [4, 1, 3, 6, 7],\n",
       "          [2, 0, 3, 1, 7]],\n",
       " \n",
       "         [[3, 1, 5, 5, 9],\n",
       "          [3, 5, 1, 9, 1],\n",
       "          [9, 3, 7, 6, 8],\n",
       "          [7, 4, 1, 4, 7]]],\n",
       " \n",
       " \n",
       "        [[[9, 8, 8, 0, 8],\n",
       "          [6, 8, 7, 0, 7],\n",
       "          [7, 2, 0, 7, 2],\n",
       "          [2, 0, 4, 9, 6]],\n",
       " \n",
       "         [[9, 8, 6, 8, 7],\n",
       "          [1, 0, 6, 6, 7],\n",
       "          [4, 2, 7, 5, 2],\n",
       "          [0, 2, 4, 2, 0]],\n",
       " \n",
       "         [[4, 9, 6, 6, 8],\n",
       "          [9, 9, 2, 6, 0],\n",
       "          [3, 3, 4, 6, 6],\n",
       "          [3, 6, 2, 5, 1]]]]),\n",
       " np.int64(559))"
      ]
     },
     "execution_count": 82,
     "metadata": {},
     "output_type": "execute_result"
    }
   ],
   "source": [
    "a4, np.sum(a4)"
   ]
  },
  {
   "cell_type": "markdown",
   "metadata": {
    "id": "_JF78j1vzrHg"
   },
   "source": [
    "## 6. Comparing Numpy and Pandas functions"
   ]
  },
  {
   "cell_type": "code",
   "execution_count": 83,
   "metadata": {
    "colab": {
     "base_uri": "https://localhost:8080/"
    },
    "id": "fFzsg8Knzpx4",
    "outputId": "233d10f4-1957-47c3-93ca-fd2004dc043a"
   },
   "outputs": [
    {
     "data": {
      "text/plain": [
       "array([0.62435405, 0.29563369, 0.10549426, 0.45653457, 0.21844044,\n",
       "       0.41650995, 0.88328026, 0.32434502, 0.12208795, 0.35629784])"
      ]
     },
     "execution_count": 83,
     "metadata": {},
     "output_type": "execute_result"
    }
   ],
   "source": [
    "massive_array = np.random.random(1000000)\n",
    "massive_array[:10]"
   ]
  },
  {
   "cell_type": "code",
   "execution_count": 84,
   "metadata": {
    "colab": {
     "base_uri": "https://localhost:8080/"
    },
    "id": "_x4gorO_z2wF",
    "outputId": "93d4b1d8-f6a8-4101-d7f9-1edbf4bf7f71"
   },
   "outputs": [
    {
     "name": "stdout",
     "output_type": "stream",
     "text": [
      "42 ms ± 309 μs per loop (mean ± std. dev. of 7 runs, 10 loops each)\n",
      "207 μs ± 9.08 μs per loop (mean ± std. dev. of 7 runs, 10,000 loops each)\n"
     ]
    }
   ],
   "source": [
    "%timeit sum(massive_array)  # Python\n",
    "%timeit np.sum(massive_array)  # Numpy is approximately 17x faster than Python"
   ]
  },
  {
   "cell_type": "markdown",
   "metadata": {
    "id": "IIHkiS5Ct2FO"
   },
   "source": [
    "## 7. Aggregations"
   ]
  },
  {
   "cell_type": "code",
   "execution_count": 85,
   "metadata": {
    "colab": {
     "base_uri": "https://localhost:8080/"
    },
    "id": "xW8bZmojFIyi",
    "outputId": "e0dd5532-0a4c-49f8-ce1c-c3c4ff6cc3f8"
   },
   "outputs": [
    {
     "data": {
      "text/plain": [
       "(array([[1. , 2.5, 3.6],\n",
       "        [4.5, 5. , 6.7]]),\n",
       " np.float64(3.8833333333333333),\n",
       " np.float64(6.7),\n",
       " np.float64(1.0),\n",
       " np.float64(1.8197222010210483),\n",
       " np.float64(3.3113888888888887),\n",
       " np.float64(1.8197222010210483),\n",
       " np.int64(5),\n",
       " np.int64(0))"
      ]
     },
     "execution_count": 85,
     "metadata": {},
     "output_type": "execute_result"
    }
   ],
   "source": [
    "a2, np.mean(a2), np.max(a2), np.min(a2), np.std(a2), np.var(a2), np.sqrt(np.var(a2)), np.argmax(a2), np.argmin(a2)"
   ]
  },
  {
   "cell_type": "code",
   "execution_count": 86,
   "metadata": {
    "colab": {
     "base_uri": "https://localhost:8080/"
    },
    "id": "v8nUE_7MD3d7",
    "outputId": "1f2cfc4c-ba30-46f4-ec02-f16274b391c9"
   },
   "outputs": [
    {
     "data": {
      "text/plain": [
       "(array([[1. , 2.5, 3.6],\n",
       "        [4.5, 5. , 6.7]]),\n",
       " array([2.36666667, 5.4       ]))"
      ]
     },
     "execution_count": 86,
     "metadata": {},
     "output_type": "execute_result"
    }
   ],
   "source": [
    "a2, np.mean(a2,axis=1)"
   ]
  },
  {
   "cell_type": "markdown",
   "metadata": {
    "id": "vV_vCQr1F_gj"
   },
   "source": [
    "## 8. Reshaping and Transposing"
   ]
  },
  {
   "cell_type": "code",
   "execution_count": 87,
   "metadata": {
    "colab": {
     "base_uri": "https://localhost:8080/",
     "height": 139
    },
    "id": "MMX_ARP9GzB8",
    "outputId": "986c90e9-4ec8-402f-8c4b-f4ceed256665"
   },
   "outputs": [],
   "source": [
    "# a3*a2  # this will throw an error as the shapes are not aligned"
   ]
  },
  {
   "cell_type": "code",
   "execution_count": 88,
   "metadata": {
    "colab": {
     "base_uri": "https://localhost:8080/"
    },
    "id": "j4YR7R-cGC_u",
    "outputId": "f6df1bdb-c9b2-46a3-c2c3-4583fbb77f57"
   },
   "outputs": [
    {
     "data": {
      "text/plain": [
       "(array([[1. , 2.5, 3.6],\n",
       "        [4.5, 5. , 6.7]]),\n",
       " (2, 3),\n",
       " array([[[1. ],\n",
       "         [2.5],\n",
       "         [3.6]],\n",
       " \n",
       "        [[4.5],\n",
       "         [5. ],\n",
       "         [6.7]]]))"
      ]
     },
     "execution_count": 88,
     "metadata": {},
     "output_type": "execute_result"
    }
   ],
   "source": [
    "a2, a2.shape, a2.reshape(2,3,1)"
   ]
  },
  {
   "cell_type": "code",
   "execution_count": 89,
   "metadata": {
    "colab": {
     "base_uri": "https://localhost:8080/"
    },
    "id": "WK82ghA0G5su",
    "outputId": "d472902f-fc78-422d-e977-d25664cabb5a"
   },
   "outputs": [
    {
     "data": {
      "text/plain": [
       "array([[[  1. ,   2. ,   3. ],\n",
       "        [ 10. ,  12.5,  15. ],\n",
       "        [ 25.2,  28.8,  32.4]],\n",
       "\n",
       "       [[ 45. ,  49.5,  54. ],\n",
       "        [ 65. ,  70. ,  75. ],\n",
       "        [107.2, 113.9, 120.6]]])"
      ]
     },
     "execution_count": 89,
     "metadata": {},
     "output_type": "execute_result"
    }
   ],
   "source": [
    "a2_reshaped = a2.reshape(2,3,1)\n",
    "a3*a2_reshaped"
   ]
  },
  {
   "cell_type": "code",
   "execution_count": 90,
   "metadata": {
    "colab": {
     "base_uri": "https://localhost:8080/",
     "height": 139
    },
    "id": "SFO-A7atHVK4",
    "outputId": "603a6518-0d05-4049-fe7a-df17ea3d07e0"
   },
   "outputs": [],
   "source": [
    "# a2*a2.T  # This will not work as the shapes are not aligned"
   ]
  },
  {
   "cell_type": "code",
   "execution_count": 91,
   "metadata": {
    "colab": {
     "base_uri": "https://localhost:8080/"
    },
    "id": "riYr_sQtHrx7",
    "outputId": "ee1b5b4d-81f8-4e0a-98e9-57f2d52f3bca"
   },
   "outputs": [
    {
     "data": {
      "text/plain": [
       "(array([[[[4, 1, 7, 5, 1],\n",
       "          [4, 0, 9, 5, 8],\n",
       "          [0, 9, 2, 6, 3],\n",
       "          [8, 2, 4, 2, 6]],\n",
       " \n",
       "         [[4, 8, 6, 1, 3],\n",
       "          [8, 1, 9, 8, 9],\n",
       "          [4, 1, 3, 6, 7],\n",
       "          [2, 0, 3, 1, 7]],\n",
       " \n",
       "         [[3, 1, 5, 5, 9],\n",
       "          [3, 5, 1, 9, 1],\n",
       "          [9, 3, 7, 6, 8],\n",
       "          [7, 4, 1, 4, 7]]],\n",
       " \n",
       " \n",
       "        [[[9, 8, 8, 0, 8],\n",
       "          [6, 8, 7, 0, 7],\n",
       "          [7, 2, 0, 7, 2],\n",
       "          [2, 0, 4, 9, 6]],\n",
       " \n",
       "         [[9, 8, 6, 8, 7],\n",
       "          [1, 0, 6, 6, 7],\n",
       "          [4, 2, 7, 5, 2],\n",
       "          [0, 2, 4, 2, 0]],\n",
       " \n",
       "         [[4, 9, 6, 6, 8],\n",
       "          [9, 9, 2, 6, 0],\n",
       "          [3, 3, 4, 6, 6],\n",
       "          [3, 6, 2, 5, 1]]]]),\n",
       " array([[[[4, 9],\n",
       "          [4, 9],\n",
       "          [3, 4]],\n",
       " \n",
       "         [[4, 6],\n",
       "          [8, 1],\n",
       "          [3, 9]],\n",
       " \n",
       "         [[0, 7],\n",
       "          [4, 4],\n",
       "          [9, 3]],\n",
       " \n",
       "         [[8, 2],\n",
       "          [2, 0],\n",
       "          [7, 3]]],\n",
       " \n",
       " \n",
       "        [[[1, 8],\n",
       "          [8, 8],\n",
       "          [1, 9]],\n",
       " \n",
       "         [[0, 8],\n",
       "          [1, 0],\n",
       "          [5, 9]],\n",
       " \n",
       "         [[9, 2],\n",
       "          [1, 2],\n",
       "          [3, 3]],\n",
       " \n",
       "         [[2, 0],\n",
       "          [0, 2],\n",
       "          [4, 6]]],\n",
       " \n",
       " \n",
       "        [[[7, 8],\n",
       "          [6, 6],\n",
       "          [5, 6]],\n",
       " \n",
       "         [[9, 7],\n",
       "          [9, 6],\n",
       "          [1, 2]],\n",
       " \n",
       "         [[2, 0],\n",
       "          [3, 7],\n",
       "          [7, 4]],\n",
       " \n",
       "         [[4, 4],\n",
       "          [3, 4],\n",
       "          [1, 2]]],\n",
       " \n",
       " \n",
       "        [[[5, 0],\n",
       "          [1, 8],\n",
       "          [5, 6]],\n",
       " \n",
       "         [[5, 0],\n",
       "          [8, 6],\n",
       "          [9, 6]],\n",
       " \n",
       "         [[6, 7],\n",
       "          [6, 5],\n",
       "          [6, 6]],\n",
       " \n",
       "         [[2, 9],\n",
       "          [1, 2],\n",
       "          [4, 5]]],\n",
       " \n",
       " \n",
       "        [[[1, 8],\n",
       "          [3, 7],\n",
       "          [9, 8]],\n",
       " \n",
       "         [[8, 7],\n",
       "          [9, 7],\n",
       "          [1, 0]],\n",
       " \n",
       "         [[3, 2],\n",
       "          [7, 2],\n",
       "          [8, 6]],\n",
       " \n",
       "         [[6, 6],\n",
       "          [7, 0],\n",
       "          [7, 1]]]]))"
      ]
     },
     "execution_count": 91,
     "metadata": {},
     "output_type": "execute_result"
    }
   ],
   "source": [
    "a4, a4.T"
   ]
  },
  {
   "cell_type": "code",
   "execution_count": 92,
   "metadata": {
    "colab": {
     "base_uri": "https://localhost:8080/"
    },
    "id": "SMij2gkYIAv2",
    "outputId": "0e704a16-ef38-40be-c50e-0c2662cb064e"
   },
   "outputs": [
    {
     "data": {
      "text/plain": [
       "(array([1, 2, 3]), array([1, 4, 9]), array([1, 4, 9]))"
      ]
     },
     "execution_count": 92,
     "metadata": {},
     "output_type": "execute_result"
    }
   ],
   "source": [
    "a1, a1*a1, a1*a1.T"
   ]
  },
  {
   "cell_type": "markdown",
   "metadata": {
    "id": "AjlaAnkNjC6V"
   },
   "source": [
    "## 9. Butter Sales Example"
   ]
  },
  {
   "cell_type": "code",
   "execution_count": 93,
   "metadata": {
    "colab": {
     "base_uri": "https://localhost:8080/"
    },
    "id": "mPyPfqmBjG6n",
    "outputId": "a838581c-4ab1-4103-ac63-cb118d322702"
   },
   "outputs": [
    {
     "data": {
      "text/plain": [
       "array([[12, 15,  0],\n",
       "       [ 3,  3,  7],\n",
       "       [ 9, 19, 18],\n",
       "       [ 4,  6, 12],\n",
       "       [ 1,  6,  7]])"
      ]
     },
     "execution_count": 93,
     "metadata": {},
     "output_type": "execute_result"
    }
   ],
   "source": [
    "np.random.seed(0)\n",
    "sales_amounts = np.random.randint(20,size=(5,3))\n",
    "sales_amounts"
   ]
  },
  {
   "cell_type": "code",
   "execution_count": 94,
   "metadata": {
    "colab": {
     "base_uri": "https://localhost:8080/",
     "height": 204
    },
    "id": "sDrNJ3UMjRUw",
    "outputId": "d9993633-c904-4af2-9f66-73bf6cf5b256"
   },
   "outputs": [
    {
     "data": {
      "text/html": [
       "<div>\n",
       "<style scoped>\n",
       "    .dataframe tbody tr th:only-of-type {\n",
       "        vertical-align: middle;\n",
       "    }\n",
       "\n",
       "    .dataframe tbody tr th {\n",
       "        vertical-align: top;\n",
       "    }\n",
       "\n",
       "    .dataframe thead th {\n",
       "        text-align: right;\n",
       "    }\n",
       "</style>\n",
       "<table border=\"1\" class=\"dataframe\">\n",
       "  <thead>\n",
       "    <tr style=\"text-align: right;\">\n",
       "      <th></th>\n",
       "      <th>Almond Butter</th>\n",
       "      <th>Peanut Butter</th>\n",
       "      <th>Cashew Butter</th>\n",
       "    </tr>\n",
       "  </thead>\n",
       "  <tbody>\n",
       "    <tr>\n",
       "      <th>Mon</th>\n",
       "      <td>12</td>\n",
       "      <td>15</td>\n",
       "      <td>0</td>\n",
       "    </tr>\n",
       "    <tr>\n",
       "      <th>Tues</th>\n",
       "      <td>3</td>\n",
       "      <td>3</td>\n",
       "      <td>7</td>\n",
       "    </tr>\n",
       "    <tr>\n",
       "      <th>Wed</th>\n",
       "      <td>9</td>\n",
       "      <td>19</td>\n",
       "      <td>18</td>\n",
       "    </tr>\n",
       "    <tr>\n",
       "      <th>Thurs</th>\n",
       "      <td>4</td>\n",
       "      <td>6</td>\n",
       "      <td>12</td>\n",
       "    </tr>\n",
       "    <tr>\n",
       "      <th>Fri</th>\n",
       "      <td>1</td>\n",
       "      <td>6</td>\n",
       "      <td>7</td>\n",
       "    </tr>\n",
       "  </tbody>\n",
       "</table>\n",
       "</div>"
      ],
      "text/plain": [
       "       Almond Butter  Peanut Butter  Cashew Butter\n",
       "Mon               12             15              0\n",
       "Tues               3              3              7\n",
       "Wed                9             19             18\n",
       "Thurs              4              6             12\n",
       "Fri                1              6              7"
      ]
     },
     "execution_count": 94,
     "metadata": {},
     "output_type": "execute_result"
    }
   ],
   "source": [
    "# Create weekly sales dataframe\n",
    "\n",
    "weekly_sales = pd.DataFrame(sales_amounts,index=[\"Mon\",\"Tues\",\"Wed\",\"Thurs\",\"Fri\"],columns=[\"Almond Butter\",\"Peanut Butter\",\"Cashew Butter\"])\n",
    "weekly_sales"
   ]
  },
  {
   "cell_type": "code",
   "execution_count": 95,
   "metadata": {
    "colab": {
     "base_uri": "https://localhost:8080/",
     "height": 89
    },
    "id": "eTDh_UsWjfpn",
    "outputId": "44afcb59-53f1-49a4-86cb-56ab9f765007"
   },
   "outputs": [
    {
     "data": {
      "text/html": [
       "<div>\n",
       "<style scoped>\n",
       "    .dataframe tbody tr th:only-of-type {\n",
       "        vertical-align: middle;\n",
       "    }\n",
       "\n",
       "    .dataframe tbody tr th {\n",
       "        vertical-align: top;\n",
       "    }\n",
       "\n",
       "    .dataframe thead th {\n",
       "        text-align: right;\n",
       "    }\n",
       "</style>\n",
       "<table border=\"1\" class=\"dataframe\">\n",
       "  <thead>\n",
       "    <tr style=\"text-align: right;\">\n",
       "      <th></th>\n",
       "      <th>Almond Butter</th>\n",
       "      <th>Peanut Butter</th>\n",
       "      <th>Cashew Butter</th>\n",
       "    </tr>\n",
       "  </thead>\n",
       "  <tbody>\n",
       "    <tr>\n",
       "      <th>Price</th>\n",
       "      <td>10</td>\n",
       "      <td>8</td>\n",
       "      <td>12</td>\n",
       "    </tr>\n",
       "  </tbody>\n",
       "</table>\n",
       "</div>"
      ],
      "text/plain": [
       "       Almond Butter  Peanut Butter  Cashew Butter\n",
       "Price             10              8             12"
      ]
     },
     "execution_count": 95,
     "metadata": {},
     "output_type": "execute_result"
    }
   ],
   "source": [
    "# Create butter prices dataframe\n",
    "prices = np.array([10,8,12])\n",
    "prices_df = pd.DataFrame(prices.reshape(1,3),index=[\"Price\"],columns=[\"Almond Butter\",\"Peanut Butter\",\"Cashew Butter\"])\n",
    "prices_df"
   ]
  },
  {
   "cell_type": "code",
   "execution_count": 96,
   "metadata": {
    "colab": {
     "base_uri": "https://localhost:8080/"
    },
    "id": "wmSm0rj-jpHE",
    "outputId": "d1005195-57ee-4fb2-b577-3d8237e0e937"
   },
   "outputs": [
    {
     "data": {
      "text/plain": [
       "(array([240, 138, 458, 232, 142]), np.int64(1210))"
      ]
     },
     "execution_count": 96,
     "metadata": {},
     "output_type": "execute_result"
    }
   ],
   "source": [
    "sales_by_day = np.dot(weekly_sales,prices)\n",
    "weekly_sales = np.sum(sales_by_day)\n",
    "sales_by_day,weekly_sales"
   ]
  },
  {
   "cell_type": "markdown",
   "metadata": {
    "id": "Tax6U8jmr0sq"
   },
   "source": [
    "## 10. Comparison Operators"
   ]
  },
  {
   "cell_type": "code",
   "execution_count": 97,
   "metadata": {
    "colab": {
     "base_uri": "https://localhost:8080/"
    },
    "id": "EiiZxVyvr3mV",
    "outputId": "306cb98f-a1af-45a0-d35a-e5cf61eac49a"
   },
   "outputs": [
    {
     "data": {
      "text/plain": [
       "(array([1, 2, 3]),\n",
       " array([[1. , 2.5, 3.6],\n",
       "        [4.5, 5. , 6.7]]))"
      ]
     },
     "execution_count": 97,
     "metadata": {},
     "output_type": "execute_result"
    }
   ],
   "source": [
    "a1, a2"
   ]
  },
  {
   "cell_type": "code",
   "execution_count": 98,
   "metadata": {
    "colab": {
     "base_uri": "https://localhost:8080/"
    },
    "id": "3gAU24THr79w",
    "outputId": "8752193f-b666-4c8b-98dc-a6a5e2b70d88"
   },
   "outputs": [
    {
     "data": {
      "text/plain": [
       "(array([[False, False, False],\n",
       "        [False, False, False]]),\n",
       " array([[False,  True,  True],\n",
       "        [ True,  True,  True]]))"
      ]
     },
     "execution_count": 98,
     "metadata": {},
     "output_type": "execute_result"
    }
   ],
   "source": [
    "a1>a2, a2>a1"
   ]
  },
  {
   "cell_type": "code",
   "execution_count": 99,
   "metadata": {
    "colab": {
     "base_uri": "https://localhost:8080/"
    },
    "id": "1_53B9WlsYvc",
    "outputId": "2016753a-a347-4c35-88de-490a89b6c502"
   },
   "outputs": [
    {
     "data": {
      "text/plain": [
       "array([[ True, False, False],\n",
       "       [False, False, False]])"
      ]
     },
     "execution_count": 99,
     "metadata": {},
     "output_type": "execute_result"
    }
   ],
   "source": [
    "a1==a2"
   ]
  },
  {
   "cell_type": "markdown",
   "metadata": {
    "id": "DaoWfy3xsk-y"
   },
   "source": [
    "## 11. Sorting Arrays"
   ]
  },
  {
   "cell_type": "code",
   "execution_count": 100,
   "metadata": {
    "colab": {
     "base_uri": "https://localhost:8080/"
    },
    "id": "ougY2J7ssn9a",
    "outputId": "634e9048-5153-444b-edfc-220c62c9d146"
   },
   "outputs": [
    {
     "data": {
      "text/plain": [
       "array([[7, 8, 1, 5, 9],\n",
       "       [8, 9, 4, 3, 0],\n",
       "       [3, 5, 0, 2, 3]])"
      ]
     },
     "execution_count": 100,
     "metadata": {},
     "output_type": "execute_result"
    }
   ],
   "source": [
    "random_array = np.random.randint(10,size=(3,5))\n",
    "random_array"
   ]
  },
  {
   "cell_type": "code",
   "execution_count": 101,
   "metadata": {
    "colab": {
     "base_uri": "https://localhost:8080/"
    },
    "id": "gOHNlGHFs1rQ",
    "outputId": "7f23d45e-82f6-4d53-dda1-f97190313858"
   },
   "outputs": [
    {
     "data": {
      "text/plain": [
       "array([[1, 5, 7, 8, 9],\n",
       "       [0, 3, 4, 8, 9],\n",
       "       [0, 2, 3, 3, 5]])"
      ]
     },
     "execution_count": 101,
     "metadata": {},
     "output_type": "execute_result"
    }
   ],
   "source": [
    "np.sort(random_array)"
   ]
  },
  {
   "cell_type": "code",
   "execution_count": 102,
   "metadata": {
    "colab": {
     "base_uri": "https://localhost:8080/"
    },
    "id": "i46MUkEAtFjc",
    "outputId": "9ab3bb2b-e4ac-4698-ebfd-902ffa48fd13"
   },
   "outputs": [
    {
     "data": {
      "text/plain": [
       "array([[2, 3, 0, 1, 4],\n",
       "       [4, 3, 2, 0, 1],\n",
       "       [2, 3, 0, 4, 1]])"
      ]
     },
     "execution_count": 102,
     "metadata": {},
     "output_type": "execute_result"
    }
   ],
   "source": [
    "np.argsort(random_array)"
   ]
  },
  {
   "cell_type": "code",
   "execution_count": 103,
   "metadata": {
    "colab": {
     "base_uri": "https://localhost:8080/"
    },
    "id": "IT0PfgAAtdPb",
    "outputId": "ddfc4ad6-8671-449a-8335-ef633015ad74"
   },
   "outputs": [
    {
     "data": {
      "text/plain": [
       "array([1, 1, 1, 0, 0])"
      ]
     },
     "execution_count": 103,
     "metadata": {},
     "output_type": "execute_result"
    }
   ],
   "source": [
    "np.argmax(random_array,axis=0)"
   ]
  },
  {
   "cell_type": "code",
   "execution_count": 104,
   "metadata": {
    "colab": {
     "base_uri": "https://localhost:8080/"
    },
    "id": "o-y23FGvtT09",
    "outputId": "0922320b-4501-433d-9723-7876a26afd90"
   },
   "outputs": [
    {
     "data": {
      "text/plain": [
       "array([4, 1, 1])"
      ]
     },
     "execution_count": 104,
     "metadata": {},
     "output_type": "execute_result"
    }
   ],
   "source": [
    "np.argmax(random_array,axis=1)"
   ]
  },
  {
   "cell_type": "markdown",
   "metadata": {
    "id": "IPZQVopgtqkc"
   },
   "source": [
    "## 12. Practical Example"
   ]
  },
  {
   "cell_type": "markdown",
   "metadata": {},
   "source": [
    "<img src=\"images/numpy-images/panda.png\">"
   ]
  },
  {
   "cell_type": "code",
   "execution_count": 106,
   "metadata": {},
   "outputs": [
    {
     "data": {
      "text/plain": [
       "array([[[0.05490196, 0.10588235, 0.06666667],\n",
       "        [0.05490196, 0.10588235, 0.06666667],\n",
       "        [0.05490196, 0.10588235, 0.06666667],\n",
       "        ...,\n",
       "        [0.16470589, 0.12941177, 0.09411765],\n",
       "        [0.16470589, 0.12941177, 0.09411765],\n",
       "        [0.16470589, 0.12941177, 0.09411765]],\n",
       "\n",
       "       [[0.05490196, 0.10588235, 0.06666667],\n",
       "        [0.05490196, 0.10588235, 0.06666667],\n",
       "        [0.05490196, 0.10588235, 0.06666667],\n",
       "        ...,\n",
       "        [0.16470589, 0.12941177, 0.09411765],\n",
       "        [0.16470589, 0.12941177, 0.09411765],\n",
       "        [0.16470589, 0.12941177, 0.09411765]],\n",
       "\n",
       "       [[0.05490196, 0.10588235, 0.06666667],\n",
       "        [0.05490196, 0.10588235, 0.06666667],\n",
       "        [0.05490196, 0.10588235, 0.06666667],\n",
       "        ...,\n",
       "        [0.16470589, 0.12941177, 0.09411765],\n",
       "        [0.16470589, 0.12941177, 0.09411765],\n",
       "        [0.16470589, 0.12941177, 0.09411765]],\n",
       "\n",
       "       ...,\n",
       "\n",
       "       [[0.13333334, 0.07450981, 0.05490196],\n",
       "        [0.12156863, 0.0627451 , 0.04313726],\n",
       "        [0.10980392, 0.05098039, 0.03137255],\n",
       "        ...,\n",
       "        [0.02745098, 0.02745098, 0.03529412],\n",
       "        [0.02745098, 0.02745098, 0.03529412],\n",
       "        [0.02745098, 0.02745098, 0.03529412]],\n",
       "\n",
       "       [[0.13333334, 0.07450981, 0.05490196],\n",
       "        [0.12156863, 0.0627451 , 0.04313726],\n",
       "        [0.12156863, 0.0627451 , 0.04313726],\n",
       "        ...,\n",
       "        [0.02352941, 0.02352941, 0.03137255],\n",
       "        [0.02352941, 0.02352941, 0.03137255],\n",
       "        [0.02352941, 0.02352941, 0.03137255]],\n",
       "\n",
       "       [[0.13333334, 0.07450981, 0.05490196],\n",
       "        [0.12156863, 0.0627451 , 0.04313726],\n",
       "        [0.12156863, 0.0627451 , 0.04313726],\n",
       "        ...,\n",
       "        [0.02352941, 0.02352941, 0.03137255],\n",
       "        [0.02352941, 0.02352941, 0.03137255],\n",
       "        [0.02352941, 0.02352941, 0.03137255]]],\n",
       "      shape=(2330, 3500, 3), dtype=float32)"
      ]
     },
     "execution_count": 106,
     "metadata": {},
     "output_type": "execute_result"
    }
   ],
   "source": [
    "from matplotlib.image import imread\n",
    "\n",
    "panda_array = imread(\"images/numpy-images/panda.png\")\n",
    "panda_array"
   ]
  }
 ],
 "metadata": {
  "colab": {
   "provenance": []
  },
  "kernelspec": {
   "display_name": "Python 3 (ipykernel)",
   "language": "python",
   "name": "python3"
  },
  "language_info": {
   "codemirror_mode": {
    "name": "ipython",
    "version": 3
   },
   "file_extension": ".py",
   "mimetype": "text/x-python",
   "name": "python",
   "nbconvert_exporter": "python",
   "pygments_lexer": "ipython3",
   "version": "3.11.11"
  }
 },
 "nbformat": 4,
 "nbformat_minor": 4
}
